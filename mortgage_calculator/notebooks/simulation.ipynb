{
 "cells": [
  {
   "cell_type": "code",
   "execution_count": 372,
   "id": "9cc9c686-c6e9-474a-9163-42e9f0069f57",
   "metadata": {},
   "outputs": [],
   "source": [
    "from math import *\n",
    "\n",
    "import numpy as np\n",
    "import pandas as pd\n",
    "import plotly.graph_objs as go\n",
    "\n",
    "from mortgage_calculator.utils import *\n",
    "from mortgage_calculator.utils_finance import *"
   ]
  },
  {
   "cell_type": "code",
   "execution_count": 373,
   "id": "49822e99-458a-4c6a-b748-a8c65ab52fe3",
   "metadata": {},
   "outputs": [],
   "source": [
    "pd.set_option('display.max_rows', 500)\n",
    "pd.set_option('display.max_columns', 500)\n",
    "pd.set_option('display.width', 1000)"
   ]
  },
  {
   "cell_type": "code",
   "execution_count": 374,
   "id": "cf285aeb-3618-4fc2-9fb9-d39a2eb116a3",
   "metadata": {},
   "outputs": [
    {
     "data": {
      "text/html": [
       "<style>.container { width:99% !important; }</style>"
      ],
      "text/plain": [
       "<IPython.core.display.HTML object>"
      ]
     },
     "metadata": {},
     "output_type": "display_data"
    }
   ],
   "source": [
    "from IPython.display import display, HTML\n",
    "display(HTML(\"<style>.container { width:99% !important; }</style>\"))"
   ]
  },
  {
   "cell_type": "code",
   "execution_count": 408,
   "id": "b89298c1-1a52-42af-a770-2aaabe744824",
   "metadata": {},
   "outputs": [],
   "source": [
    "session_state_test = {}\n",
    "\n",
    "class StateItem:\n",
    "\n",
    "    def __init__(self, default, key, rate=False):\n",
    "        self.default = default\n",
    "        self.rate = rate\n",
    "        self.key = key\n",
    "\n",
    "        if self.key not in session_state_test:\n",
    "            session_state_test[self.key] = default\n",
    "\n",
    "    @property\n",
    "    def val(self):\n",
    "        if self.rate:\n",
    "            return session_state_test[self.key] / 100\n",
    "        return session_state_test[self.key]\n",
    "\n",
    "\n",
    "# Candidates\n",
    "# rehab\n",
    "\n",
    "class SessionStateInterfaceTest:\n",
    "\n",
    "    def __init__(self):\n",
    "        self.counter = self.counter_generator()\n",
    "\n",
    "        def create(val, rate=False):\n",
    "            # Use next(self.counter) to get the next value from the generator\n",
    "            key = f\"state_item_{next(self.counter)}\"\n",
    "            return StateItem(val, key, rate)\n",
    "\n",
    "        # Define counter_generator as a static method so it can be called without an instance\n",
    "        self.hide_text = create(False)\n",
    "        self.home_price = create(300000)\n",
    "        self.rehab = create(1000)\n",
    "        self.down_payment = create(50000)\n",
    "        self.closing_costs_rate = create(3.0, rate=True)\n",
    "        self.interest_rate = create(7.0, rate=True)\n",
    "        self.pmi_rate = create(0.5, rate=True)\n",
    "        self.yr_property_tax_rate = create(1.0, rate=True)\n",
    "        self.yr_home_appreciation = create(3.0, rate=True)\n",
    "        self.yr_insurance_rate = create(0.35, rate=True)\n",
    "        self.mo_hoa_fees = create(100)\n",
    "        self.mo_maintenance = create(100)\n",
    "        self.yr_inflation_rate = create(3.0, rate=True)\n",
    "        self.mo_extra_payment = create(0)\n",
    "        self.num_extra_payments = create(0)\n",
    "        self.mo_rent_cost = create(0)\n",
    "        self.yr_stock_appreciation = create(7.0, rate=True)\n",
    "        self.mo_rent_income = create(2000)\n",
    "        self.mo_other_income = create(100)\n",
    "        self.yr_rent_increase = create(3.0, rate=True)\n",
    "        self.mo_utility = create(200)\n",
    "        self.management_rate = create(5.0, rate=True)\n",
    "        self.vacancy_rate = create(5.0, rate=True)\n",
    "        self.paydown_with_profit = create(True)\n",
    "        self.rent_exp = create(1500)\n",
    "\n",
    "    @staticmethod\n",
    "    def counter_generator():\n",
    "        counter = 0\n",
    "        while True:\n",
    "            yield counter\n",
    "            counter += 1"
   ]
  },
  {
   "cell_type": "code",
   "execution_count": 409,
   "id": "e8ce86cc-37b2-4a38-9c69-cb21f6b5a982",
   "metadata": {},
   "outputs": [],
   "source": [
    "ss = SessionStateInterfaceTest()"
   ]
  },
  {
   "cell_type": "code",
   "execution_count": 410,
   "id": "cd594a9c-523f-4850-b038-7686dc96cbc1",
   "metadata": {},
   "outputs": [],
   "source": [
    "# CONSTANTS\n",
    "CLOSING_COSTS = ss.home_price.val * ss.closing_costs_rate.val\n",
    "OOP = CLOSING_COSTS + ss.down_payment.val + ss.rehab.val\n",
    "LOAN_AMOUNT = ss.home_price.val - ss.down_payment.val\n",
    "MONTHLY_PAYMENT = get_monthly_payment_amount(LOAN_AMOUNT, ss.interest_rate.val)\n",
    "REALTOR_RATE = 0.06\n",
    "STOCK_TAX_RATE = 0.15\n",
    "STOCK_GROWTH_RATE = 0.07"
   ]
  },
  {
   "cell_type": "code",
   "execution_count": 411,
   "id": "f16a2670-5334-45f9-af5a-4ca010eec1c0",
   "metadata": {},
   "outputs": [],
   "source": [
    "def run_simulation():\n",
    "    \"\"\"\n",
    "    Simulation iterates over months. Each row corresponds to the total costs paid for a particular\n",
    "    expenses over the month, or the value of an asset at the end of the month. Row 0 corresponds to\n",
    "    the end of the first month since closing.\n",
    "    \"\"\"\n",
    "\n",
    "    ########################################################################\n",
    "    #      initialize, updated yearly                                      #\n",
    "    ########################################################################\n",
    "    \n",
    "    pmi_price = get_monthly_pmi(ss.home_price.val, LOAN_AMOUNT, ss.pmi_rate.val, ss.home_price.val)\n",
    "    property_tax_exp = ss.home_price.val * ss.yr_property_tax_rate.val / 12\n",
    "    insurance_exp = ss.home_price.val * ss.yr_insurance_rate.val / 12\n",
    "    maintenance_exp = ss.mo_maintenance.val\n",
    "    hoa_exp = ss.mo_hoa_fees.val\n",
    "    utility_exp = ss.mo_utility.val\n",
    "    rent_income = ss.mo_rent_income.val\n",
    "    other_income = ss.mo_other_income.val\n",
    "    management_exp = ss.management_rate.val * rent_income\n",
    "    rent_exp = ss.rent_exp.val\n",
    "\n",
    "    ########################################################################\n",
    "    #      initialize, updated monthly                                     #\n",
    "    ########################################################################\n",
    "    \n",
    "    loan_balance = LOAN_AMOUNT\n",
    "    home_value = ss.home_price.val\n",
    "    pmi_required = pmi_price > 0\n",
    "    stock_value = OOP\n",
    "\n",
    "\n",
    "    data = []\n",
    "    for month in np.arange(12 * 30):\n",
    "\n",
    "        interest_exp = loan_balance * ss.interest_rate.val / 12\n",
    "        \n",
    "        # if youre paying more principle than scheduled...\n",
    "        # cant pay more principal than loan balance\n",
    "        principal_exp = MONTHLY_PAYMENT - interest_exp\n",
    "        if principal_exp >= loan_balance:\n",
    "            principal_exp = loan_balance\n",
    "\n",
    "        loan_balance -= principal_exp\n",
    "\n",
    "        # pay pmi if required\n",
    "        pmi_exp = 0\n",
    "        if pmi_required:\n",
    "            pmi_exp = pmi_price\n",
    "\n",
    "\n",
    "        # if rent covers all cost, pay extra towards the principle\n",
    "        op_exp = (\n",
    "            property_tax_exp +\n",
    "            insurance_exp +\n",
    "            hoa_exp +\n",
    "            maintenance_exp +\n",
    "            pmi_exp +\n",
    "            utility_exp +\n",
    "            management_exp\n",
    "        )\n",
    "        total_exp = op_exp + interest_exp + principal_exp\n",
    "        total_income = rent_income + other_income\n",
    "        adj_total_income = total_income * (1 - ss.vacancy_rate.val)\n",
    "\n",
    "\n",
    "        # should additional cash flow pay down loan or flow into stock portfolio?\n",
    "        noi = adj_total_income - op_exp\n",
    "        niaf = adj_total_income - total_exp\n",
    "\n",
    "        # optionally use niaf to pay down loan\n",
    "        if niaf > 0 and ss.paydown_with_profit.val:\n",
    "            if niaf > loan_balance:\n",
    "                loan_balance = 0\n",
    "            else:\n",
    "                loan_balance -= niaf\n",
    "\n",
    "        # update home value\n",
    "        home_value = add_growth(home_value, ss.yr_home_appreciation.val, months=1)\n",
    "\n",
    "        # update pmi_required, but dont update pmi cost unless its end of year\n",
    "        true_pmi = get_monthly_pmi(home_value, loan_balance, ss.pmi_rate.val, ss.home_price.val)\n",
    "        pmi_required = true_pmi > 0\n",
    "\n",
    "        # update stock portfolio\n",
    "        stock_value = add_growth(stock_value, STOCK_GROWTH_RATE, months=1)\n",
    "        if total_exp > rent_exp:\n",
    "            stock_value += total_exp - rent_exp\n",
    "            \n",
    "\n",
    "        month_data = {\n",
    "            \"index\": month,\n",
    "            \"year\": month // 12,\n",
    "            \"month\": month % 12,\n",
    "            # costs, payments, revenue. Totals over the month\n",
    "            \"interest_exp\": interest_exp,\n",
    "            \"principal_exp\": principal_exp,\n",
    "            \"property_tax_exp\": property_tax_exp,\n",
    "            \"insurance_exp\": insurance_exp,\n",
    "            \"hoa_exp\": hoa_exp,\n",
    "            \"maintenance_exp\": maintenance_exp,\n",
    "            \"pmi_exp\": pmi_exp,\n",
    "            \"utility_exp\": utility_exp,\n",
    "            \"management_exp\": management_exp,\n",
    "            \"op_exp\": op_exp,\n",
    "            \"total_exp\": total_exp,\n",
    "            \"rent_income\": rent_income,\n",
    "            \"other_income\": other_income,\n",
    "            \"total_income\": total_income,\n",
    "            \"adj_total_income\": adj_total_income,\n",
    "            \"noi\": noi,\n",
    "            \"niaf\": niaf,\n",
    "            \"rent_exp\": rent_exp,\n",
    "            # balances and values. End of month\n",
    "            \"loan_balance\": loan_balance,\n",
    "            \"home_value\": home_value,\n",
    "            \"stock_value\": stock_value\n",
    "        }\n",
    "        data.append(month_data)\n",
    "\n",
    "        # update yearly values at end of last month in each year\n",
    "        if (month + 1) % 12 == 0 and month > 0:\n",
    "            property_tax_exp = home_value * ss.yr_property_tax_rate.val / 12\n",
    "            insurance_exp = home_value * ss.yr_insurance_rate.val / 12\n",
    "            hoa_exp = add_growth(hoa_exp, ss.yr_inflation_rate.val, 12)\n",
    "            utility_exp = add_growth(utility_exp, ss.yr_inflation_rate.val, 12)\n",
    "            maintenance_exp = add_growth(maintenance_exp, ss.yr_inflation_rate.val, 12)\n",
    "            pmi_price = true_pmi\n",
    "            rent_income = add_growth(rent_income, ss.yr_rent_increase.val, 12)\n",
    "            other_income = add_growth(other_income, ss.yr_rent_increase.val, 12)\n",
    "            management_exp = ss.management_rate.val * rent_income\n",
    "            rent_exp = add_growth(rent_exp, ss.yr_rent_increase.val, 12)\n",
    "\n",
    "    return pd.DataFrame(data).set_index(\"index\")\n"
   ]
  },
  {
   "cell_type": "code",
   "execution_count": 412,
   "id": "24ae1618-b91f-47ae-8581-16b08e69f1d3",
   "metadata": {},
   "outputs": [],
   "source": [
    "def post_process_sim_df(sim_df):\n",
    "    \"\"\"\n",
    "    After running the simulation, we want to aggregate the data to a yearly level for easier\n",
    "    analysis and visualization. This function also calculates some derived metrics for plotting.\n",
    "    \"\"\"\n",
    "\n",
    "    # List of columns for sum and mean aggregations\n",
    "    sum_mean_cols = [\n",
    "            \"interest_exp\",\n",
    "            \"principal_exp\",\n",
    "            \"property_tax_exp\",\n",
    "            \"insurance_exp\",\n",
    "            \"hoa_exp\",\n",
    "            \"maintenance_exp\",\n",
    "            \"pmi_exp\",\n",
    "            \"utility_exp\",\n",
    "            \"management_exp\",\n",
    "            \"op_exp\",\n",
    "            \"total_exp\",\n",
    "            \"rent_income\",\n",
    "            \"other_income\",\n",
    "            \"total_income\",\n",
    "            \"adj_total_income\",\n",
    "            \"noi\",\n",
    "            \"niaf\",\n",
    "            \"rent_exp\"\n",
    "    ]\n",
    "\n",
    "    agg_dict = {col: ['sum', 'mean'] for col in sum_mean_cols}\n",
    "\n",
    "    agg_dict.update({\n",
    "        \"home_value\": 'max', # end of year is max\n",
    "        \"loan_balance\": 'min', # end of year is min\n",
    "        \"stock_value\": 'max'\n",
    "    })\n",
    "\n",
    "    year_df = sim_df.groupby(\"year\").agg(agg_dict)\n",
    "    year_df.columns = [f\"{col}_{func}\" for col, func in year_df.columns]\n",
    "\n",
    "    year_df.rename(columns={\n",
    "        \"home_value_max\": \"home_value\",\n",
    "        \"loan_balance_min\": \"loan_balance\",\n",
    "        \"stock_value_max\": \"stock_value\"\n",
    "    }, inplace=True)\n",
    "\n",
    "    def rename_columns(df):\n",
    "        # remove sum from columns.\n",
    "        # Value is implied total for the year,\n",
    "        # mean value is implied for monthly\n",
    "        new_columns = {}\n",
    "        for col in df.columns:\n",
    "            if col.endswith('_sum'):\n",
    "                new_columns[col] = col[:-4]\n",
    "            elif col.endswith('_mean'):\n",
    "                new_columns[col] = col[:-5] + '_mo'\n",
    "        df.rename(columns=new_columns, inplace=True)\n",
    "\n",
    "    rename_columns(year_df)\n",
    "    \n",
    "    cumsum_cols = [\n",
    "        \"niaf\",\n",
    "        \"rent_exp\",\n",
    "    ]\n",
    "\n",
    "    for col in cumsum_cols:\n",
    "        year_df[f'cum_{col}'] = year_df[col].cumsum()\n",
    "\n",
    "    year_df[\"equity\"] = year_df[\"home_value\"] - year_df[\"loan_balance\"] - (year_df[\"home_value\"] * REALTOR_RATE)\n",
    "    year_df[\"total_return\"] = year_df[\"equity\"] + year_df[\"cum_niaf\"]\n",
    "    year_df[\"coc_roi\"] = year_df[\"cum_niaf\"] / OOP\n",
    "    year_df[\"roi\"] = year_df[\"total_return\"] / OOP\n",
    "    # TODO is this the right way to calculate this?\n",
    "    year_df[\"roe\"] = year_df[\"niaf\"] / year_df[\"equity\"]\n",
    "    year_df[\"total_return_rent\"] = (year_df[\"stock_value\"] * (1 - STOCK_TAX_RATE)) - year_df[\"cum_rent_exp\"]\n",
    "    year_df[\"roi_rent\"] = year_df[\"total_return_rent\"] / OOP\n",
    "\n",
    "    return year_df"
   ]
  },
  {
   "cell_type": "code",
   "execution_count": 413,
   "id": "0ec8844b-cc67-4d77-9d21-d92bcb00d5ae",
   "metadata": {},
   "outputs": [],
   "source": [
    "def get_key_metrics(firs_year_df):\n",
    "    return {\n",
    "        \"GRM\": firs_year_df[\"home_value_max\"] / firs_year_df[\"rent_income_sum\"],\n",
    "        \"Cap Rate\": firs_year_df[\"noi_mean\"] / ss.home_price.val,\n",
    "        \"Monthly NIAF\": firs_year_df[\"niaf_mean\"],\n",
    "        \"First Year ROI\": firs_year_df[\"roi\"],\n",
    "    }"
   ]
  },
  {
   "cell_type": "code",
   "execution_count": 414,
   "id": "208546f5-9622-46a5-bd96-cfd0ee025e19",
   "metadata": {},
   "outputs": [],
   "source": [
    "df = run_simulation()"
   ]
  },
  {
   "cell_type": "code",
   "execution_count": 415,
   "id": "23d134a4-8cf4-4104-8ea8-db12f4860149",
   "metadata": {},
   "outputs": [],
   "source": [
    "# df.round(2).head(50)"
   ]
  },
  {
   "cell_type": "code",
   "execution_count": 416,
   "id": "5f5254de-8163-49c7-abfb-c31072440b20",
   "metadata": {},
   "outputs": [],
   "source": [
    "yearly_df = post_process_sim_df(df)"
   ]
  },
  {
   "cell_type": "code",
   "execution_count": 417,
   "id": "9c3569a4-39e5-4247-ae83-01442629c3c9",
   "metadata": {},
   "outputs": [
    {
     "data": {
      "text/html": [
       "<div>\n",
       "<style scoped>\n",
       "    .dataframe tbody tr th:only-of-type {\n",
       "        vertical-align: middle;\n",
       "    }\n",
       "\n",
       "    .dataframe tbody tr th {\n",
       "        vertical-align: top;\n",
       "    }\n",
       "\n",
       "    .dataframe thead th {\n",
       "        text-align: right;\n",
       "    }\n",
       "</style>\n",
       "<table border=\"1\" class=\"dataframe\">\n",
       "  <thead>\n",
       "    <tr style=\"text-align: right;\">\n",
       "      <th></th>\n",
       "      <th>interest_exp</th>\n",
       "      <th>interest_exp_mo</th>\n",
       "      <th>principal_exp</th>\n",
       "      <th>principal_exp_mo</th>\n",
       "      <th>property_tax_exp</th>\n",
       "      <th>property_tax_exp_mo</th>\n",
       "      <th>insurance_exp</th>\n",
       "      <th>insurance_exp_mo</th>\n",
       "      <th>hoa_exp</th>\n",
       "      <th>hoa_exp_mo</th>\n",
       "      <th>maintenance_exp</th>\n",
       "      <th>maintenance_exp_mo</th>\n",
       "      <th>pmi_exp</th>\n",
       "      <th>pmi_exp_mo</th>\n",
       "      <th>utility_exp</th>\n",
       "      <th>utility_exp_mo</th>\n",
       "      <th>management_exp</th>\n",
       "      <th>management_exp_mo</th>\n",
       "      <th>op_exp</th>\n",
       "      <th>op_exp_mo</th>\n",
       "      <th>total_exp</th>\n",
       "      <th>total_exp_mo</th>\n",
       "      <th>rent_income</th>\n",
       "      <th>rent_income_mo</th>\n",
       "      <th>other_income</th>\n",
       "      <th>other_income_mo</th>\n",
       "      <th>total_income</th>\n",
       "      <th>total_income_mo</th>\n",
       "      <th>adj_total_income</th>\n",
       "      <th>adj_total_income_mo</th>\n",
       "      <th>noi</th>\n",
       "      <th>noi_mo</th>\n",
       "      <th>niaf</th>\n",
       "      <th>niaf_mo</th>\n",
       "      <th>rent_exp</th>\n",
       "      <th>rent_exp_mo</th>\n",
       "      <th>home_value</th>\n",
       "      <th>loan_balance</th>\n",
       "      <th>stock_value</th>\n",
       "      <th>cum_niaf</th>\n",
       "      <th>cum_rent_exp</th>\n",
       "      <th>equity</th>\n",
       "      <th>total_return</th>\n",
       "      <th>coc_roi</th>\n",
       "      <th>roi</th>\n",
       "      <th>roe</th>\n",
       "      <th>total_return_rent</th>\n",
       "      <th>roi_rent</th>\n",
       "    </tr>\n",
       "    <tr>\n",
       "      <th>year</th>\n",
       "      <th></th>\n",
       "      <th></th>\n",
       "      <th></th>\n",
       "      <th></th>\n",
       "      <th></th>\n",
       "      <th></th>\n",
       "      <th></th>\n",
       "      <th></th>\n",
       "      <th></th>\n",
       "      <th></th>\n",
       "      <th></th>\n",
       "      <th></th>\n",
       "      <th></th>\n",
       "      <th></th>\n",
       "      <th></th>\n",
       "      <th></th>\n",
       "      <th></th>\n",
       "      <th></th>\n",
       "      <th></th>\n",
       "      <th></th>\n",
       "      <th></th>\n",
       "      <th></th>\n",
       "      <th></th>\n",
       "      <th></th>\n",
       "      <th></th>\n",
       "      <th></th>\n",
       "      <th></th>\n",
       "      <th></th>\n",
       "      <th></th>\n",
       "      <th></th>\n",
       "      <th></th>\n",
       "      <th></th>\n",
       "      <th></th>\n",
       "      <th></th>\n",
       "      <th></th>\n",
       "      <th></th>\n",
       "      <th></th>\n",
       "      <th></th>\n",
       "      <th></th>\n",
       "      <th></th>\n",
       "      <th></th>\n",
       "      <th></th>\n",
       "      <th></th>\n",
       "      <th></th>\n",
       "      <th></th>\n",
       "      <th></th>\n",
       "      <th></th>\n",
       "      <th></th>\n",
       "    </tr>\n",
       "  </thead>\n",
       "  <tbody>\n",
       "    <tr>\n",
       "      <th>0</th>\n",
       "      <td>17419.550282</td>\n",
       "      <td>1451.629190</td>\n",
       "      <td>2539.524573</td>\n",
       "      <td>211.627048</td>\n",
       "      <td>3000.00000</td>\n",
       "      <td>250.000000</td>\n",
       "      <td>1050.000000</td>\n",
       "      <td>87.500000</td>\n",
       "      <td>1200.000000</td>\n",
       "      <td>100.000000</td>\n",
       "      <td>1200.000000</td>\n",
       "      <td>100.000000</td>\n",
       "      <td>1250.000000</td>\n",
       "      <td>104.166667</td>\n",
       "      <td>2400.000000</td>\n",
       "      <td>200.000000</td>\n",
       "      <td>1200.000000</td>\n",
       "      <td>100.000000</td>\n",
       "      <td>11300.000000</td>\n",
       "      <td>941.666667</td>\n",
       "      <td>31259.074855</td>\n",
       "      <td>2604.922905</td>\n",
       "      <td>24000.00000</td>\n",
       "      <td>2000.00000</td>\n",
       "      <td>1200.000000</td>\n",
       "      <td>100.000000</td>\n",
       "      <td>25200.000000</td>\n",
       "      <td>2100.000000</td>\n",
       "      <td>23940.000000</td>\n",
       "      <td>1995.000000</td>\n",
       "      <td>12640.000000</td>\n",
       "      <td>1053.333333</td>\n",
       "      <td>-7319.074855</td>\n",
       "      <td>-609.922905</td>\n",
       "      <td>18000.00000</td>\n",
       "      <td>1500.000000</td>\n",
       "      <td>309000.00000</td>\n",
       "      <td>247460.475427</td>\n",
       "      <td>77879.273882</td>\n",
       "      <td>-7319.074855</td>\n",
       "      <td>18000.00000</td>\n",
       "      <td>42999.524573</td>\n",
       "      <td>35680.449718</td>\n",
       "      <td>-0.121985</td>\n",
       "      <td>0.594674</td>\n",
       "      <td>-0.170213</td>\n",
       "      <td>48197.382800</td>\n",
       "      <td>0.803290</td>\n",
       "    </tr>\n",
       "    <tr>\n",
       "      <th>1</th>\n",
       "      <td>17235.967845</td>\n",
       "      <td>1436.330654</td>\n",
       "      <td>2723.107010</td>\n",
       "      <td>226.925584</td>\n",
       "      <td>3090.00000</td>\n",
       "      <td>257.500000</td>\n",
       "      <td>1081.500000</td>\n",
       "      <td>90.125000</td>\n",
       "      <td>1236.000000</td>\n",
       "      <td>103.000000</td>\n",
       "      <td>1236.000000</td>\n",
       "      <td>103.000000</td>\n",
       "      <td>103.108531</td>\n",
       "      <td>8.592378</td>\n",
       "      <td>2472.000000</td>\n",
       "      <td>206.000000</td>\n",
       "      <td>1236.000000</td>\n",
       "      <td>103.000000</td>\n",
       "      <td>10454.608531</td>\n",
       "      <td>871.217378</td>\n",
       "      <td>30413.683387</td>\n",
       "      <td>2534.473616</td>\n",
       "      <td>24720.00000</td>\n",
       "      <td>2060.00000</td>\n",
       "      <td>1236.000000</td>\n",
       "      <td>103.000000</td>\n",
       "      <td>25956.000000</td>\n",
       "      <td>2163.000000</td>\n",
       "      <td>24658.200000</td>\n",
       "      <td>2054.850000</td>\n",
       "      <td>14203.591469</td>\n",
       "      <td>1183.632622</td>\n",
       "      <td>-5755.483387</td>\n",
       "      <td>-479.623616</td>\n",
       "      <td>18540.00000</td>\n",
       "      <td>1545.000000</td>\n",
       "      <td>318270.00000</td>\n",
       "      <td>244737.368417</td>\n",
       "      <td>95584.130080</td>\n",
       "      <td>-13074.558242</td>\n",
       "      <td>36540.00000</td>\n",
       "      <td>54436.431583</td>\n",
       "      <td>41361.873341</td>\n",
       "      <td>-0.217909</td>\n",
       "      <td>0.689365</td>\n",
       "      <td>-0.105729</td>\n",
       "      <td>44706.510568</td>\n",
       "      <td>0.745109</td>\n",
       "    </tr>\n",
       "    <tr>\n",
       "      <th>2</th>\n",
       "      <td>17039.114219</td>\n",
       "      <td>1419.926185</td>\n",
       "      <td>2919.960636</td>\n",
       "      <td>243.330053</td>\n",
       "      <td>3182.70000</td>\n",
       "      <td>265.225000</td>\n",
       "      <td>1113.945000</td>\n",
       "      <td>92.828750</td>\n",
       "      <td>1273.080000</td>\n",
       "      <td>106.090000</td>\n",
       "      <td>1273.080000</td>\n",
       "      <td>106.090000</td>\n",
       "      <td>0.000000</td>\n",
       "      <td>0.000000</td>\n",
       "      <td>2546.160000</td>\n",
       "      <td>212.180000</td>\n",
       "      <td>1273.080000</td>\n",
       "      <td>106.090000</td>\n",
       "      <td>10662.045000</td>\n",
       "      <td>888.503750</td>\n",
       "      <td>30621.119855</td>\n",
       "      <td>2551.759988</td>\n",
       "      <td>25461.60000</td>\n",
       "      <td>2121.80000</td>\n",
       "      <td>1273.080000</td>\n",
       "      <td>106.090000</td>\n",
       "      <td>26734.680000</td>\n",
       "      <td>2227.890000</td>\n",
       "      <td>25397.946000</td>\n",
       "      <td>2116.495500</td>\n",
       "      <td>14735.901000</td>\n",
       "      <td>1227.991750</td>\n",
       "      <td>-5223.173855</td>\n",
       "      <td>-435.264488</td>\n",
       "      <td>19096.20000</td>\n",
       "      <td>1591.350000</td>\n",
       "      <td>327818.10000</td>\n",
       "      <td>241817.407781</td>\n",
       "      <td>114165.180218</td>\n",
       "      <td>-18297.732098</td>\n",
       "      <td>55636.20000</td>\n",
       "      <td>66331.606219</td>\n",
       "      <td>48033.874122</td>\n",
       "      <td>-0.304962</td>\n",
       "      <td>0.800565</td>\n",
       "      <td>-0.078743</td>\n",
       "      <td>41404.203185</td>\n",
       "      <td>0.690070</td>\n",
       "    </tr>\n",
       "    <tr>\n",
       "      <th>3</th>\n",
       "      <td>16828.030029</td>\n",
       "      <td>1402.335836</td>\n",
       "      <td>3131.044826</td>\n",
       "      <td>260.920402</td>\n",
       "      <td>3278.18100</td>\n",
       "      <td>273.181750</td>\n",
       "      <td>1147.363350</td>\n",
       "      <td>95.613613</td>\n",
       "      <td>1311.272400</td>\n",
       "      <td>109.272700</td>\n",
       "      <td>1311.272400</td>\n",
       "      <td>109.272700</td>\n",
       "      <td>0.000000</td>\n",
       "      <td>0.000000</td>\n",
       "      <td>2622.544800</td>\n",
       "      <td>218.545400</td>\n",
       "      <td>1311.272400</td>\n",
       "      <td>109.272700</td>\n",
       "      <td>10981.906350</td>\n",
       "      <td>915.158863</td>\n",
       "      <td>30940.981205</td>\n",
       "      <td>2578.415100</td>\n",
       "      <td>26225.44800</td>\n",
       "      <td>2185.45400</td>\n",
       "      <td>1311.272400</td>\n",
       "      <td>109.272700</td>\n",
       "      <td>27536.720400</td>\n",
       "      <td>2294.726700</td>\n",
       "      <td>26159.884380</td>\n",
       "      <td>2179.990365</td>\n",
       "      <td>15177.978030</td>\n",
       "      <td>1264.831502</td>\n",
       "      <td>-4781.096825</td>\n",
       "      <td>-398.424735</td>\n",
       "      <td>19669.08600</td>\n",
       "      <td>1639.090500</td>\n",
       "      <td>337652.64300</td>\n",
       "      <td>238686.362955</td>\n",
       "      <td>133785.860503</td>\n",
       "      <td>-23078.828923</td>\n",
       "      <td>75305.28600</td>\n",
       "      <td>78707.121465</td>\n",
       "      <td>55628.292543</td>\n",
       "      <td>-0.384647</td>\n",
       "      <td>0.927138</td>\n",
       "      <td>-0.060745</td>\n",
       "      <td>38412.695427</td>\n",
       "      <td>0.640212</td>\n",
       "    </tr>\n",
       "    <tr>\n",
       "      <th>4</th>\n",
       "      <td>16601.686545</td>\n",
       "      <td>1383.473879</td>\n",
       "      <td>3357.388310</td>\n",
       "      <td>279.782359</td>\n",
       "      <td>3376.52643</td>\n",
       "      <td>281.377203</td>\n",
       "      <td>1181.784251</td>\n",
       "      <td>98.482021</td>\n",
       "      <td>1350.610572</td>\n",
       "      <td>112.550881</td>\n",
       "      <td>1350.610572</td>\n",
       "      <td>112.550881</td>\n",
       "      <td>0.000000</td>\n",
       "      <td>0.000000</td>\n",
       "      <td>2701.221144</td>\n",
       "      <td>225.101762</td>\n",
       "      <td>1350.610572</td>\n",
       "      <td>112.550881</td>\n",
       "      <td>11311.363541</td>\n",
       "      <td>942.613628</td>\n",
       "      <td>31270.438396</td>\n",
       "      <td>2605.869866</td>\n",
       "      <td>27012.21144</td>\n",
       "      <td>2251.01762</td>\n",
       "      <td>1350.610572</td>\n",
       "      <td>112.550881</td>\n",
       "      <td>28362.822012</td>\n",
       "      <td>2363.568501</td>\n",
       "      <td>26944.680911</td>\n",
       "      <td>2245.390076</td>\n",
       "      <td>15633.317371</td>\n",
       "      <td>1302.776448</td>\n",
       "      <td>-4325.757484</td>\n",
       "      <td>-360.479790</td>\n",
       "      <td>20259.15858</td>\n",
       "      <td>1688.263215</td>\n",
       "      <td>347782.22229</td>\n",
       "      <td>235328.974644</td>\n",
       "      <td>154511.113744</td>\n",
       "      <td>-27404.586407</td>\n",
       "      <td>95564.44458</td>\n",
       "      <td>91586.314308</td>\n",
       "      <td>64181.727901</td>\n",
       "      <td>-0.456743</td>\n",
       "      <td>1.069695</td>\n",
       "      <td>-0.047231</td>\n",
       "      <td>35770.002102</td>\n",
       "      <td>0.596167</td>\n",
       "    </tr>\n",
       "  </tbody>\n",
       "</table>\n",
       "</div>"
      ],
      "text/plain": [
       "      interest_exp  interest_exp_mo  principal_exp  principal_exp_mo  property_tax_exp  property_tax_exp_mo  insurance_exp  insurance_exp_mo      hoa_exp  hoa_exp_mo  maintenance_exp  maintenance_exp_mo      pmi_exp  pmi_exp_mo  utility_exp  utility_exp_mo  management_exp  management_exp_mo        op_exp   op_exp_mo     total_exp  total_exp_mo  rent_income  rent_income_mo  other_income  other_income_mo  total_income  total_income_mo  adj_total_income  adj_total_income_mo           noi       noi_mo         niaf     niaf_mo     rent_exp  rent_exp_mo    home_value   loan_balance    stock_value      cum_niaf  cum_rent_exp        equity  total_return   coc_roi       roi       roe  total_return_rent  roi_rent\n",
       "year                                                                                                                                                                                                                                                                                                                                                                                                                                                                                                                                                                                                                                                                                                                                    \n",
       "0     17419.550282      1451.629190    2539.524573        211.627048        3000.00000           250.000000    1050.000000         87.500000  1200.000000  100.000000      1200.000000          100.000000  1250.000000  104.166667  2400.000000      200.000000     1200.000000         100.000000  11300.000000  941.666667  31259.074855   2604.922905  24000.00000      2000.00000   1200.000000       100.000000  25200.000000      2100.000000      23940.000000          1995.000000  12640.000000  1053.333333 -7319.074855 -609.922905  18000.00000  1500.000000  309000.00000  247460.475427   77879.273882  -7319.074855   18000.00000  42999.524573  35680.449718 -0.121985  0.594674 -0.170213       48197.382800  0.803290\n",
       "1     17235.967845      1436.330654    2723.107010        226.925584        3090.00000           257.500000    1081.500000         90.125000  1236.000000  103.000000      1236.000000          103.000000   103.108531    8.592378  2472.000000      206.000000     1236.000000         103.000000  10454.608531  871.217378  30413.683387   2534.473616  24720.00000      2060.00000   1236.000000       103.000000  25956.000000      2163.000000      24658.200000          2054.850000  14203.591469  1183.632622 -5755.483387 -479.623616  18540.00000  1545.000000  318270.00000  244737.368417   95584.130080 -13074.558242   36540.00000  54436.431583  41361.873341 -0.217909  0.689365 -0.105729       44706.510568  0.745109\n",
       "2     17039.114219      1419.926185    2919.960636        243.330053        3182.70000           265.225000    1113.945000         92.828750  1273.080000  106.090000      1273.080000          106.090000     0.000000    0.000000  2546.160000      212.180000     1273.080000         106.090000  10662.045000  888.503750  30621.119855   2551.759988  25461.60000      2121.80000   1273.080000       106.090000  26734.680000      2227.890000      25397.946000          2116.495500  14735.901000  1227.991750 -5223.173855 -435.264488  19096.20000  1591.350000  327818.10000  241817.407781  114165.180218 -18297.732098   55636.20000  66331.606219  48033.874122 -0.304962  0.800565 -0.078743       41404.203185  0.690070\n",
       "3     16828.030029      1402.335836    3131.044826        260.920402        3278.18100           273.181750    1147.363350         95.613613  1311.272400  109.272700      1311.272400          109.272700     0.000000    0.000000  2622.544800      218.545400     1311.272400         109.272700  10981.906350  915.158863  30940.981205   2578.415100  26225.44800      2185.45400   1311.272400       109.272700  27536.720400      2294.726700      26159.884380          2179.990365  15177.978030  1264.831502 -4781.096825 -398.424735  19669.08600  1639.090500  337652.64300  238686.362955  133785.860503 -23078.828923   75305.28600  78707.121465  55628.292543 -0.384647  0.927138 -0.060745       38412.695427  0.640212\n",
       "4     16601.686545      1383.473879    3357.388310        279.782359        3376.52643           281.377203    1181.784251         98.482021  1350.610572  112.550881      1350.610572          112.550881     0.000000    0.000000  2701.221144      225.101762     1350.610572         112.550881  11311.363541  942.613628  31270.438396   2605.869866  27012.21144      2251.01762   1350.610572       112.550881  28362.822012      2363.568501      26944.680911          2245.390076  15633.317371  1302.776448 -4325.757484 -360.479790  20259.15858  1688.263215  347782.22229  235328.974644  154511.113744 -27404.586407   95564.44458  91586.314308  64181.727901 -0.456743  1.069695 -0.047231       35770.002102  0.596167"
      ]
     },
     "execution_count": 417,
     "metadata": {},
     "output_type": "execute_result"
    }
   ],
   "source": [
    "yearly_df.head()"
   ]
  },
  {
   "cell_type": "code",
   "execution_count": 418,
   "id": "9ceef9d5-d838-49cd-9a41-3e887e8386fa",
   "metadata": {},
   "outputs": [],
   "source": [
    "COLOR_MAP = {\n",
    "        \"interest_exp_mo\":      \"#0068C9\",  # Blue\n",
    "        \"principal_exp_mo\":     \"#83C9FF\",  # Light Blue\n",
    "        \"property_tax_exp_mo\":  \"#FF2A2B\",  # Red\n",
    "        \"insurance_exp_mo\":     \"#FFABAB\",  # Light Red\n",
    "        \"hoa_exp_mo\":           \"#2AB09D\",  # Light Green\n",
    "        \"maintenance_exp_mo\":   \"#7EEFA1\",  # Green\n",
    "        \"utility_exp_mo\":       \"#FF8700\",  # Organe\n",
    "        \"management_exp_mo\":    \"#FFD16A\",  # Light Orange\n",
    "        \"pmi_exp_mo\":           \"#9030A1\",  # Purple\n",
    "}"
   ]
  },
  {
   "cell_type": "code",
   "execution_count": 419,
   "id": "0eeb6992-4ced-486e-a320-f788a492bba7",
   "metadata": {},
   "outputs": [],
   "source": [
    "def pie_chart(yearly_df): \n",
    "    df = yearly_df.loc[0:0, list(COLOR_MAP.keys())]\n",
    "    df = df.T.reset_index().rename(columns={\"index\": \"name\", 0: \"value\"})\n",
    "    df = df.join(pd.DataFrame.from_dict(COLOR_MAP, orient='index', columns=[\"color\"]), on=\"name\")\n",
    "    df['order'] = df['name'].apply(lambda x: list(COLOR_MAP.keys()).index(x))\n",
    "    df = df.sort_values('order').drop('order', axis=1)\n",
    "    df[\"formatted_value\"] = df[\"value\"].apply(lambda x: format_currency(x))\n",
    "    df[\"name\"] = df[\"name\"].apply(lambda x: format_label_string(x))\n",
    "    df = df[df[\"value\"] > 0]\n",
    "\n",
    "    total = format_currency(df[\"value\"].sum())\n",
    "    \n",
    "    data = [go.Pie(\n",
    "        values=df['value'].values, \n",
    "        labels=df['name'].values,\n",
    "        marker_colors=df[\"color\"].values,\n",
    "        hole=0.6,\n",
    "        direction ='clockwise', \n",
    "        sort=False,\n",
    "        textposition='outside',\n",
    "        text=df[\"formatted_value\"], \n",
    "        textinfo='label+text',\n",
    "        marker=dict(line=dict(color='#000000', width=2)),\n",
    "        hoverinfo = 'none'\n",
    "    )]\n",
    "\n",
    "    fig = go.Figure(data=data)\n",
    "\n",
    "    fig.add_annotation(\n",
    "        dict(\n",
    "            text=f\"Total: {total}\", \n",
    "            x=0.5, y=0.5, font_size=30, showarrow=False\n",
    "        )\n",
    "    )\n",
    "\n",
    "    fig.update_layout(\n",
    "            showlegend=False, height=700,\n",
    "            title=\"Average Monthly Costs in First Year\"\n",
    "        )\n",
    "\n",
    "    fig.show()"
   ]
  },
  {
   "cell_type": "code",
   "execution_count": 420,
   "id": "c21d105e-20db-4413-9057-8180ba17647b",
   "metadata": {},
   "outputs": [
    {
     "data": {
      "application/vnd.plotly.v1+json": {
       "config": {
        "plotlyServerURL": "https://plot.ly"
       },
       "data": [
        {
         "direction": "clockwise",
         "hole": 0.6,
         "hoverinfo": "none",
         "labels": [
          "Interest Exp Mo",
          "Principal Exp Mo",
          "Property Tax Exp Mo",
          "Insurance Exp Mo",
          "HOA Exp Mo",
          "Maintenance Exp Mo",
          "Utility Exp Mo",
          "Management Exp Mo",
          "PMI Exp Mo"
         ],
         "marker": {
          "colors": [
           "#0068C9",
           "#83C9FF",
           "#FF2A2B",
           "#FFABAB",
           "#2AB09D",
           "#7EEFA1",
           "#FF8700",
           "#FFD16A",
           "#9030A1"
          ],
          "line": {
           "color": "#000000",
           "width": 2
          }
         },
         "sort": false,
         "text": [
          "$1,452",
          "$212",
          "$250",
          "$88",
          "$100",
          "$100",
          "$200",
          "$100",
          "$104"
         ],
         "textinfo": "label+text",
         "textposition": "outside",
         "type": "pie",
         "values": [
          1451.6291901781597,
          211.6270477697965,
          250,
          87.5,
          100,
          100,
          200,
          100,
          104.16666666666667
         ]
        }
       ],
       "layout": {
        "annotations": [
         {
          "font": {
           "size": 30
          },
          "showarrow": false,
          "text": "Total: $2,605",
          "x": 0.5,
          "y": 0.5
         }
        ],
        "autosize": true,
        "showlegend": false,
        "template": {
         "data": {
          "candlestick": [
           {
            "decreasing": {
             "line": {
              "color": "#000033"
             }
            },
            "increasing": {
             "line": {
              "color": "#000032"
             }
            },
            "type": "candlestick"
           }
          ],
          "contour": [
           {
            "colorscale": [
             [
              0,
              "#000011"
             ],
             [
              0.1111111111111111,
              "#000012"
             ],
             [
              0.2222222222222222,
              "#000013"
             ],
             [
              0.3333333333333333,
              "#000014"
             ],
             [
              0.4444444444444444,
              "#000015"
             ],
             [
              0.5555555555555556,
              "#000016"
             ],
             [
              0.6666666666666666,
              "#000017"
             ],
             [
              0.7777777777777778,
              "#000018"
             ],
             [
              0.8888888888888888,
              "#000019"
             ],
             [
              1,
              "#000020"
             ]
            ],
            "type": "contour"
           }
          ],
          "contourcarpet": [
           {
            "colorscale": [
             [
              0,
              "#000011"
             ],
             [
              0.1111111111111111,
              "#000012"
             ],
             [
              0.2222222222222222,
              "#000013"
             ],
             [
              0.3333333333333333,
              "#000014"
             ],
             [
              0.4444444444444444,
              "#000015"
             ],
             [
              0.5555555555555556,
              "#000016"
             ],
             [
              0.6666666666666666,
              "#000017"
             ],
             [
              0.7777777777777778,
              "#000018"
             ],
             [
              0.8888888888888888,
              "#000019"
             ],
             [
              1,
              "#000020"
             ]
            ],
            "type": "contourcarpet"
           }
          ],
          "heatmap": [
           {
            "colorscale": [
             [
              0,
              "#000011"
             ],
             [
              0.1111111111111111,
              "#000012"
             ],
             [
              0.2222222222222222,
              "#000013"
             ],
             [
              0.3333333333333333,
              "#000014"
             ],
             [
              0.4444444444444444,
              "#000015"
             ],
             [
              0.5555555555555556,
              "#000016"
             ],
             [
              0.6666666666666666,
              "#000017"
             ],
             [
              0.7777777777777778,
              "#000018"
             ],
             [
              0.8888888888888888,
              "#000019"
             ],
             [
              1,
              "#000020"
             ]
            ],
            "type": "heatmap"
           }
          ],
          "histogram2d": [
           {
            "colorscale": [
             [
              0,
              "#000011"
             ],
             [
              0.1111111111111111,
              "#000012"
             ],
             [
              0.2222222222222222,
              "#000013"
             ],
             [
              0.3333333333333333,
              "#000014"
             ],
             [
              0.4444444444444444,
              "#000015"
             ],
             [
              0.5555555555555556,
              "#000016"
             ],
             [
              0.6666666666666666,
              "#000017"
             ],
             [
              0.7777777777777778,
              "#000018"
             ],
             [
              0.8888888888888888,
              "#000019"
             ],
             [
              1,
              "#000020"
             ]
            ],
            "type": "histogram2d"
           }
          ],
          "icicle": [
           {
            "textfont": {
             "color": "white"
            },
            "type": "icicle"
           }
          ],
          "sankey": [
           {
            "textfont": {
             "color": "#000036"
            },
            "type": "sankey"
           }
          ],
          "scatter": [
           {
            "marker": {
             "line": {
              "width": 0
             }
            },
            "type": "scatter"
           }
          ],
          "table": [
           {
            "cells": {
             "fill": {
              "color": "#000038"
             },
             "font": {
              "color": "#000037"
             },
             "line": {
              "color": "#000039"
             }
            },
            "header": {
             "fill": {
              "color": "#000040"
             },
             "font": {
              "color": "#000036"
             },
             "line": {
              "color": "#000039"
             }
            },
            "type": "table"
           }
          ],
          "waterfall": [
           {
            "connector": {
             "line": {
              "color": "#000036",
              "width": 2
             }
            },
            "decreasing": {
             "marker": {
              "color": "#000033"
             }
            },
            "increasing": {
             "marker": {
              "color": "#000032"
             }
            },
            "totals": {
             "marker": {
              "color": "#000034"
             }
            },
            "type": "waterfall"
           }
          ]
         },
         "layout": {
          "coloraxis": {
           "colorscale": [
            [
             0,
             "#000011"
            ],
            [
             0.1111111111111111,
             "#000012"
            ],
            [
             0.2222222222222222,
             "#000013"
            ],
            [
             0.3333333333333333,
             "#000014"
            ],
            [
             0.4444444444444444,
             "#000015"
            ],
            [
             0.5555555555555556,
             "#000016"
            ],
            [
             0.6666666666666666,
             "#000017"
            ],
            [
             0.7777777777777778,
             "#000018"
            ],
            [
             0.8888888888888888,
             "#000019"
            ],
            [
             1,
             "#000020"
            ]
           ]
          },
          "colorscale": {
           "diverging": [
            [
             0,
             "#000021"
            ],
            [
             0.1,
             "#000022"
            ],
            [
             0.2,
             "#000023"
            ],
            [
             0.3,
             "#000024"
            ],
            [
             0.4,
             "#000025"
            ],
            [
             0.5,
             "#000026"
            ],
            [
             0.6,
             "#000027"
            ],
            [
             0.7,
             "#000028"
            ],
            [
             0.8,
             "#000029"
            ],
            [
             0.9,
             "#000030"
            ],
            [
             1,
             "#000031"
            ]
           ],
           "sequential": [
            [
             0,
             "#000011"
            ],
            [
             0.1111111111111111,
             "#000012"
            ],
            [
             0.2222222222222222,
             "#000013"
            ],
            [
             0.3333333333333333,
             "#000014"
            ],
            [
             0.4444444444444444,
             "#000015"
            ],
            [
             0.5555555555555556,
             "#000016"
            ],
            [
             0.6666666666666666,
             "#000017"
            ],
            [
             0.7777777777777778,
             "#000018"
            ],
            [
             0.8888888888888888,
             "#000019"
            ],
            [
             1,
             "#000020"
            ]
           ],
           "sequentialminus": [
            [
             0,
             "#000011"
            ],
            [
             0.1111111111111111,
             "#000012"
            ],
            [
             0.2222222222222222,
             "#000013"
            ],
            [
             0.3333333333333333,
             "#000014"
            ],
            [
             0.4444444444444444,
             "#000015"
            ],
            [
             0.5555555555555556,
             "#000016"
            ],
            [
             0.6666666666666666,
             "#000017"
            ],
            [
             0.7777777777777778,
             "#000018"
            ],
            [
             0.8888888888888888,
             "#000019"
            ],
            [
             1,
             "#000020"
            ]
           ]
          },
          "colorway": [
           "#000001",
           "#000002",
           "#000003",
           "#000004",
           "#000005",
           "#000006",
           "#000007",
           "#000008",
           "#000009",
           "#000010"
          ]
         }
        },
        "title": {
         "text": "Average Monthly Costs in First Year"
        }
       }
      },
      "image/png": "[encoded data removed]",
      "text/html": [
       "<div>                            <div id=\"dcaeae2a-5ae5-40be-a254-368e7af92022\" class=\"plotly-graph-div\" style=\"height:700px; width:100%;\"></div>            <script type=\"text/javascript\">                require([\"plotly\"], function(Plotly) {                    window.PLOTLYENV=window.PLOTLYENV || {};                                    if (document.getElementById(\"dcaeae2a-5ae5-40be-a254-368e7af92022\")) {                    Plotly.newPlot(                        \"dcaeae2a-5ae5-40be-a254-368e7af92022\",                        [{\"direction\":\"clockwise\",\"hole\":0.6,\"hoverinfo\":\"none\",\"labels\":[\"Interest Exp Mo\",\"Principal Exp Mo\",\"Property Tax Exp Mo\",\"Insurance Exp Mo\",\"HOA Exp Mo\",\"Maintenance Exp Mo\",\"Utility Exp Mo\",\"Management Exp Mo\",\"PMI Exp Mo\"],\"marker\":{\"colors\":[\"#0068C9\",\"#83C9FF\",\"#FF2A2B\",\"#FFABAB\",\"#2AB09D\",\"#7EEFA1\",\"#FF8700\",\"#FFD16A\",\"#9030A1\"],\"line\":{\"color\":\"#000000\",\"width\":2}},\"sort\":false,\"text\":[\"$1,452\",\"$212\",\"$250\",\"$88\",\"$100\",\"$100\",\"$200\",\"$100\",\"$104\"],\"textinfo\":\"label+text\",\"textposition\":\"outside\",\"values\":[1451.6291901781597,211.6270477697965,250.0,87.5,100.0,100.0,200.0,100.0,104.16666666666667],\"type\":\"pie\"}],                        {\"template\":{\"data\":{\"candlestick\":[{\"decreasing\":{\"line\":{\"color\":\"#000033\"}},\"increasing\":{\"line\":{\"color\":\"#000032\"}},\"type\":\"candlestick\"}],\"contourcarpet\":[{\"colorscale\":[[0.0,\"#000011\"],[0.1111111111111111,\"#000012\"],[0.2222222222222222,\"#000013\"],[0.3333333333333333,\"#000014\"],[0.4444444444444444,\"#000015\"],[0.5555555555555556,\"#000016\"],[0.6666666666666666,\"#000017\"],[0.7777777777777778,\"#000018\"],[0.8888888888888888,\"#000019\"],[1.0,\"#000020\"]],\"type\":\"contourcarpet\"}],\"contour\":[{\"colorscale\":[[0.0,\"#000011\"],[0.1111111111111111,\"#000012\"],[0.2222222222222222,\"#000013\"],[0.3333333333333333,\"#000014\"],[0.4444444444444444,\"#000015\"],[0.5555555555555556,\"#000016\"],[0.6666666666666666,\"#000017\"],[0.7777777777777778,\"#000018\"],[0.8888888888888888,\"#000019\"],[1.0,\"#000020\"]],\"type\":\"contour\"}],\"heatmap\":[{\"colorscale\":[[0.0,\"#000011\"],[0.1111111111111111,\"#000012\"],[0.2222222222222222,\"#000013\"],[0.3333333333333333,\"#000014\"],[0.4444444444444444,\"#000015\"],[0.5555555555555556,\"#000016\"],[0.6666666666666666,\"#000017\"],[0.7777777777777778,\"#000018\"],[0.8888888888888888,\"#000019\"],[1.0,\"#000020\"]],\"type\":\"heatmap\"}],\"histogram2d\":[{\"colorscale\":[[0.0,\"#000011\"],[0.1111111111111111,\"#000012\"],[0.2222222222222222,\"#000013\"],[0.3333333333333333,\"#000014\"],[0.4444444444444444,\"#000015\"],[0.5555555555555556,\"#000016\"],[0.6666666666666666,\"#000017\"],[0.7777777777777778,\"#000018\"],[0.8888888888888888,\"#000019\"],[1.0,\"#000020\"]],\"type\":\"histogram2d\"}],\"icicle\":[{\"textfont\":{\"color\":\"white\"},\"type\":\"icicle\"}],\"sankey\":[{\"textfont\":{\"color\":\"#000036\"},\"type\":\"sankey\"}],\"scatter\":[{\"marker\":{\"line\":{\"width\":0}},\"type\":\"scatter\"}],\"table\":[{\"cells\":{\"fill\":{\"color\":\"#000038\"},\"font\":{\"color\":\"#000037\"},\"line\":{\"color\":\"#000039\"}},\"header\":{\"fill\":{\"color\":\"#000040\"},\"font\":{\"color\":\"#000036\"},\"line\":{\"color\":\"#000039\"}},\"type\":\"table\"}],\"waterfall\":[{\"connector\":{\"line\":{\"color\":\"#000036\",\"width\":2}},\"decreasing\":{\"marker\":{\"color\":\"#000033\"}},\"increasing\":{\"marker\":{\"color\":\"#000032\"}},\"totals\":{\"marker\":{\"color\":\"#000034\"}},\"type\":\"waterfall\"}]},\"layout\":{\"coloraxis\":{\"colorscale\":[[0.0,\"#000011\"],[0.1111111111111111,\"#000012\"],[0.2222222222222222,\"#000013\"],[0.3333333333333333,\"#000014\"],[0.4444444444444444,\"#000015\"],[0.5555555555555556,\"#000016\"],[0.6666666666666666,\"#000017\"],[0.7777777777777778,\"#000018\"],[0.8888888888888888,\"#000019\"],[1.0,\"#000020\"]]},\"colorscale\":{\"diverging\":[[0.0,\"#000021\"],[0.1,\"#000022\"],[0.2,\"#000023\"],[0.3,\"#000024\"],[0.4,\"#000025\"],[0.5,\"#000026\"],[0.6,\"#000027\"],[0.7,\"#000028\"],[0.8,\"#000029\"],[0.9,\"#000030\"],[1.0,\"#000031\"]],\"sequential\":[[0.0,\"#000011\"],[0.1111111111111111,\"#000012\"],[0.2222222222222222,\"#000013\"],[0.3333333333333333,\"#000014\"],[0.4444444444444444,\"#000015\"],[0.5555555555555556,\"#000016\"],[0.6666666666666666,\"#000017\"],[0.7777777777777778,\"#000018\"],[0.8888888888888888,\"#000019\"],[1.0,\"#000020\"]],\"sequentialminus\":[[0.0,\"#000011\"],[0.1111111111111111,\"#000012\"],[0.2222222222222222,\"#000013\"],[0.3333333333333333,\"#000014\"],[0.4444444444444444,\"#000015\"],[0.5555555555555556,\"#000016\"],[0.6666666666666666,\"#000017\"],[0.7777777777777778,\"#000018\"],[0.8888888888888888,\"#000019\"],[1.0,\"#000020\"]]},\"colorway\":[\"#000001\",\"#000002\",\"#000003\",\"#000004\",\"#000005\",\"#000006\",\"#000007\",\"#000008\",\"#000009\",\"#000010\"]}},\"annotations\":[{\"font\":{\"size\":30},\"showarrow\":false,\"text\":\"Total: $2,605\",\"x\":0.5,\"y\":0.5}],\"showlegend\":false,\"height\":700,\"title\":{\"text\":\"Average Monthly Costs in First Year\"}},                        {\"responsive\": true}                    ).then(function(){\n",
       "                            \n",
       "var gd = document.getElementById('dcaeae2a-5ae5-40be-a254-368e7af92022');\n",
       "var x = new MutationObserver(function (mutations, observer) {{\n",
       "        var display = window.getComputedStyle(gd).display;\n",
       "        if (!display || display === 'none') {{\n",
       "            console.log([gd, 'removed!']);\n",
       "            Plotly.purge(gd);\n",
       "            observer.disconnect();\n",
       "        }}\n",
       "}});\n",
       "\n",
       "// Listen for the removal of the full notebook cells\n",
       "var notebookContainer = gd.closest('#notebook-container');\n",
       "if (notebookContainer) {{\n",
       "    x.observe(notebookContainer, {childList: true});\n",
       "}}\n",
       "\n",
       "// Listen for the clearing of the current output cell\n",
       "var outputEl = gd.closest('.output');\n",
       "if (outputEl) {{\n",
       "    x.observe(outputEl, {childList: true});\n",
       "}}\n",
       "\n",
       "                        })                };                });            </script>        </div>"
      ]
     },
     "metadata": {},
     "output_type": "display_data"
    }
   ],
   "source": [
    "pie_chart(yearly_df)"
   ]
  },
  {
   "cell_type": "code",
   "execution_count": 421,
   "id": "67c3460a-e40d-4ab2-8124-8d36fa1287a0",
   "metadata": {},
   "outputs": [],
   "source": [
    "def drop_zero_sum(df):\n",
    "    col_sums = df.sum()\n",
    "    cols_to_drop = col_sums[col_sums == 0].index\n",
    "    df.drop(cols_to_drop, axis=1, inplace=True)\n",
    "\n",
    "\n",
    "def stacked_chart(yearly_df):\n",
    "\n",
    "    zero_sum_cols = [k for k in COLOR_MAP.keys() if yearly_df[k].sum() == 0]\n",
    "    color_map_redux = {k: v for k, v in COLOR_MAP.items() if k not in zero_sum_cols}\n",
    "\n",
    "    fig = go.Figure()\n",
    "    for col, color in color_map_redux.items():\n",
    "        fig.add_trace(go.Bar(\n",
    "            x=yearly_df.index + 1, \n",
    "            y=yearly_df[col], \n",
    "            name=format_label_string(col),\n",
    "            hoverinfo='y',\n",
    "            hovertemplate='$%{y:,.0f}',\n",
    "            marker_color=COLOR_MAP[col]\n",
    "        ))\n",
    "\n",
    "    if ss.mo_rent_income.val > 0:\n",
    "        fig.add_trace(go.Scatter(\n",
    "            x=yearly_df.index + 1, \n",
    "            y=yearly_df[\"adj_total_income_mo\"], \n",
    "            mode='markers',\n",
    "            name=\"Adj Total Income\",\n",
    "            hoverinfo='y',\n",
    "            hovertemplate='$%{y:,.0f}',\n",
    "            marker=dict(size=10, color='black'),\n",
    "        ))\n",
    "        \n",
    "    fig.update_layout(\n",
    "        title=\"Average Monthly Costs Over Time\",\n",
    "        yaxis=dict(title='Average Monthly Cost', tickformat='$,.0f'),\n",
    "        barmode='stack',\n",
    "        height=700,\n",
    "        xaxis=dict(title='Year', tickmode='array', tickvals=np.arange(5, 31, 5)),\n",
    "    )\n",
    "\n",
    "    fig.update_xaxes(range=[0, 31])\n",
    "    fig.show()"
   ]
  },
  {
   "cell_type": "code",
   "execution_count": 422,
   "id": "b8acce9c-a910-4944-99a7-1ae91bfa5bcb",
   "metadata": {},
   "outputs": [
    {
     "data": {
      "application/vnd.plotly.v1+json": {
       "config": {
        "plotlyServerURL": "https://plot.ly"
       },
       "data": [
        {
         "hoverinfo": "y",
         "hovertemplate": "$%{y:,.0f}",
         "marker": {
          "color": "#0068C9"
         },
         "name": "Interest Exp Mo",
         "type": "bar",
         "x": [
          1,
          2,
          3,
          4,
          5,
          6,
          7,
          8,
          9,
          10,
          11,
          12,
          13,
          14,
          15,
          16,
          17,
          18,
          19,
          20,
          21,
          22,
          23,
          24,
          25,
          26,
          27,
          28,
          29,
          30
         ],
         "y": [
          1451.6291901781597,
          1436.330653783515,
          1419.9261849559189,
          1402.335835750372,
          1383.4738787784675,
          1363.2483894119566,
          1341.560797783784,
          1318.3054084032337,
          1293.3688850440203,
          1266.629698394896,
          1237.9575337808762,
          1207.2126560685856,
          1174.2452286605585,
          1137.6981293590245,
          1095.393413498566,
          1046.2940161393005,
          989.7966551012278,
          925.2510740636235,
          851.9565459159154,
          769.1581203089671,
          676.042596824207,
          571.7342038319695,
          455.28996166697146,
          325.6947072009738,
          181.85575523280693,
          33.755097384148904,
          0,
          0,
          0,
          0
         ]
        },
        {
         "hoverinfo": "y",
         "hovertemplate": "$%{y:,.0f}",
         "marker": {
          "color": "#83C9FF"
         },
         "name": "Principal Exp Mo",
         "type": "bar",
         "x": [
          1,
          2,
          3,
          4,
          5,
          6,
          7,
          8,
          9,
          10,
          11,
          12,
          13,
          14,
          15,
          16,
          17,
          18,
          19,
          20,
          21,
          22,
          23,
          24,
          25,
          26,
          27,
          28,
          29,
          30
         ],
         "y": [
          211.6270477697965,
          226.9255841644414,
          243.33005299203737,
          260.9204021975839,
          279.7823591694887,
          300.00784853599947,
          321.69544016417217,
          344.9508295447224,
          369.88735290393583,
          396.62653955306024,
          425.2987041670801,
          456.0435818793706,
          489.01100928739766,
          525.5581085889315,
          567.8628244493901,
          616.9622218086555,
          673.4595828467284,
          738.0051638843325,
          811.2996920320406,
          894.0981176389892,
          987.2136411237492,
          1091.5220341159868,
          1207.9662762809846,
          1337.5615307469823,
          1481.4004827151493,
          965.8822508800181,
          0,
          0,
          0,
          0
         ]
        },
        {
         "hoverinfo": "y",
         "hovertemplate": "$%{y:,.0f}",
         "marker": {
          "color": "#FF2A2B"
         },
         "name": "Property Tax Exp Mo",
         "type": "bar",
         "x": [
          1,
          2,
          3,
          4,
          5,
          6,
          7,
          8,
          9,
          10,
          11,
          12,
          13,
          14,
          15,
          16,
          17,
          18,
          19,
          20,
          21,
          22,
          23,
          24,
          25,
          26,
          27,
          28,
          29,
          30
         ],
         "y": [
          250,
          257.5000000000003,
          265.22500000000053,
          273.1817500000009,
          281.37720250000115,
          289.8185185750015,
          298.51307413225186,
          307.4684663562197,
          316.6925203469067,
          326.19329595731415,
          335.979094836034,
          346.0584676811154,
          356.4402217115493,
          367.13342836289615,
          378.1474312137834,
          389.4918541501974,
          401.17660977470376,
          413.21190806794516,
          425.60826530998406,
          438.37651326928403,
          451.5278086673632,
          465.0736429273845,
          479.02585221520644,
          493.3966277816632,
          508.19852661511374,
          523.4444824135676,
          539.1478168859751,
          555.322251392555,
          571.9819189343325,
          589.1413765023632
         ]
        },
        {
         "hoverinfo": "y",
         "hovertemplate": "$%{y:,.0f}",
         "marker": {
          "color": "#FFABAB"
         },
         "name": "Insurance Exp Mo",
         "type": "bar",
         "x": [
          1,
          2,
          3,
          4,
          5,
          6,
          7,
          8,
          9,
          10,
          11,
          12,
          13,
          14,
          15,
          16,
          17,
          18,
          19,
          20,
          21,
          22,
          23,
          24,
          25,
          26,
          27,
          28,
          29,
          30
         ],
         "y": [
          87.5,
          90.12500000000007,
          92.82875000000018,
          95.61361250000029,
          98.48202087500039,
          101.43648150125051,
          104.47957594628814,
          107.61396322467688,
          110.84238212141732,
          114.16765358505995,
          117.59268319261189,
          121.12046368839039,
          124.75407759904225,
          128.49669992701362,
          132.35160092482417,
          136.32214895256908,
          140.4118134211463,
          144.6241678237808,
          148.9628928584944,
          153.43177964424942,
          158.0347330335771,
          162.7757750245846,
          167.65904827532225,
          172.6888197235821,
          177.8694843152898,
          183.20556884474865,
          188.7017359100913,
          194.36278798739423,
          200.19367162701636,
          206.19948177582708
         ]
        },
        {
         "hoverinfo": "y",
         "hovertemplate": "$%{y:,.0f}",
         "marker": {
          "color": "#2AB09D"
         },
         "name": "HOA Exp Mo",
         "type": "bar",
         "x": [
          1,
          2,
          3,
          4,
          5,
          6,
          7,
          8,
          9,
          10,
          11,
          12,
          13,
          14,
          15,
          16,
          17,
          18,
          19,
          20,
          21,
          22,
          23,
          24,
          25,
          26,
          27,
          28,
          29,
          30
         ],
         "y": [
          100,
          103,
          106.08999999999999,
          109.2727,
          112.550881,
          115.92740743,
          119.4052296529,
          122.987386542487,
          126.67700813876162,
          130.47731838292447,
          134.39163793441222,
          138.4233870724446,
          142.57608868461793,
          146.85337134515646,
          151.25897248551115,
          155.7967416600765,
          160.4706439098788,
          165.28476322717515,
          170.2433061239904,
          175.3506053077101,
          180.61112346694142,
          186.02945717094966,
          191.61034088607815,
          197.3586511126605,
          203.27941064604033,
          209.37779296542155,
          215.65912675438418,
          222.12890055701573,
          228.7927675737262,
          235.65655060093798
         ]
        },
        {
         "hoverinfo": "y",
         "hovertemplate": "$%{y:,.0f}",
         "marker": {
          "color": "#7EEFA1"
         },
         "name": "Maintenance Exp Mo",
         "type": "bar",
         "x": [
          1,
          2,
          3,
          4,
          5,
          6,
          7,
          8,
          9,
          10,
          11,
          12,
          13,
          14,
          15,
          16,
          17,
          18,
          19,
          20,
          21,
          22,
          23,
          24,
          25,
          26,
          27,
          28,
          29,
          30
         ],
         "y": [
          100,
          103,
          106.08999999999999,
          109.2727,
          112.550881,
          115.92740743,
          119.4052296529,
          122.987386542487,
          126.67700813876162,
          130.47731838292447,
          134.39163793441222,
          138.4233870724446,
          142.57608868461793,
          146.85337134515646,
          151.25897248551115,
          155.7967416600765,
          160.4706439098788,
          165.28476322717515,
          170.2433061239904,
          175.3506053077101,
          180.61112346694142,
          186.02945717094966,
          191.61034088607815,
          197.3586511126605,
          203.27941064604033,
          209.37779296542155,
          215.65912675438418,
          222.12890055701573,
          228.7927675737262,
          235.65655060093798
         ]
        },
        {
         "hoverinfo": "y",
         "hovertemplate": "$%{y:,.0f}",
         "marker": {
          "color": "#FF8700"
         },
         "name": "Utility Exp Mo",
         "type": "bar",
         "x": [
          1,
          2,
          3,
          4,
          5,
          6,
          7,
          8,
          9,
          10,
          11,
          12,
          13,
          14,
          15,
          16,
          17,
          18,
          19,
          20,
          21,
          22,
          23,
          24,
          25,
          26,
          27,
          28,
          29,
          30
         ],
         "y": [
          200,
          206,
          212.17999999999998,
          218.5454,
          225.101762,
          231.85481486,
          238.8104593058,
          245.974773084974,
          253.35401627752324,
          260.95463676584893,
          268.78327586882443,
          276.8467741448892,
          285.15217736923586,
          293.7067426903129,
          302.5179449710223,
          311.593483320153,
          320.9412878197576,
          330.5695264543503,
          340.4866122479808,
          350.7012106154202,
          361.22224693388284,
          372.0589143418993,
          383.2206817721563,
          394.717302225321,
          406.55882129208067,
          418.7555859308431,
          431.31825350876835,
          444.25780111403145,
          457.5855351474524,
          471.31310120187595
         ]
        },
        {
         "hoverinfo": "y",
         "hovertemplate": "$%{y:,.0f}",
         "marker": {
          "color": "#FFD16A"
         },
         "name": "Management Exp Mo",
         "type": "bar",
         "x": [
          1,
          2,
          3,
          4,
          5,
          6,
          7,
          8,
          9,
          10,
          11,
          12,
          13,
          14,
          15,
          16,
          17,
          18,
          19,
          20,
          21,
          22,
          23,
          24,
          25,
          26,
          27,
          28,
          29,
          30
         ],
         "y": [
          100,
          103,
          106.09000000000002,
          109.27270000000003,
          112.550881,
          115.92740743000002,
          119.40522965290002,
          122.98738654248704,
          126.67700813876165,
          130.4773183829245,
          134.39163793441222,
          138.42338707244457,
          142.57608868461793,
          146.85337134515646,
          151.25897248551118,
          155.79674166007652,
          160.47064390987882,
          165.28476322717518,
          170.24330612399046,
          175.3506053077102,
          180.61112346694145,
          186.02945717094974,
          191.61034088607823,
          197.3586511126606,
          203.27941064604042,
          209.37779296542166,
          215.65912675438426,
          222.12890055701578,
          228.7927675737263,
          235.65655060093806
         ]
        },
        {
         "hoverinfo": "y",
         "hovertemplate": "$%{y:,.0f}",
         "marker": {
          "color": "#9030A1"
         },
         "name": "PMI Exp Mo",
         "type": "bar",
         "x": [
          1,
          2,
          3,
          4,
          5,
          6,
          7,
          8,
          9,
          10,
          11,
          12,
          13,
          14,
          15,
          16,
          17,
          18,
          19,
          20,
          21,
          22,
          23,
          24,
          25,
          26,
          27,
          28,
          29,
          30
         ],
         "y": [
          104.16666666666667,
          8.592377618984807,
          0,
          0,
          0,
          0,
          0,
          0,
          0,
          0,
          0,
          0,
          0,
          0,
          0,
          0,
          0,
          0,
          0,
          0,
          0,
          0,
          0,
          0,
          0,
          0,
          0,
          0,
          0,
          0
         ]
        },
        {
         "hoverinfo": "y",
         "hovertemplate": "$%{y:,.0f}",
         "marker": {
          "color": "black",
          "size": 10
         },
         "mode": "markers",
         "name": "Adj Total Income",
         "type": "scatter",
         "x": [
          1,
          2,
          3,
          4,
          5,
          6,
          7,
          8,
          9,
          10,
          11,
          12,
          13,
          14,
          15,
          16,
          17,
          18,
          19,
          20,
          21,
          22,
          23,
          24,
          25,
          26,
          27,
          28,
          29,
          30
         ],
         "y": [
          1995,
          2054.85,
          2116.4955,
          2179.990365,
          2245.39007595,
          2312.7517782285004,
          2382.134331575355,
          2453.598361522616,
          2527.2063123682947,
          2603.022501739343,
          2681.1131767915235,
          2761.5465720952693,
          2844.3929692581273,
          2929.7247583358712,
          3017.6165010859477,
          3108.1449961185263,
          3201.389346002082,
          3297.4310263821444,
          3396.353957173609,
          3498.244575888817,
          3603.1919131654818,
          3711.2876705604467,
          3822.62630067726,
          3937.3050896975783,
          4055.4242423885057,
          4177.086969660161,
          4302.399578749966,
          4431.471566112465,
          4564.415713095839,
          4701.348184488714
         ]
        }
       ],
       "layout": {
        "autosize": true,
        "barmode": "stack",
        "template": {
         "data": {
          "candlestick": [
           {
            "decreasing": {
             "line": {
              "color": "#000033"
             }
            },
            "increasing": {
             "line": {
              "color": "#000032"
             }
            },
            "type": "candlestick"
           }
          ],
          "contour": [
           {
            "colorscale": [
             [
              0,
              "#000011"
             ],
             [
              0.1111111111111111,
              "#000012"
             ],
             [
              0.2222222222222222,
              "#000013"
             ],
             [
              0.3333333333333333,
              "#000014"
             ],
             [
              0.4444444444444444,
              "#000015"
             ],
             [
              0.5555555555555556,
              "#000016"
             ],
             [
              0.6666666666666666,
              "#000017"
             ],
             [
              0.7777777777777778,
              "#000018"
             ],
             [
              0.8888888888888888,
              "#000019"
             ],
             [
              1,
              "#000020"
             ]
            ],
            "type": "contour"
           }
          ],
          "contourcarpet": [
           {
            "colorscale": [
             [
              0,
              "#000011"
             ],
             [
              0.1111111111111111,
              "#000012"
             ],
             [
              0.2222222222222222,
              "#000013"
             ],
             [
              0.3333333333333333,
              "#000014"
             ],
             [
              0.4444444444444444,
              "#000015"
             ],
             [
              0.5555555555555556,
              "#000016"
             ],
             [
              0.6666666666666666,
              "#000017"
             ],
             [
              0.7777777777777778,
              "#000018"
             ],
             [
              0.8888888888888888,
              "#000019"
             ],
             [
              1,
              "#000020"
             ]
            ],
            "type": "contourcarpet"
           }
          ],
          "heatmap": [
           {
            "colorscale": [
             [
              0,
              "#000011"
             ],
             [
              0.1111111111111111,
              "#000012"
             ],
             [
              0.2222222222222222,
              "#000013"
             ],
             [
              0.3333333333333333,
              "#000014"
             ],
             [
              0.4444444444444444,
              "#000015"
             ],
             [
              0.5555555555555556,
              "#000016"
             ],
             [
              0.6666666666666666,
              "#000017"
             ],
             [
              0.7777777777777778,
              "#000018"
             ],
             [
              0.8888888888888888,
              "#000019"
             ],
             [
              1,
              "#000020"
             ]
            ],
            "type": "heatmap"
           }
          ],
          "histogram2d": [
           {
            "colorscale": [
             [
              0,
              "#000011"
             ],
             [
              0.1111111111111111,
              "#000012"
             ],
             [
              0.2222222222222222,
              "#000013"
             ],
             [
              0.3333333333333333,
              "#000014"
             ],
             [
              0.4444444444444444,
              "#000015"
             ],
             [
              0.5555555555555556,
              "#000016"
             ],
             [
              0.6666666666666666,
              "#000017"
             ],
             [
              0.7777777777777778,
              "#000018"
             ],
             [
              0.8888888888888888,
              "#000019"
             ],
             [
              1,
              "#000020"
             ]
            ],
            "type": "histogram2d"
           }
          ],
          "icicle": [
           {
            "textfont": {
             "color": "white"
            },
            "type": "icicle"
           }
          ],
          "sankey": [
           {
            "textfont": {
             "color": "#000036"
            },
            "type": "sankey"
           }
          ],
          "scatter": [
           {
            "marker": {
             "line": {
              "width": 0
             }
            },
            "type": "scatter"
           }
          ],
          "table": [
           {
            "cells": {
             "fill": {
              "color": "#000038"
             },
             "font": {
              "color": "#000037"
             },
             "line": {
              "color": "#000039"
             }
            },
            "header": {
             "fill": {
              "color": "#000040"
             },
             "font": {
              "color": "#000036"
             },
             "line": {
              "color": "#000039"
             }
            },
            "type": "table"
           }
          ],
          "waterfall": [
           {
            "connector": {
             "line": {
              "color": "#000036",
              "width": 2
             }
            },
            "decreasing": {
             "marker": {
              "color": "#000033"
             }
            },
            "increasing": {
             "marker": {
              "color": "#000032"
             }
            },
            "totals": {
             "marker": {
              "color": "#000034"
             }
            },
            "type": "waterfall"
           }
          ]
         },
         "layout": {
          "coloraxis": {
           "colorscale": [
            [
             0,
             "#000011"
            ],
            [
             0.1111111111111111,
             "#000012"
            ],
            [
             0.2222222222222222,
             "#000013"
            ],
            [
             0.3333333333333333,
             "#000014"
            ],
            [
             0.4444444444444444,
             "#000015"
            ],
            [
             0.5555555555555556,
             "#000016"
            ],
            [
             0.6666666666666666,
             "#000017"
            ],
            [
             0.7777777777777778,
             "#000018"
            ],
            [
             0.8888888888888888,
             "#000019"
            ],
            [
             1,
             "#000020"
            ]
           ]
          },
          "colorscale": {
           "diverging": [
            [
             0,
             "#000021"
            ],
            [
             0.1,
             "#000022"
            ],
            [
             0.2,
             "#000023"
            ],
            [
             0.3,
             "#000024"
            ],
            [
             0.4,
             "#000025"
            ],
            [
             0.5,
             "#000026"
            ],
            [
             0.6,
             "#000027"
            ],
            [
             0.7,
             "#000028"
            ],
            [
             0.8,
             "#000029"
            ],
            [
             0.9,
             "#000030"
            ],
            [
             1,
             "#000031"
            ]
           ],
           "sequential": [
            [
             0,
             "#000011"
            ],
            [
             0.1111111111111111,
             "#000012"
            ],
            [
             0.2222222222222222,
             "#000013"
            ],
            [
             0.3333333333333333,
             "#000014"
            ],
            [
             0.4444444444444444,
             "#000015"
            ],
            [
             0.5555555555555556,
             "#000016"
            ],
            [
             0.6666666666666666,
             "#000017"
            ],
            [
             0.7777777777777778,
             "#000018"
            ],
            [
             0.8888888888888888,
             "#000019"
            ],
            [
             1,
             "#000020"
            ]
           ],
           "sequentialminus": [
            [
             0,
             "#000011"
            ],
            [
             0.1111111111111111,
             "#000012"
            ],
            [
             0.2222222222222222,
             "#000013"
            ],
            [
             0.3333333333333333,
             "#000014"
            ],
            [
             0.4444444444444444,
             "#000015"
            ],
            [
             0.5555555555555556,
             "#000016"
            ],
            [
             0.6666666666666666,
             "#000017"
            ],
            [
             0.7777777777777778,
             "#000018"
            ],
            [
             0.8888888888888888,
             "#000019"
            ],
            [
             1,
             "#000020"
            ]
           ]
          },
          "colorway": [
           "#000001",
           "#000002",
           "#000003",
           "#000004",
           "#000005",
           "#000006",
           "#000007",
           "#000008",
           "#000009",
           "#000010"
          ]
         }
        },
        "title": {
         "text": "Average Monthly Costs Over Time"
        },
        "xaxis": {
         "range": [
          0,
          31
         ],
         "tickmode": "array",
         "tickvals": [
          5,
          10,
          15,
          20,
          25,
          30
         ],
         "title": {
          "text": "Year"
         },
         "type": "linear"
        },
        "yaxis": {
         "autorange": true,
         "range": [
          0,
          5136.526089274467
         ],
         "tickformat": "$,.0f",
         "title": {
          "text": "Average Monthly Cost"
         },
         "type": "linear"
        }
       }
      },
      "image/png": "[encoded data removed]",
      "text/html": [
       "<div>                            <div id=\"2b20362a-ca8d-408b-8b1f-718587a86102\" class=\"plotly-graph-div\" style=\"height:700px; width:100%;\"></div>            <script type=\"text/javascript\">                require([\"plotly\"], function(Plotly) {                    window.PLOTLYENV=window.PLOTLYENV || {};                                    if (document.getElementById(\"2b20362a-ca8d-408b-8b1f-718587a86102\")) {                    Plotly.newPlot(                        \"2b20362a-ca8d-408b-8b1f-718587a86102\",                        [{\"hoverinfo\":\"y\",\"hovertemplate\":\"$%{y:,.0f}\",\"marker\":{\"color\":\"#0068C9\"},\"name\":\"Interest Exp Mo\",\"x\":[1,2,3,4,5,6,7,8,9,10,11,12,13,14,15,16,17,18,19,20,21,22,23,24,25,26,27,28,29,30],\"y\":[1451.6291901781597,1436.330653783515,1419.9261849559189,1402.335835750372,1383.4738787784675,1363.2483894119566,1341.560797783784,1318.3054084032337,1293.3688850440203,1266.629698394896,1237.9575337808762,1207.2126560685856,1174.2452286605585,1137.6981293590245,1095.393413498566,1046.2940161393005,989.7966551012278,925.2510740636235,851.9565459159154,769.1581203089671,676.042596824207,571.7342038319695,455.28996166697146,325.6947072009738,181.85575523280693,33.755097384148904,0.0,0.0,0.0,0.0],\"type\":\"bar\"},{\"hoverinfo\":\"y\",\"hovertemplate\":\"$%{y:,.0f}\",\"marker\":{\"color\":\"#83C9FF\"},\"name\":\"Principal Exp Mo\",\"x\":[1,2,3,4,5,6,7,8,9,10,11,12,13,14,15,16,17,18,19,20,21,22,23,24,25,26,27,28,29,30],\"y\":[211.6270477697965,226.9255841644414,243.33005299203737,260.9204021975839,279.7823591694887,300.00784853599947,321.69544016417217,344.9508295447224,369.88735290393583,396.62653955306024,425.2987041670801,456.0435818793706,489.01100928739766,525.5581085889315,567.8628244493901,616.9622218086555,673.4595828467284,738.0051638843325,811.2996920320406,894.0981176389892,987.2136411237492,1091.5220341159868,1207.9662762809846,1337.5615307469823,1481.4004827151493,965.8822508800181,0.0,0.0,0.0,0.0],\"type\":\"bar\"},{\"hoverinfo\":\"y\",\"hovertemplate\":\"$%{y:,.0f}\",\"marker\":{\"color\":\"#FF2A2B\"},\"name\":\"Property Tax Exp Mo\",\"x\":[1,2,3,4,5,6,7,8,9,10,11,12,13,14,15,16,17,18,19,20,21,22,23,24,25,26,27,28,29,30],\"y\":[250.0,257.5000000000003,265.22500000000053,273.1817500000009,281.37720250000115,289.8185185750015,298.51307413225186,307.4684663562197,316.6925203469067,326.19329595731415,335.979094836034,346.0584676811154,356.4402217115493,367.13342836289615,378.1474312137834,389.4918541501974,401.17660977470376,413.21190806794516,425.60826530998406,438.37651326928403,451.5278086673632,465.0736429273845,479.02585221520644,493.3966277816632,508.19852661511374,523.4444824135676,539.1478168859751,555.322251392555,571.9819189343325,589.1413765023632],\"type\":\"bar\"},{\"hoverinfo\":\"y\",\"hovertemplate\":\"$%{y:,.0f}\",\"marker\":{\"color\":\"#FFABAB\"},\"name\":\"Insurance Exp Mo\",\"x\":[1,2,3,4,5,6,7,8,9,10,11,12,13,14,15,16,17,18,19,20,21,22,23,24,25,26,27,28,29,30],\"y\":[87.5,90.12500000000007,92.82875000000018,95.61361250000029,98.48202087500039,101.43648150125051,104.47957594628814,107.61396322467688,110.84238212141732,114.16765358505995,117.59268319261189,121.12046368839039,124.75407759904225,128.49669992701362,132.35160092482417,136.32214895256908,140.4118134211463,144.6241678237808,148.9628928584944,153.43177964424942,158.0347330335771,162.7757750245846,167.65904827532225,172.6888197235821,177.8694843152898,183.20556884474865,188.7017359100913,194.36278798739423,200.19367162701636,206.19948177582708],\"type\":\"bar\"},{\"hoverinfo\":\"y\",\"hovertemplate\":\"$%{y:,.0f}\",\"marker\":{\"color\":\"#2AB09D\"},\"name\":\"HOA Exp Mo\",\"x\":[1,2,3,4,5,6,7,8,9,10,11,12,13,14,15,16,17,18,19,20,21,22,23,24,25,26,27,28,29,30],\"y\":[100.0,103.0,106.08999999999999,109.2727,112.550881,115.92740743,119.4052296529,122.987386542487,126.67700813876162,130.47731838292447,134.39163793441222,138.4233870724446,142.57608868461793,146.85337134515646,151.25897248551115,155.7967416600765,160.4706439098788,165.28476322717515,170.2433061239904,175.3506053077101,180.61112346694142,186.02945717094966,191.61034088607815,197.3586511126605,203.27941064604033,209.37779296542155,215.65912675438418,222.12890055701573,228.7927675737262,235.65655060093798],\"type\":\"bar\"},{\"hoverinfo\":\"y\",\"hovertemplate\":\"$%{y:,.0f}\",\"marker\":{\"color\":\"#7EEFA1\"},\"name\":\"Maintenance Exp Mo\",\"x\":[1,2,3,4,5,6,7,8,9,10,11,12,13,14,15,16,17,18,19,20,21,22,23,24,25,26,27,28,29,30],\"y\":[100.0,103.0,106.08999999999999,109.2727,112.550881,115.92740743,119.4052296529,122.987386542487,126.67700813876162,130.47731838292447,134.39163793441222,138.4233870724446,142.57608868461793,146.85337134515646,151.25897248551115,155.7967416600765,160.4706439098788,165.28476322717515,170.2433061239904,175.3506053077101,180.61112346694142,186.02945717094966,191.61034088607815,197.3586511126605,203.27941064604033,209.37779296542155,215.65912675438418,222.12890055701573,228.7927675737262,235.65655060093798],\"type\":\"bar\"},{\"hoverinfo\":\"y\",\"hovertemplate\":\"$%{y:,.0f}\",\"marker\":{\"color\":\"#FF8700\"},\"name\":\"Utility Exp Mo\",\"x\":[1,2,3,4,5,6,7,8,9,10,11,12,13,14,15,16,17,18,19,20,21,22,23,24,25,26,27,28,29,30],\"y\":[200.0,206.0,212.17999999999998,218.5454,225.101762,231.85481486,238.8104593058,245.974773084974,253.35401627752324,260.95463676584893,268.78327586882443,276.8467741448892,285.15217736923586,293.7067426903129,302.5179449710223,311.593483320153,320.9412878197576,330.5695264543503,340.4866122479808,350.7012106154202,361.22224693388284,372.0589143418993,383.2206817721563,394.717302225321,406.55882129208067,418.7555859308431,431.31825350876835,444.25780111403145,457.5855351474524,471.31310120187595],\"type\":\"bar\"},{\"hoverinfo\":\"y\",\"hovertemplate\":\"$%{y:,.0f}\",\"marker\":{\"color\":\"#FFD16A\"},\"name\":\"Management Exp Mo\",\"x\":[1,2,3,4,5,6,7,8,9,10,11,12,13,14,15,16,17,18,19,20,21,22,23,24,25,26,27,28,29,30],\"y\":[100.0,103.0,106.09000000000002,109.27270000000003,112.550881,115.92740743000002,119.40522965290002,122.98738654248704,126.67700813876165,130.4773183829245,134.39163793441222,138.42338707244457,142.57608868461793,146.85337134515646,151.25897248551118,155.79674166007652,160.47064390987882,165.28476322717518,170.24330612399046,175.3506053077102,180.61112346694145,186.02945717094974,191.61034088607823,197.3586511126606,203.27941064604042,209.37779296542166,215.65912675438426,222.12890055701578,228.7927675737263,235.65655060093806],\"type\":\"bar\"},{\"hoverinfo\":\"y\",\"hovertemplate\":\"$%{y:,.0f}\",\"marker\":{\"color\":\"#9030A1\"},\"name\":\"PMI Exp Mo\",\"x\":[1,2,3,4,5,6,7,8,9,10,11,12,13,14,15,16,17,18,19,20,21,22,23,24,25,26,27,28,29,30],\"y\":[104.16666666666667,8.592377618984807,0.0,0.0,0.0,0.0,0.0,0.0,0.0,0.0,0.0,0.0,0.0,0.0,0.0,0.0,0.0,0.0,0.0,0.0,0.0,0.0,0.0,0.0,0.0,0.0,0.0,0.0,0.0,0.0],\"type\":\"bar\"},{\"hoverinfo\":\"y\",\"hovertemplate\":\"$%{y:,.0f}\",\"marker\":{\"color\":\"black\",\"size\":10},\"mode\":\"markers\",\"name\":\"Adj Total Income\",\"x\":[1,2,3,4,5,6,7,8,9,10,11,12,13,14,15,16,17,18,19,20,21,22,23,24,25,26,27,28,29,30],\"y\":[1995.0,2054.85,2116.4955,2179.990365,2245.39007595,2312.7517782285004,2382.134331575355,2453.598361522616,2527.2063123682947,2603.022501739343,2681.1131767915235,2761.5465720952693,2844.3929692581273,2929.7247583358712,3017.6165010859477,3108.1449961185263,3201.389346002082,3297.4310263821444,3396.353957173609,3498.244575888817,3603.1919131654818,3711.2876705604467,3822.62630067726,3937.3050896975783,4055.4242423885057,4177.086969660161,4302.399578749966,4431.471566112465,4564.415713095839,4701.348184488714],\"type\":\"scatter\"}],                        {\"template\":{\"data\":{\"candlestick\":[{\"decreasing\":{\"line\":{\"color\":\"#000033\"}},\"increasing\":{\"line\":{\"color\":\"#000032\"}},\"type\":\"candlestick\"}],\"contourcarpet\":[{\"colorscale\":[[0.0,\"#000011\"],[0.1111111111111111,\"#000012\"],[0.2222222222222222,\"#000013\"],[0.3333333333333333,\"#000014\"],[0.4444444444444444,\"#000015\"],[0.5555555555555556,\"#000016\"],[0.6666666666666666,\"#000017\"],[0.7777777777777778,\"#000018\"],[0.8888888888888888,\"#000019\"],[1.0,\"#000020\"]],\"type\":\"contourcarpet\"}],\"contour\":[{\"colorscale\":[[0.0,\"#000011\"],[0.1111111111111111,\"#000012\"],[0.2222222222222222,\"#000013\"],[0.3333333333333333,\"#000014\"],[0.4444444444444444,\"#000015\"],[0.5555555555555556,\"#000016\"],[0.6666666666666666,\"#000017\"],[0.7777777777777778,\"#000018\"],[0.8888888888888888,\"#000019\"],[1.0,\"#000020\"]],\"type\":\"contour\"}],\"heatmap\":[{\"colorscale\":[[0.0,\"#000011\"],[0.1111111111111111,\"#000012\"],[0.2222222222222222,\"#000013\"],[0.3333333333333333,\"#000014\"],[0.4444444444444444,\"#000015\"],[0.5555555555555556,\"#000016\"],[0.6666666666666666,\"#000017\"],[0.7777777777777778,\"#000018\"],[0.8888888888888888,\"#000019\"],[1.0,\"#000020\"]],\"type\":\"heatmap\"}],\"histogram2d\":[{\"colorscale\":[[0.0,\"#000011\"],[0.1111111111111111,\"#000012\"],[0.2222222222222222,\"#000013\"],[0.3333333333333333,\"#000014\"],[0.4444444444444444,\"#000015\"],[0.5555555555555556,\"#000016\"],[0.6666666666666666,\"#000017\"],[0.7777777777777778,\"#000018\"],[0.8888888888888888,\"#000019\"],[1.0,\"#000020\"]],\"type\":\"histogram2d\"}],\"icicle\":[{\"textfont\":{\"color\":\"white\"},\"type\":\"icicle\"}],\"sankey\":[{\"textfont\":{\"color\":\"#000036\"},\"type\":\"sankey\"}],\"scatter\":[{\"marker\":{\"line\":{\"width\":0}},\"type\":\"scatter\"}],\"table\":[{\"cells\":{\"fill\":{\"color\":\"#000038\"},\"font\":{\"color\":\"#000037\"},\"line\":{\"color\":\"#000039\"}},\"header\":{\"fill\":{\"color\":\"#000040\"},\"font\":{\"color\":\"#000036\"},\"line\":{\"color\":\"#000039\"}},\"type\":\"table\"}],\"waterfall\":[{\"connector\":{\"line\":{\"color\":\"#000036\",\"width\":2}},\"decreasing\":{\"marker\":{\"color\":\"#000033\"}},\"increasing\":{\"marker\":{\"color\":\"#000032\"}},\"totals\":{\"marker\":{\"color\":\"#000034\"}},\"type\":\"waterfall\"}]},\"layout\":{\"coloraxis\":{\"colorscale\":[[0.0,\"#000011\"],[0.1111111111111111,\"#000012\"],[0.2222222222222222,\"#000013\"],[0.3333333333333333,\"#000014\"],[0.4444444444444444,\"#000015\"],[0.5555555555555556,\"#000016\"],[0.6666666666666666,\"#000017\"],[0.7777777777777778,\"#000018\"],[0.8888888888888888,\"#000019\"],[1.0,\"#000020\"]]},\"colorscale\":{\"diverging\":[[0.0,\"#000021\"],[0.1,\"#000022\"],[0.2,\"#000023\"],[0.3,\"#000024\"],[0.4,\"#000025\"],[0.5,\"#000026\"],[0.6,\"#000027\"],[0.7,\"#000028\"],[0.8,\"#000029\"],[0.9,\"#000030\"],[1.0,\"#000031\"]],\"sequential\":[[0.0,\"#000011\"],[0.1111111111111111,\"#000012\"],[0.2222222222222222,\"#000013\"],[0.3333333333333333,\"#000014\"],[0.4444444444444444,\"#000015\"],[0.5555555555555556,\"#000016\"],[0.6666666666666666,\"#000017\"],[0.7777777777777778,\"#000018\"],[0.8888888888888888,\"#000019\"],[1.0,\"#000020\"]],\"sequentialminus\":[[0.0,\"#000011\"],[0.1111111111111111,\"#000012\"],[0.2222222222222222,\"#000013\"],[0.3333333333333333,\"#000014\"],[0.4444444444444444,\"#000015\"],[0.5555555555555556,\"#000016\"],[0.6666666666666666,\"#000017\"],[0.7777777777777778,\"#000018\"],[0.8888888888888888,\"#000019\"],[1.0,\"#000020\"]]},\"colorway\":[\"#000001\",\"#000002\",\"#000003\",\"#000004\",\"#000005\",\"#000006\",\"#000007\",\"#000008\",\"#000009\",\"#000010\"]}},\"yaxis\":{\"title\":{\"text\":\"Average Monthly Cost\"},\"tickformat\":\"$,.0f\"},\"xaxis\":{\"title\":{\"text\":\"Year\"},\"tickmode\":\"array\",\"tickvals\":[5,10,15,20,25,30],\"range\":[0,31]},\"title\":{\"text\":\"Average Monthly Costs Over Time\"},\"barmode\":\"stack\",\"height\":700},                        {\"responsive\": true}                    ).then(function(){\n",
       "                            \n",
       "var gd = document.getElementById('2b20362a-ca8d-408b-8b1f-718587a86102');\n",
       "var x = new MutationObserver(function (mutations, observer) {{\n",
       "        var display = window.getComputedStyle(gd).display;\n",
       "        if (!display || display === 'none') {{\n",
       "            console.log([gd, 'removed!']);\n",
       "            Plotly.purge(gd);\n",
       "            observer.disconnect();\n",
       "        }}\n",
       "}});\n",
       "\n",
       "// Listen for the removal of the full notebook cells\n",
       "var notebookContainer = gd.closest('#notebook-container');\n",
       "if (notebookContainer) {{\n",
       "    x.observe(notebookContainer, {childList: true});\n",
       "}}\n",
       "\n",
       "// Listen for the clearing of the current output cell\n",
       "var outputEl = gd.closest('.output');\n",
       "if (outputEl) {{\n",
       "    x.observe(outputEl, {childList: true});\n",
       "}}\n",
       "\n",
       "                        })                };                });            </script>        </div>"
      ]
     },
     "metadata": {},
     "output_type": "display_data"
    }
   ],
   "source": [
    "stacked_chart(yearly_df)"
   ]
  },
  {
   "cell_type": "code",
   "execution_count": 423,
   "id": "19dcbc10-7295-4c00-9708-cf9f54e313c1",
   "metadata": {},
   "outputs": [],
   "source": [
    "def home_value_chart(yearly_df):\n",
    "    cols = [\"home_value\", \"equity\", \"total_return\"]\n",
    "    \n",
    "    fig = go.Figure()\n",
    "    \n",
    "    for col in cols:\n",
    "        fig.add_trace(go.Scatter(\n",
    "            x=yearly_df.index + 1, \n",
    "            y=yearly_df[col], \n",
    "            mode='markers', \n",
    "            name=col,\n",
    "            hoverinfo='y',\n",
    "            hovertemplate='$%{y:,.0f}',\n",
    "            #line=dict(width=4, color=colors[idx]),\n",
    "        ))\n",
    "\n",
    "    fig.show()"
   ]
  },
  {
   "cell_type": "code",
   "execution_count": 424,
   "id": "4074f45b-cfd2-4b0b-921a-1145eaf38c3c",
   "metadata": {},
   "outputs": [
    {
     "data": {
      "application/vnd.plotly.v1+json": {
       "config": {
        "plotlyServerURL": "https://plot.ly"
       },
       "data": [
        {
         "hoverinfo": "y",
         "hovertemplate": "$%{y:,.0f}",
         "mode": "markers",
         "name": "home_value",
         "type": "scatter",
         "x": [
          1,
          2,
          3,
          4,
          5,
          6,
          7,
          8,
          9,
          10,
          11,
          12,
          13,
          14,
          15,
          16,
          17,
          18,
          19,
          20,
          21,
          22,
          23,
          24,
          25,
          26,
          27,
          28,
          29,
          30
         ],
         "y": [
          309000.0000000003,
          318270.00000000064,
          327818.100000001,
          337652.6430000014,
          347782.2222900018,
          358215.6889587022,
          368962.15962746367,
          380031.024416288,
          391431.955148777,
          403174.9138032408,
          415270.1612173385,
          427728.26605385914,
          440560.11403547536,
          453776.9174565401,
          467390.2249802369,
          481411.9317296445,
          495854.2896815342,
          510729.91837198084,
          526051.8159231408,
          541833.3704008359,
          558088.3715128615,
          574831.0226582477,
          592075.9533379958,
          609838.2319381365,
          628133.3788962811,
          646977.3802631701,
          666386.701671066,
          686378.302721199,
          706969.6518028359,
          728178.7413569217
         ]
        },
        {
         "hoverinfo": "y",
         "hovertemplate": "$%{y:,.0f}",
         "mode": "markers",
         "name": "equity",
         "type": "scatter",
         "x": [
          1,
          2,
          3,
          4,
          5,
          6,
          7,
          8,
          9,
          10,
          11,
          12,
          13,
          14,
          15,
          16,
          17,
          18,
          19,
          20,
          21,
          22,
          23,
          24,
          25,
          26,
          27,
          28,
          29,
          30
         ],
         "y": [
          42999.52457323785,
          54436.431583211466,
          66331.60621911625,
          78707.12146548761,
          91586.31430812186,
          104993.86715913225,
          118955.89486973808,
          133500.03772576962,
          148655.56084915646,
          164453.4604589892,
          180926.577478246,
          198109.71900712783,
          216039.78822129584,
          235209.1391646307,
          255870.7985531604,
          278135.84212051646,
          302123.47117316024,
          327961.602865671,
          355787.50323339255,
          385748.4660759591,
          418002.5410089307,
          452719.3142406549,
          490080.7458886905,
          530282.0679259595,
          573532.7471425566,
          608158.7374473799,
          626403.4995708021,
          645195.604557927,
          664551.4726946657,
          684488.0168755064
         ]
        },
        {
         "hoverinfo": "y",
         "hovertemplate": "$%{y:,.0f}",
         "mode": "markers",
         "name": "total_return",
         "type": "scatter",
         "x": [
          1,
          2,
          3,
          4,
          5,
          6,
          7,
          8,
          9,
          10,
          11,
          12,
          13,
          14,
          15,
          16,
          17,
          18,
          19,
          20,
          21,
          22,
          23,
          24,
          25,
          26,
          27,
          28,
          29,
          30
         ],
         "y": [
          35680.44971786238,
          41361.8733410327,
          48033.874121561996,
          55628.292542557865,
          64181.72790071662,
          73732.52278837853,
          84320.86204239665,
          95988.87803380413,
          108780.76273228946,
          122742.88701013487,
          137923.927683106,
          154375.00282097486,
          172149.81589806074,
          191758.02526586226,
          213470.4810772539,
          237416.61720581903,
          263734.5438421694,
          292571.6542915591,
          324085.2750245274,
          358443.36208895926,
          395825.24721611344,
          436422.43719350686,
          480439.47033524315,
          528094.8341566849,
          579621.9486566414,
          631334.8662251915,
          679534.6810547975,
          729180.4903292917,
          780315.6738820206,
          832984.9129413314
         ]
        }
       ],
       "layout": {
        "autosize": true,
        "template": {
         "data": {
          "candlestick": [
           {
            "decreasing": {
             "line": {
              "color": "#000033"
             }
            },
            "increasing": {
             "line": {
              "color": "#000032"
             }
            },
            "type": "candlestick"
           }
          ],
          "contour": [
           {
            "colorscale": [
             [
              0,
              "#000011"
             ],
             [
              0.1111111111111111,
              "#000012"
             ],
             [
              0.2222222222222222,
              "#000013"
             ],
             [
              0.3333333333333333,
              "#000014"
             ],
             [
              0.4444444444444444,
              "#000015"
             ],
             [
              0.5555555555555556,
              "#000016"
             ],
             [
              0.6666666666666666,
              "#000017"
             ],
             [
              0.7777777777777778,
              "#000018"
             ],
             [
              0.8888888888888888,
              "#000019"
             ],
             [
              1,
              "#000020"
             ]
            ],
            "type": "contour"
           }
          ],
          "contourcarpet": [
           {
            "colorscale": [
             [
              0,
              "#000011"
             ],
             [
              0.1111111111111111,
              "#000012"
             ],
             [
              0.2222222222222222,
              "#000013"
             ],
             [
              0.3333333333333333,
              "#000014"
             ],
             [
              0.4444444444444444,
              "#000015"
             ],
             [
              0.5555555555555556,
              "#000016"
             ],
             [
              0.6666666666666666,
              "#000017"
             ],
             [
              0.7777777777777778,
              "#000018"
             ],
             [
              0.8888888888888888,
              "#000019"
             ],
             [
              1,
              "#000020"
             ]
            ],
            "type": "contourcarpet"
           }
          ],
          "heatmap": [
           {
            "colorscale": [
             [
              0,
              "#000011"
             ],
             [
              0.1111111111111111,
              "#000012"
             ],
             [
              0.2222222222222222,
              "#000013"
             ],
             [
              0.3333333333333333,
              "#000014"
             ],
             [
              0.4444444444444444,
              "#000015"
             ],
             [
              0.5555555555555556,
              "#000016"
             ],
             [
              0.6666666666666666,
              "#000017"
             ],
             [
              0.7777777777777778,
              "#000018"
             ],
             [
              0.8888888888888888,
              "#000019"
             ],
             [
              1,
              "#000020"
             ]
            ],
            "type": "heatmap"
           }
          ],
          "histogram2d": [
           {
            "colorscale": [
             [
              0,
              "#000011"
             ],
             [
              0.1111111111111111,
              "#000012"
             ],
             [
              0.2222222222222222,
              "#000013"
             ],
             [
              0.3333333333333333,
              "#000014"
             ],
             [
              0.4444444444444444,
              "#000015"
             ],
             [
              0.5555555555555556,
              "#000016"
             ],
             [
              0.6666666666666666,
              "#000017"
             ],
             [
              0.7777777777777778,
              "#000018"
             ],
             [
              0.8888888888888888,
              "#000019"
             ],
             [
              1,
              "#000020"
             ]
            ],
            "type": "histogram2d"
           }
          ],
          "icicle": [
           {
            "textfont": {
             "color": "white"
            },
            "type": "icicle"
           }
          ],
          "sankey": [
           {
            "textfont": {
             "color": "#000036"
            },
            "type": "sankey"
           }
          ],
          "scatter": [
           {
            "marker": {
             "line": {
              "width": 0
             }
            },
            "type": "scatter"
           }
          ],
          "table": [
           {
            "cells": {
             "fill": {
              "color": "#000038"
             },
             "font": {
              "color": "#000037"
             },
             "line": {
              "color": "#000039"
             }
            },
            "header": {
             "fill": {
              "color": "#000040"
             },
             "font": {
              "color": "#000036"
             },
             "line": {
              "color": "#000039"
             }
            },
            "type": "table"
           }
          ],
          "waterfall": [
           {
            "connector": {
             "line": {
              "color": "#000036",
              "width": 2
             }
            },
            "decreasing": {
             "marker": {
              "color": "#000033"
             }
            },
            "increasing": {
             "marker": {
              "color": "#000032"
             }
            },
            "totals": {
             "marker": {
              "color": "#000034"
             }
            },
            "type": "waterfall"
           }
          ]
         },
         "layout": {
          "coloraxis": {
           "colorscale": [
            [
             0,
             "#000011"
            ],
            [
             0.1111111111111111,
             "#000012"
            ],
            [
             0.2222222222222222,
             "#000013"
            ],
            [
             0.3333333333333333,
             "#000014"
            ],
            [
             0.4444444444444444,
             "#000015"
            ],
            [
             0.5555555555555556,
             "#000016"
            ],
            [
             0.6666666666666666,
             "#000017"
            ],
            [
             0.7777777777777778,
             "#000018"
            ],
            [
             0.8888888888888888,
             "#000019"
            ],
            [
             1,
             "#000020"
            ]
           ]
          },
          "colorscale": {
           "diverging": [
            [
             0,
             "#000021"
            ],
            [
             0.1,
             "#000022"
            ],
            [
             0.2,
             "#000023"
            ],
            [
             0.3,
             "#000024"
            ],
            [
             0.4,
             "#000025"
            ],
            [
             0.5,
             "#000026"
            ],
            [
             0.6,
             "#000027"
            ],
            [
             0.7,
             "#000028"
            ],
            [
             0.8,
             "#000029"
            ],
            [
             0.9,
             "#000030"
            ],
            [
             1,
             "#000031"
            ]
           ],
           "sequential": [
            [
             0,
             "#000011"
            ],
            [
             0.1111111111111111,
             "#000012"
            ],
            [
             0.2222222222222222,
             "#000013"
            ],
            [
             0.3333333333333333,
             "#000014"
            ],
            [
             0.4444444444444444,
             "#000015"
            ],
            [
             0.5555555555555556,
             "#000016"
            ],
            [
             0.6666666666666666,
             "#000017"
            ],
            [
             0.7777777777777778,
             "#000018"
            ],
            [
             0.8888888888888888,
             "#000019"
            ],
            [
             1,
             "#000020"
            ]
           ],
           "sequentialminus": [
            [
             0,
             "#000011"
            ],
            [
             0.1111111111111111,
             "#000012"
            ],
            [
             0.2222222222222222,
             "#000013"
            ],
            [
             0.3333333333333333,
             "#000014"
            ],
            [
             0.4444444444444444,
             "#000015"
            ],
            [
             0.5555555555555556,
             "#000016"
            ],
            [
             0.6666666666666666,
             "#000017"
            ],
            [
             0.7777777777777778,
             "#000018"
            ],
            [
             0.8888888888888888,
             "#000019"
            ],
            [
             1,
             "#000020"
            ]
           ]
          },
          "colorway": [
           "#000001",
           "#000002",
           "#000003",
           "#000004",
           "#000005",
           "#000006",
           "#000007",
           "#000008",
           "#000009",
           "#000010"
          ]
         }
        },
        "xaxis": {
         "autorange": true,
         "range": [
          -0.7635629573555389,
          31.76356295735554
         ],
         "type": "linear"
        },
        "yaxis": {
         "autorange": true,
         "range": [
          -30116.52054815206,
          898781.8832073458
         ],
         "type": "linear"
        }
       }
      },
      "image/png": "[encoded data removed]",
      "text/html": [
       "<div>                            <div id=\"dc876d05-adc0-4386-bc53-482ba95c6994\" class=\"plotly-graph-div\" style=\"height:525px; width:100%;\"></div>            <script type=\"text/javascript\">                require([\"plotly\"], function(Plotly) {                    window.PLOTLYENV=window.PLOTLYENV || {};                                    if (document.getElementById(\"dc876d05-adc0-4386-bc53-482ba95c6994\")) {                    Plotly.newPlot(                        \"dc876d05-adc0-4386-bc53-482ba95c6994\",                        [{\"hoverinfo\":\"y\",\"hovertemplate\":\"$%{y:,.0f}\",\"mode\":\"markers\",\"name\":\"home_value\",\"x\":[1,2,3,4,5,6,7,8,9,10,11,12,13,14,15,16,17,18,19,20,21,22,23,24,25,26,27,28,29,30],\"y\":[309000.0000000003,318270.00000000064,327818.100000001,337652.6430000014,347782.2222900018,358215.6889587022,368962.15962746367,380031.024416288,391431.955148777,403174.9138032408,415270.1612173385,427728.26605385914,440560.11403547536,453776.9174565401,467390.2249802369,481411.9317296445,495854.2896815342,510729.91837198084,526051.8159231408,541833.3704008359,558088.3715128615,574831.0226582477,592075.9533379958,609838.2319381365,628133.3788962811,646977.3802631701,666386.701671066,686378.302721199,706969.6518028359,728178.7413569217],\"type\":\"scatter\"},{\"hoverinfo\":\"y\",\"hovertemplate\":\"$%{y:,.0f}\",\"mode\":\"markers\",\"name\":\"equity\",\"x\":[1,2,3,4,5,6,7,8,9,10,11,12,13,14,15,16,17,18,19,20,21,22,23,24,25,26,27,28,29,30],\"y\":[42999.52457323785,54436.431583211466,66331.60621911625,78707.12146548761,91586.31430812186,104993.86715913225,118955.89486973808,133500.03772576962,148655.56084915646,164453.4604589892,180926.577478246,198109.71900712783,216039.78822129584,235209.1391646307,255870.7985531604,278135.84212051646,302123.47117316024,327961.602865671,355787.50323339255,385748.4660759591,418002.5410089307,452719.3142406549,490080.7458886905,530282.0679259595,573532.7471425566,608158.7374473799,626403.4995708021,645195.604557927,664551.4726946657,684488.0168755064],\"type\":\"scatter\"},{\"hoverinfo\":\"y\",\"hovertemplate\":\"$%{y:,.0f}\",\"mode\":\"markers\",\"name\":\"total_return\",\"x\":[1,2,3,4,5,6,7,8,9,10,11,12,13,14,15,16,17,18,19,20,21,22,23,24,25,26,27,28,29,30],\"y\":[35680.44971786238,41361.8733410327,48033.874121561996,55628.292542557865,64181.72790071662,73732.52278837853,84320.86204239665,95988.87803380413,108780.76273228946,122742.88701013487,137923.927683106,154375.00282097486,172149.81589806074,191758.02526586226,213470.4810772539,237416.61720581903,263734.5438421694,292571.6542915591,324085.2750245274,358443.36208895926,395825.24721611344,436422.43719350686,480439.47033524315,528094.8341566849,579621.9486566414,631334.8662251915,679534.6810547975,729180.4903292917,780315.6738820206,832984.9129413314],\"type\":\"scatter\"}],                        {\"template\":{\"data\":{\"candlestick\":[{\"decreasing\":{\"line\":{\"color\":\"#000033\"}},\"increasing\":{\"line\":{\"color\":\"#000032\"}},\"type\":\"candlestick\"}],\"contourcarpet\":[{\"colorscale\":[[0.0,\"#000011\"],[0.1111111111111111,\"#000012\"],[0.2222222222222222,\"#000013\"],[0.3333333333333333,\"#000014\"],[0.4444444444444444,\"#000015\"],[0.5555555555555556,\"#000016\"],[0.6666666666666666,\"#000017\"],[0.7777777777777778,\"#000018\"],[0.8888888888888888,\"#000019\"],[1.0,\"#000020\"]],\"type\":\"contourcarpet\"}],\"contour\":[{\"colorscale\":[[0.0,\"#000011\"],[0.1111111111111111,\"#000012\"],[0.2222222222222222,\"#000013\"],[0.3333333333333333,\"#000014\"],[0.4444444444444444,\"#000015\"],[0.5555555555555556,\"#000016\"],[0.6666666666666666,\"#000017\"],[0.7777777777777778,\"#000018\"],[0.8888888888888888,\"#000019\"],[1.0,\"#000020\"]],\"type\":\"contour\"}],\"heatmap\":[{\"colorscale\":[[0.0,\"#000011\"],[0.1111111111111111,\"#000012\"],[0.2222222222222222,\"#000013\"],[0.3333333333333333,\"#000014\"],[0.4444444444444444,\"#000015\"],[0.5555555555555556,\"#000016\"],[0.6666666666666666,\"#000017\"],[0.7777777777777778,\"#000018\"],[0.8888888888888888,\"#000019\"],[1.0,\"#000020\"]],\"type\":\"heatmap\"}],\"histogram2d\":[{\"colorscale\":[[0.0,\"#000011\"],[0.1111111111111111,\"#000012\"],[0.2222222222222222,\"#000013\"],[0.3333333333333333,\"#000014\"],[0.4444444444444444,\"#000015\"],[0.5555555555555556,\"#000016\"],[0.6666666666666666,\"#000017\"],[0.7777777777777778,\"#000018\"],[0.8888888888888888,\"#000019\"],[1.0,\"#000020\"]],\"type\":\"histogram2d\"}],\"icicle\":[{\"textfont\":{\"color\":\"white\"},\"type\":\"icicle\"}],\"sankey\":[{\"textfont\":{\"color\":\"#000036\"},\"type\":\"sankey\"}],\"scatter\":[{\"marker\":{\"line\":{\"width\":0}},\"type\":\"scatter\"}],\"table\":[{\"cells\":{\"fill\":{\"color\":\"#000038\"},\"font\":{\"color\":\"#000037\"},\"line\":{\"color\":\"#000039\"}},\"header\":{\"fill\":{\"color\":\"#000040\"},\"font\":{\"color\":\"#000036\"},\"line\":{\"color\":\"#000039\"}},\"type\":\"table\"}],\"waterfall\":[{\"connector\":{\"line\":{\"color\":\"#000036\",\"width\":2}},\"decreasing\":{\"marker\":{\"color\":\"#000033\"}},\"increasing\":{\"marker\":{\"color\":\"#000032\"}},\"totals\":{\"marker\":{\"color\":\"#000034\"}},\"type\":\"waterfall\"}]},\"layout\":{\"coloraxis\":{\"colorscale\":[[0.0,\"#000011\"],[0.1111111111111111,\"#000012\"],[0.2222222222222222,\"#000013\"],[0.3333333333333333,\"#000014\"],[0.4444444444444444,\"#000015\"],[0.5555555555555556,\"#000016\"],[0.6666666666666666,\"#000017\"],[0.7777777777777778,\"#000018\"],[0.8888888888888888,\"#000019\"],[1.0,\"#000020\"]]},\"colorscale\":{\"diverging\":[[0.0,\"#000021\"],[0.1,\"#000022\"],[0.2,\"#000023\"],[0.3,\"#000024\"],[0.4,\"#000025\"],[0.5,\"#000026\"],[0.6,\"#000027\"],[0.7,\"#000028\"],[0.8,\"#000029\"],[0.9,\"#000030\"],[1.0,\"#000031\"]],\"sequential\":[[0.0,\"#000011\"],[0.1111111111111111,\"#000012\"],[0.2222222222222222,\"#000013\"],[0.3333333333333333,\"#000014\"],[0.4444444444444444,\"#000015\"],[0.5555555555555556,\"#000016\"],[0.6666666666666666,\"#000017\"],[0.7777777777777778,\"#000018\"],[0.8888888888888888,\"#000019\"],[1.0,\"#000020\"]],\"sequentialminus\":[[0.0,\"#000011\"],[0.1111111111111111,\"#000012\"],[0.2222222222222222,\"#000013\"],[0.3333333333333333,\"#000014\"],[0.4444444444444444,\"#000015\"],[0.5555555555555556,\"#000016\"],[0.6666666666666666,\"#000017\"],[0.7777777777777778,\"#000018\"],[0.8888888888888888,\"#000019\"],[1.0,\"#000020\"]]},\"colorway\":[\"#000001\",\"#000002\",\"#000003\",\"#000004\",\"#000005\",\"#000006\",\"#000007\",\"#000008\",\"#000009\",\"#000010\"]}}},                        {\"responsive\": true}                    ).then(function(){\n",
       "                            \n",
       "var gd = document.getElementById('dc876d05-adc0-4386-bc53-482ba95c6994');\n",
       "var x = new MutationObserver(function (mutations, observer) {{\n",
       "        var display = window.getComputedStyle(gd).display;\n",
       "        if (!display || display === 'none') {{\n",
       "            console.log([gd, 'removed!']);\n",
       "            Plotly.purge(gd);\n",
       "            observer.disconnect();\n",
       "        }}\n",
       "}});\n",
       "\n",
       "// Listen for the removal of the full notebook cells\n",
       "var notebookContainer = gd.closest('#notebook-container');\n",
       "if (notebookContainer) {{\n",
       "    x.observe(notebookContainer, {childList: true});\n",
       "}}\n",
       "\n",
       "// Listen for the clearing of the current output cell\n",
       "var outputEl = gd.closest('.output');\n",
       "if (outputEl) {{\n",
       "    x.observe(outputEl, {childList: true});\n",
       "}}\n",
       "\n",
       "                        })                };                });            </script>        </div>"
      ]
     },
     "metadata": {},
     "output_type": "display_data"
    }
   ],
   "source": [
    "home_value_chart(yearly_df)"
   ]
  },
  {
   "cell_type": "code",
   "execution_count": 425,
   "id": "365c29ee-0f0e-49de-b849-d141dc101012",
   "metadata": {},
   "outputs": [],
   "source": [
    "def roi_chart(yearly_df):\n",
    "    cols = [\"roi\", \"coc_roi\", \"roe\"]\n",
    "\n",
    "    fig = go.Figure()\n",
    "\n",
    "    for col in cols:\n",
    "        fig.add_trace(go.Scatter(\n",
    "            x=yearly_df.index + 1,\n",
    "            y=yearly_df[col],\n",
    "            mode='markers',\n",
    "            name=col,\n",
    "            hoverinfo='y',\n",
    "        ))\n",
    "\n",
    "    fig.show()"
   ]
  },
  {
   "cell_type": "code",
   "execution_count": 426,
   "id": "ce543028-a6c7-4cdb-8e2c-c5188521dd70",
   "metadata": {},
   "outputs": [
    {
     "data": {
      "application/vnd.plotly.v1+json": {
       "config": {
        "plotlyServerURL": "https://plot.ly"
       },
       "data": [
        {
         "hoverinfo": "y",
         "mode": "markers",
         "name": "roi",
         "type": "scatter",
         "x": [
          1,
          2,
          3,
          4,
          5,
          6,
          7,
          8,
          9,
          10,
          11,
          12,
          13,
          14,
          15,
          16,
          17,
          18,
          19,
          20,
          21,
          22,
          23,
          24,
          25,
          26,
          27,
          28,
          29,
          30
         ],
         "y": [
          0.594674161964373,
          0.6893645556838783,
          0.8005645686926999,
          0.9271382090426311,
          1.0696954650119437,
          1.2288753798063088,
          1.4053477007066109,
          1.5998146338967354,
          1.8130127122048243,
          2.045714783502248,
          2.2987321280517667,
          2.5729167136829143,
          2.869163598301012,
          3.195967087764371,
          3.557841351287565,
          3.956943620096984,
          4.395575730702824,
          4.876194238192652,
          5.40142125040879,
          5.9740560348159875,
          6.59708745360189,
          7.273707286558448,
          8.007324505587386,
          8.801580569278082,
          9.660365810944024,
          10.522247770419858,
          11.325578017579959,
          12.15300817215486,
          13.00526123136701,
          13.883081882355523
         ]
        },
        {
         "hoverinfo": "y",
         "mode": "markers",
         "name": "coc_roi",
         "type": "scatter",
         "x": [
          1,
          2,
          3,
          4,
          5,
          6,
          7,
          8,
          9,
          10,
          11,
          12,
          13,
          14,
          15,
          16,
          17,
          18,
          19,
          20,
          21,
          22,
          23,
          24,
          25,
          26,
          27,
          28,
          29,
          30
         ],
         "y": [
          -0.12198458092292458,
          -0.21790930403631287,
          -0.30496220162590426,
          -0.3846471487154957,
          -0.4567431067900873,
          -0.5210224061792288,
          -0.5772505471223571,
          -0.6251859948660915,
          -0.6645799686144501,
          -0.6951762241475721,
          -0.7167108299189999,
          -0.728911936435883,
          -0.731499538720585,
          -0.7241852316461406,
          -0.7066719579317748,
          -0.6786537485782906,
          -0.6398154555165143,
          -0.5898324762351971,
          -0.5283704701477526,
          -0.45508506644999724,
          -0.3696215632136215,
          -0.2716146174524669,
          -0.16068792589078995,
          -0.03645389615457507,
          0.10148669190141381,
          0.38626881296352794,
          0.8855196913999236,
          1.3997480961894109,
          1.929403353122583,
          2.4749482677637498
         ]
        },
        {
         "hoverinfo": "y",
         "mode": "markers",
         "name": "roe",
         "type": "scatter",
         "x": [
          1,
          2,
          3,
          4,
          5,
          6,
          7,
          8,
          9,
          10,
          11,
          12,
          13,
          14,
          15,
          16,
          17,
          18,
          19,
          20,
          21,
          22,
          23,
          24,
          25,
          26,
          27,
          28,
          29,
          30
         ],
         "y": [
          -0.17021292509663555,
          -0.1057285207610545,
          -0.07874336463557861,
          -0.060745415870302855,
          -0.047231483406160873,
          -0.03673317373388163,
          -0.028360834578917103,
          -0.021544015369734094,
          -0.015900100954177883,
          -0.011162886611590097,
          -0.007141440269830052,
          -0.003695257328524336,
          -0.0007186460344197642,
          0.0018658221616103961,
          0.004106746173474049,
          0.006044142129947551,
          0.007713063717485831,
          0.009144298389428781,
          0.010364951921393285,
          0.011398941560533563,
          0.012267413929603326,
          0.012989100665016884,
          0.013580622274053322,
          0.01405674872870425,
          0.014430623751815435,
          0.028096163405372875,
          0.04782069820284895,
          0.04782069820284885,
          0.04782069820284879,
          0.047820698202848705
         ]
        }
       ],
       "layout": {
        "autosize": true,
        "template": {
         "data": {
          "candlestick": [
           {
            "decreasing": {
             "line": {
              "color": "#000033"
             }
            },
            "increasing": {
             "line": {
              "color": "#000032"
             }
            },
            "type": "candlestick"
           }
          ],
          "contour": [
           {
            "colorscale": [
             [
              0,
              "#000011"
             ],
             [
              0.1111111111111111,
              "#000012"
             ],
             [
              0.2222222222222222,
              "#000013"
             ],
             [
              0.3333333333333333,
              "#000014"
             ],
             [
              0.4444444444444444,
              "#000015"
             ],
             [
              0.5555555555555556,
              "#000016"
             ],
             [
              0.6666666666666666,
              "#000017"
             ],
             [
              0.7777777777777778,
              "#000018"
             ],
             [
              0.8888888888888888,
              "#000019"
             ],
             [
              1,
              "#000020"
             ]
            ],
            "type": "contour"
           }
          ],
          "contourcarpet": [
           {
            "colorscale": [
             [
              0,
              "#000011"
             ],
             [
              0.1111111111111111,
              "#000012"
             ],
             [
              0.2222222222222222,
              "#000013"
             ],
             [
              0.3333333333333333,
              "#000014"
             ],
             [
              0.4444444444444444,
              "#000015"
             ],
             [
              0.5555555555555556,
              "#000016"
             ],
             [
              0.6666666666666666,
              "#000017"
             ],
             [
              0.7777777777777778,
              "#000018"
             ],
             [
              0.8888888888888888,
              "#000019"
             ],
             [
              1,
              "#000020"
             ]
            ],
            "type": "contourcarpet"
           }
          ],
          "heatmap": [
           {
            "colorscale": [
             [
              0,
              "#000011"
             ],
             [
              0.1111111111111111,
              "#000012"
             ],
             [
              0.2222222222222222,
              "#000013"
             ],
             [
              0.3333333333333333,
              "#000014"
             ],
             [
              0.4444444444444444,
              "#000015"
             ],
             [
              0.5555555555555556,
              "#000016"
             ],
             [
              0.6666666666666666,
              "#000017"
             ],
             [
              0.7777777777777778,
              "#000018"
             ],
             [
              0.8888888888888888,
              "#000019"
             ],
             [
              1,
              "#000020"
             ]
            ],
            "type": "heatmap"
           }
          ],
          "histogram2d": [
           {
            "colorscale": [
             [
              0,
              "#000011"
             ],
             [
              0.1111111111111111,
              "#000012"
             ],
             [
              0.2222222222222222,
              "#000013"
             ],
             [
              0.3333333333333333,
              "#000014"
             ],
             [
              0.4444444444444444,
              "#000015"
             ],
             [
              0.5555555555555556,
              "#000016"
             ],
             [
              0.6666666666666666,
              "#000017"
             ],
             [
              0.7777777777777778,
              "#000018"
             ],
             [
              0.8888888888888888,
              "#000019"
             ],
             [
              1,
              "#000020"
             ]
            ],
            "type": "histogram2d"
           }
          ],
          "icicle": [
           {
            "textfont": {
             "color": "white"
            },
            "type": "icicle"
           }
          ],
          "sankey": [
           {
            "textfont": {
             "color": "#000036"
            },
            "type": "sankey"
           }
          ],
          "scatter": [
           {
            "marker": {
             "line": {
              "width": 0
             }
            },
            "type": "scatter"
           }
          ],
          "table": [
           {
            "cells": {
             "fill": {
              "color": "#000038"
             },
             "font": {
              "color": "#000037"
             },
             "line": {
              "color": "#000039"
             }
            },
            "header": {
             "fill": {
              "color": "#000040"
             },
             "font": {
              "color": "#000036"
             },
             "line": {
              "color": "#000039"
             }
            },
            "type": "table"
           }
          ],
          "waterfall": [
           {
            "connector": {
             "line": {
              "color": "#000036",
              "width": 2
             }
            },
            "decreasing": {
             "marker": {
              "color": "#000033"
             }
            },
            "increasing": {
             "marker": {
              "color": "#000032"
             }
            },
            "totals": {
             "marker": {
              "color": "#000034"
             }
            },
            "type": "waterfall"
           }
          ]
         },
         "layout": {
          "coloraxis": {
           "colorscale": [
            [
             0,
             "#000011"
            ],
            [
             0.1111111111111111,
             "#000012"
            ],
            [
             0.2222222222222222,
             "#000013"
            ],
            [
             0.3333333333333333,
             "#000014"
            ],
            [
             0.4444444444444444,
             "#000015"
            ],
            [
             0.5555555555555556,
             "#000016"
            ],
            [
             0.6666666666666666,
             "#000017"
            ],
            [
             0.7777777777777778,
             "#000018"
            ],
            [
             0.8888888888888888,
             "#000019"
            ],
            [
             1,
             "#000020"
            ]
           ]
          },
          "colorscale": {
           "diverging": [
            [
             0,
             "#000021"
            ],
            [
             0.1,
             "#000022"
            ],
            [
             0.2,
             "#000023"
            ],
            [
             0.3,
             "#000024"
            ],
            [
             0.4,
             "#000025"
            ],
            [
             0.5,
             "#000026"
            ],
            [
             0.6,
             "#000027"
            ],
            [
             0.7,
             "#000028"
            ],
            [
             0.8,
             "#000029"
            ],
            [
             0.9,
             "#000030"
            ],
            [
             1,
             "#000031"
            ]
           ],
           "sequential": [
            [
             0,
             "#000011"
            ],
            [
             0.1111111111111111,
             "#000012"
            ],
            [
             0.2222222222222222,
             "#000013"
            ],
            [
             0.3333333333333333,
             "#000014"
            ],
            [
             0.4444444444444444,
             "#000015"
            ],
            [
             0.5555555555555556,
             "#000016"
            ],
            [
             0.6666666666666666,
             "#000017"
            ],
            [
             0.7777777777777778,
             "#000018"
            ],
            [
             0.8888888888888888,
             "#000019"
            ],
            [
             1,
             "#000020"
            ]
           ],
           "sequentialminus": [
            [
             0,
             "#000011"
            ],
            [
             0.1111111111111111,
             "#000012"
            ],
            [
             0.2222222222222222,
             "#000013"
            ],
            [
             0.3333333333333333,
             "#000014"
            ],
            [
             0.4444444444444444,
             "#000015"
            ],
            [
             0.5555555555555556,
             "#000016"
            ],
            [
             0.6666666666666666,
             "#000017"
            ],
            [
             0.7777777777777778,
             "#000018"
            ],
            [
             0.8888888888888888,
             "#000019"
            ],
            [
             1,
             "#000020"
            ]
           ]
          },
          "colorway": [
           "#000001",
           "#000002",
           "#000003",
           "#000004",
           "#000005",
           "#000006",
           "#000007",
           "#000008",
           "#000009",
           "#000010"
          ]
         }
        },
        "xaxis": {
         "autorange": true,
         "range": [
          -0.7585407515861398,
          31.75854075158614
         ],
         "type": "linear"
        },
        "yaxis": {
         "autorange": true,
         "range": [
          -1.93755722880939,
          15.089139572444328
         ],
         "type": "linear"
        }
       }
      },
      "image/png": "[encoded data removed]",
      "text/html": [
       "<div>                            <div id=\"38b66479-fa47-42f1-86f7-d15aba8fea5f\" class=\"plotly-graph-div\" style=\"height:525px; width:100%;\"></div>            <script type=\"text/javascript\">                require([\"plotly\"], function(Plotly) {                    window.PLOTLYENV=window.PLOTLYENV || {};                                    if (document.getElementById(\"38b66479-fa47-42f1-86f7-d15aba8fea5f\")) {                    Plotly.newPlot(                        \"38b66479-fa47-42f1-86f7-d15aba8fea5f\",                        [{\"hoverinfo\":\"y\",\"mode\":\"markers\",\"name\":\"roi\",\"x\":[1,2,3,4,5,6,7,8,9,10,11,12,13,14,15,16,17,18,19,20,21,22,23,24,25,26,27,28,29,30],\"y\":[0.594674161964373,0.6893645556838783,0.8005645686926999,0.9271382090426311,1.0696954650119437,1.2288753798063088,1.4053477007066109,1.5998146338967354,1.8130127122048243,2.045714783502248,2.2987321280517667,2.5729167136829143,2.869163598301012,3.195967087764371,3.557841351287565,3.956943620096984,4.395575730702824,4.876194238192652,5.40142125040879,5.9740560348159875,6.59708745360189,7.273707286558448,8.007324505587386,8.801580569278082,9.660365810944024,10.522247770419858,11.325578017579959,12.15300817215486,13.00526123136701,13.883081882355523],\"type\":\"scatter\"},{\"hoverinfo\":\"y\",\"mode\":\"markers\",\"name\":\"coc_roi\",\"x\":[1,2,3,4,5,6,7,8,9,10,11,12,13,14,15,16,17,18,19,20,21,22,23,24,25,26,27,28,29,30],\"y\":[-0.12198458092292458,-0.21790930403631287,-0.30496220162590426,-0.3846471487154957,-0.4567431067900873,-0.5210224061792288,-0.5772505471223571,-0.6251859948660915,-0.6645799686144501,-0.6951762241475721,-0.7167108299189999,-0.728911936435883,-0.731499538720585,-0.7241852316461406,-0.7066719579317748,-0.6786537485782906,-0.6398154555165143,-0.5898324762351971,-0.5283704701477526,-0.45508506644999724,-0.3696215632136215,-0.2716146174524669,-0.16068792589078995,-0.03645389615457507,0.10148669190141381,0.38626881296352794,0.8855196913999236,1.3997480961894109,1.929403353122583,2.4749482677637498],\"type\":\"scatter\"},{\"hoverinfo\":\"y\",\"mode\":\"markers\",\"name\":\"roe\",\"x\":[1,2,3,4,5,6,7,8,9,10,11,12,13,14,15,16,17,18,19,20,21,22,23,24,25,26,27,28,29,30],\"y\":[-0.17021292509663555,-0.1057285207610545,-0.07874336463557861,-0.060745415870302855,-0.047231483406160873,-0.03673317373388163,-0.028360834578917103,-0.021544015369734094,-0.015900100954177883,-0.011162886611590097,-0.007141440269830052,-0.003695257328524336,-0.0007186460344197642,0.0018658221616103961,0.004106746173474049,0.006044142129947551,0.007713063717485831,0.009144298389428781,0.010364951921393285,0.011398941560533563,0.012267413929603326,0.012989100665016884,0.013580622274053322,0.01405674872870425,0.014430623751815435,0.028096163405372875,0.04782069820284895,0.04782069820284885,0.04782069820284879,0.047820698202848705],\"type\":\"scatter\"}],                        {\"template\":{\"data\":{\"candlestick\":[{\"decreasing\":{\"line\":{\"color\":\"#000033\"}},\"increasing\":{\"line\":{\"color\":\"#000032\"}},\"type\":\"candlestick\"}],\"contourcarpet\":[{\"colorscale\":[[0.0,\"#000011\"],[0.1111111111111111,\"#000012\"],[0.2222222222222222,\"#000013\"],[0.3333333333333333,\"#000014\"],[0.4444444444444444,\"#000015\"],[0.5555555555555556,\"#000016\"],[0.6666666666666666,\"#000017\"],[0.7777777777777778,\"#000018\"],[0.8888888888888888,\"#000019\"],[1.0,\"#000020\"]],\"type\":\"contourcarpet\"}],\"contour\":[{\"colorscale\":[[0.0,\"#000011\"],[0.1111111111111111,\"#000012\"],[0.2222222222222222,\"#000013\"],[0.3333333333333333,\"#000014\"],[0.4444444444444444,\"#000015\"],[0.5555555555555556,\"#000016\"],[0.6666666666666666,\"#000017\"],[0.7777777777777778,\"#000018\"],[0.8888888888888888,\"#000019\"],[1.0,\"#000020\"]],\"type\":\"contour\"}],\"heatmap\":[{\"colorscale\":[[0.0,\"#000011\"],[0.1111111111111111,\"#000012\"],[0.2222222222222222,\"#000013\"],[0.3333333333333333,\"#000014\"],[0.4444444444444444,\"#000015\"],[0.5555555555555556,\"#000016\"],[0.6666666666666666,\"#000017\"],[0.7777777777777778,\"#000018\"],[0.8888888888888888,\"#000019\"],[1.0,\"#000020\"]],\"type\":\"heatmap\"}],\"histogram2d\":[{\"colorscale\":[[0.0,\"#000011\"],[0.1111111111111111,\"#000012\"],[0.2222222222222222,\"#000013\"],[0.3333333333333333,\"#000014\"],[0.4444444444444444,\"#000015\"],[0.5555555555555556,\"#000016\"],[0.6666666666666666,\"#000017\"],[0.7777777777777778,\"#000018\"],[0.8888888888888888,\"#000019\"],[1.0,\"#000020\"]],\"type\":\"histogram2d\"}],\"icicle\":[{\"textfont\":{\"color\":\"white\"},\"type\":\"icicle\"}],\"sankey\":[{\"textfont\":{\"color\":\"#000036\"},\"type\":\"sankey\"}],\"scatter\":[{\"marker\":{\"line\":{\"width\":0}},\"type\":\"scatter\"}],\"table\":[{\"cells\":{\"fill\":{\"color\":\"#000038\"},\"font\":{\"color\":\"#000037\"},\"line\":{\"color\":\"#000039\"}},\"header\":{\"fill\":{\"color\":\"#000040\"},\"font\":{\"color\":\"#000036\"},\"line\":{\"color\":\"#000039\"}},\"type\":\"table\"}],\"waterfall\":[{\"connector\":{\"line\":{\"color\":\"#000036\",\"width\":2}},\"decreasing\":{\"marker\":{\"color\":\"#000033\"}},\"increasing\":{\"marker\":{\"color\":\"#000032\"}},\"totals\":{\"marker\":{\"color\":\"#000034\"}},\"type\":\"waterfall\"}]},\"layout\":{\"coloraxis\":{\"colorscale\":[[0.0,\"#000011\"],[0.1111111111111111,\"#000012\"],[0.2222222222222222,\"#000013\"],[0.3333333333333333,\"#000014\"],[0.4444444444444444,\"#000015\"],[0.5555555555555556,\"#000016\"],[0.6666666666666666,\"#000017\"],[0.7777777777777778,\"#000018\"],[0.8888888888888888,\"#000019\"],[1.0,\"#000020\"]]},\"colorscale\":{\"diverging\":[[0.0,\"#000021\"],[0.1,\"#000022\"],[0.2,\"#000023\"],[0.3,\"#000024\"],[0.4,\"#000025\"],[0.5,\"#000026\"],[0.6,\"#000027\"],[0.7,\"#000028\"],[0.8,\"#000029\"],[0.9,\"#000030\"],[1.0,\"#000031\"]],\"sequential\":[[0.0,\"#000011\"],[0.1111111111111111,\"#000012\"],[0.2222222222222222,\"#000013\"],[0.3333333333333333,\"#000014\"],[0.4444444444444444,\"#000015\"],[0.5555555555555556,\"#000016\"],[0.6666666666666666,\"#000017\"],[0.7777777777777778,\"#000018\"],[0.8888888888888888,\"#000019\"],[1.0,\"#000020\"]],\"sequentialminus\":[[0.0,\"#000011\"],[0.1111111111111111,\"#000012\"],[0.2222222222222222,\"#000013\"],[0.3333333333333333,\"#000014\"],[0.4444444444444444,\"#000015\"],[0.5555555555555556,\"#000016\"],[0.6666666666666666,\"#000017\"],[0.7777777777777778,\"#000018\"],[0.8888888888888888,\"#000019\"],[1.0,\"#000020\"]]},\"colorway\":[\"#000001\",\"#000002\",\"#000003\",\"#000004\",\"#000005\",\"#000006\",\"#000007\",\"#000008\",\"#000009\",\"#000010\"]}}},                        {\"responsive\": true}                    ).then(function(){\n",
       "                            \n",
       "var gd = document.getElementById('38b66479-fa47-42f1-86f7-d15aba8fea5f');\n",
       "var x = new MutationObserver(function (mutations, observer) {{\n",
       "        var display = window.getComputedStyle(gd).display;\n",
       "        if (!display || display === 'none') {{\n",
       "            console.log([gd, 'removed!']);\n",
       "            Plotly.purge(gd);\n",
       "            observer.disconnect();\n",
       "        }}\n",
       "}});\n",
       "\n",
       "// Listen for the removal of the full notebook cells\n",
       "var notebookContainer = gd.closest('#notebook-container');\n",
       "if (notebookContainer) {{\n",
       "    x.observe(notebookContainer, {childList: true});\n",
       "}}\n",
       "\n",
       "// Listen for the clearing of the current output cell\n",
       "var outputEl = gd.closest('.output');\n",
       "if (outputEl) {{\n",
       "    x.observe(outputEl, {childList: true});\n",
       "}}\n",
       "\n",
       "                        })                };                });            </script>        </div>"
      ]
     },
     "metadata": {},
     "output_type": "display_data"
    }
   ],
   "source": [
    "roi_chart(yearly_df)"
   ]
  },
  {
   "cell_type": "code",
   "execution_count": 427,
   "id": "ce64312d-a128-4239-be61-f4ce1eb5c161",
   "metadata": {},
   "outputs": [],
   "source": [
    "def monthly_net_income(yearly_df):\n",
    "    cols = [\"noi_mo\", \"niaf_mo\"]\n",
    "    \n",
    "    fig = go.Figure()\n",
    "    \n",
    "    for col in cols:\n",
    "        fig.add_trace(go.Scatter(\n",
    "            x=yearly_df.index + 1, \n",
    "            y=yearly_df[col], \n",
    "            mode='markers', \n",
    "            name=col,\n",
    "            hoverinfo='y',\n",
    "            hovertemplate='$%{y:,.0f}',\n",
    "            #line=dict(width=4, color=colors[idx]),\n",
    "        ))\n",
    "\n",
    "    fig.show()"
   ]
  },
  {
   "cell_type": "code",
   "execution_count": 395,
   "id": "54e4d215-3373-4262-8d70-8f64983f1bec",
   "metadata": {},
   "outputs": [
    {
     "data": {
      "application/vnd.plotly.v1+json": {
       "config": {
        "plotlyServerURL": "https://plot.ly"
       },
       "data": [
        {
         "hoverinfo": "y",
         "hovertemplate": "$%{y:,.0f}",
         "mode": "markers",
         "name": "noi_mo",
         "type": "scatter",
         "x": [
          1,
          2,
          3,
          4,
          5,
          6,
          7,
          8,
          9,
          10,
          11,
          12,
          13,
          14,
          15,
          16,
          17,
          18,
          19,
          20,
          21,
          22,
          23,
          24,
          25,
          26,
          27,
          28,
          29,
          30
         ],
         "y": [
          1053.3333333333335,
          1183.6326223810147,
          1227.9917499999992,
          1264.831502499999,
          1302.7764475749987,
          1341.8597410022483,
          1382.115533232315,
          1423.5789992292841,
          1466.2863692061626,
          1510.2749602823467,
          1555.5832090908164,
          1602.2507053635406,
          1650.3182265244461,
          1699.8277733201787,
          1750.8226065197844,
          1803.3472847153773,
          1857.4477032568377,
          1913.1711343545423,
          1970.5662683851788,
          2029.683256436733,
          2090.573754129835,
          2153.290966753729,
          2217.8896957563406,
          2284.4263866290303,
          2352.9591782279003,
          2423.547953574737,
          2496.254392181979,
          2571.1420239474364,
          2648.2762846658593,
          2727.7245732058336
         ]
        },
        {
         "hoverinfo": "y",
         "hovertemplate": "$%{y:,.0f}",
         "mode": "markers",
         "name": "niaf_mo",
         "type": "scatter",
         "x": [
          1,
          2,
          3,
          4,
          5,
          6,
          7,
          8,
          9,
          10,
          11,
          12,
          13,
          14,
          15,
          16,
          17,
          18,
          19,
          20,
          21,
          22,
          23,
          24,
          25,
          26,
          27,
          28,
          29,
          30
         ],
         "y": [
          -609.9229046146229,
          -479.6236155669414,
          -435.2644879479571,
          -398.4247354479571,
          -360.47979037295767,
          -321.39649694570784,
          -281.1407047156413,
          -239.67723871867182,
          -196.96986874179342,
          -152.98127766560933,
          -107.67302885713941,
          -61.005532584415505,
          -12.938011423509996,
          36.57153537222265,
          87.56636857182839,
          140.09104676742118,
          194.19146530888156,
          249.9148964065864,
          307.3100304372227,
          366.4270184887768,
          427.31751618187855,
          490.0347288057731,
          554.6334578083847,
          621.1701486810744,
          689.7029402799444,
          1423.9106053105704,
          2496.254392181979,
          2571.1420239474364,
          2648.2762846658593,
          2727.7245732058336
         ]
        }
       ],
       "layout": {
        "autosize": true,
        "template": {
         "data": {
          "candlestick": [
           {
            "decreasing": {
             "line": {
              "color": "#000033"
             }
            },
            "increasing": {
             "line": {
              "color": "#000032"
             }
            },
            "type": "candlestick"
           }
          ],
          "contour": [
           {
            "colorscale": [
             [
              0,
              "#000011"
             ],
             [
              0.1111111111111111,
              "#000012"
             ],
             [
              0.2222222222222222,
              "#000013"
             ],
             [
              0.3333333333333333,
              "#000014"
             ],
             [
              0.4444444444444444,
              "#000015"
             ],
             [
              0.5555555555555556,
              "#000016"
             ],
             [
              0.6666666666666666,
              "#000017"
             ],
             [
              0.7777777777777778,
              "#000018"
             ],
             [
              0.8888888888888888,
              "#000019"
             ],
             [
              1,
              "#000020"
             ]
            ],
            "type": "contour"
           }
          ],
          "contourcarpet": [
           {
            "colorscale": [
             [
              0,
              "#000011"
             ],
             [
              0.1111111111111111,
              "#000012"
             ],
             [
              0.2222222222222222,
              "#000013"
             ],
             [
              0.3333333333333333,
              "#000014"
             ],
             [
              0.4444444444444444,
              "#000015"
             ],
             [
              0.5555555555555556,
              "#000016"
             ],
             [
              0.6666666666666666,
              "#000017"
             ],
             [
              0.7777777777777778,
              "#000018"
             ],
             [
              0.8888888888888888,
              "#000019"
             ],
             [
              1,
              "#000020"
             ]
            ],
            "type": "contourcarpet"
           }
          ],
          "heatmap": [
           {
            "colorscale": [
             [
              0,
              "#000011"
             ],
             [
              0.1111111111111111,
              "#000012"
             ],
             [
              0.2222222222222222,
              "#000013"
             ],
             [
              0.3333333333333333,
              "#000014"
             ],
             [
              0.4444444444444444,
              "#000015"
             ],
             [
              0.5555555555555556,
              "#000016"
             ],
             [
              0.6666666666666666,
              "#000017"
             ],
             [
              0.7777777777777778,
              "#000018"
             ],
             [
              0.8888888888888888,
              "#000019"
             ],
             [
              1,
              "#000020"
             ]
            ],
            "type": "heatmap"
           }
          ],
          "histogram2d": [
           {
            "colorscale": [
             [
              0,
              "#000011"
             ],
             [
              0.1111111111111111,
              "#000012"
             ],
             [
              0.2222222222222222,
              "#000013"
             ],
             [
              0.3333333333333333,
              "#000014"
             ],
             [
              0.4444444444444444,
              "#000015"
             ],
             [
              0.5555555555555556,
              "#000016"
             ],
             [
              0.6666666666666666,
              "#000017"
             ],
             [
              0.7777777777777778,
              "#000018"
             ],
             [
              0.8888888888888888,
              "#000019"
             ],
             [
              1,
              "#000020"
             ]
            ],
            "type": "histogram2d"
           }
          ],
          "icicle": [
           {
            "textfont": {
             "color": "white"
            },
            "type": "icicle"
           }
          ],
          "sankey": [
           {
            "textfont": {
             "color": "#000036"
            },
            "type": "sankey"
           }
          ],
          "scatter": [
           {
            "marker": {
             "line": {
              "width": 0
             }
            },
            "type": "scatter"
           }
          ],
          "table": [
           {
            "cells": {
             "fill": {
              "color": "#000038"
             },
             "font": {
              "color": "#000037"
             },
             "line": {
              "color": "#000039"
             }
            },
            "header": {
             "fill": {
              "color": "#000040"
             },
             "font": {
              "color": "#000036"
             },
             "line": {
              "color": "#000039"
             }
            },
            "type": "table"
           }
          ],
          "waterfall": [
           {
            "connector": {
             "line": {
              "color": "#000036",
              "width": 2
             }
            },
            "decreasing": {
             "marker": {
              "color": "#000033"
             }
            },
            "increasing": {
             "marker": {
              "color": "#000032"
             }
            },
            "totals": {
             "marker": {
              "color": "#000034"
             }
            },
            "type": "waterfall"
           }
          ]
         },
         "layout": {
          "coloraxis": {
           "colorscale": [
            [
             0,
             "#000011"
            ],
            [
             0.1111111111111111,
             "#000012"
            ],
            [
             0.2222222222222222,
             "#000013"
            ],
            [
             0.3333333333333333,
             "#000014"
            ],
            [
             0.4444444444444444,
             "#000015"
            ],
            [
             0.5555555555555556,
             "#000016"
            ],
            [
             0.6666666666666666,
             "#000017"
            ],
            [
             0.7777777777777778,
             "#000018"
            ],
            [
             0.8888888888888888,
             "#000019"
            ],
            [
             1,
             "#000020"
            ]
           ]
          },
          "colorscale": {
           "diverging": [
            [
             0,
             "#000021"
            ],
            [
             0.1,
             "#000022"
            ],
            [
             0.2,
             "#000023"
            ],
            [
             0.3,
             "#000024"
            ],
            [
             0.4,
             "#000025"
            ],
            [
             0.5,
             "#000026"
            ],
            [
             0.6,
             "#000027"
            ],
            [
             0.7,
             "#000028"
            ],
            [
             0.8,
             "#000029"
            ],
            [
             0.9,
             "#000030"
            ],
            [
             1,
             "#000031"
            ]
           ],
           "sequential": [
            [
             0,
             "#000011"
            ],
            [
             0.1111111111111111,
             "#000012"
            ],
            [
             0.2222222222222222,
             "#000013"
            ],
            [
             0.3333333333333333,
             "#000014"
            ],
            [
             0.4444444444444444,
             "#000015"
            ],
            [
             0.5555555555555556,
             "#000016"
            ],
            [
             0.6666666666666666,
             "#000017"
            ],
            [
             0.7777777777777778,
             "#000018"
            ],
            [
             0.8888888888888888,
             "#000019"
            ],
            [
             1,
             "#000020"
            ]
           ],
           "sequentialminus": [
            [
             0,
             "#000011"
            ],
            [
             0.1111111111111111,
             "#000012"
            ],
            [
             0.2222222222222222,
             "#000013"
            ],
            [
             0.3333333333333333,
             "#000014"
            ],
            [
             0.4444444444444444,
             "#000015"
            ],
            [
             0.5555555555555556,
             "#000016"
            ],
            [
             0.6666666666666666,
             "#000017"
            ],
            [
             0.7777777777777778,
             "#000018"
            ],
            [
             0.8888888888888888,
             "#000019"
            ],
            [
             1,
             "#000020"
            ]
           ]
          },
          "colorway": [
           "#000001",
           "#000002",
           "#000003",
           "#000004",
           "#000005",
           "#000006",
           "#000007",
           "#000008",
           "#000009",
           "#000010"
          ]
         }
        },
        "xaxis": {
         "autorange": true,
         "range": [
          -0.7593546804073121,
          31.759354680407313
         ],
         "type": "linear"
        },
        "yaxis": {
         "autorange": true,
         "range": [
          -885.3598323959227,
          3003.1615009871334
         ],
         "type": "linear"
        }
       }
      },
      "image/png": "[encoded data removed]",
      "text/html": [
       "<div>                            <div id=\"cde412c2-53c2-47b0-ac40-b2d9ea7e14f6\" class=\"plotly-graph-div\" style=\"height:525px; width:100%;\"></div>            <script type=\"text/javascript\">                require([\"plotly\"], function(Plotly) {                    window.PLOTLYENV=window.PLOTLYENV || {};                                    if (document.getElementById(\"cde412c2-53c2-47b0-ac40-b2d9ea7e14f6\")) {                    Plotly.newPlot(                        \"cde412c2-53c2-47b0-ac40-b2d9ea7e14f6\",                        [{\"hoverinfo\":\"y\",\"hovertemplate\":\"$%{y:,.0f}\",\"mode\":\"markers\",\"name\":\"noi_mo\",\"x\":[1,2,3,4,5,6,7,8,9,10,11,12,13,14,15,16,17,18,19,20,21,22,23,24,25,26,27,28,29,30],\"y\":[1053.3333333333335,1183.6326223810147,1227.9917499999992,1264.831502499999,1302.7764475749987,1341.8597410022483,1382.115533232315,1423.5789992292841,1466.2863692061626,1510.2749602823467,1555.5832090908164,1602.2507053635406,1650.3182265244461,1699.8277733201787,1750.8226065197844,1803.3472847153773,1857.4477032568377,1913.1711343545423,1970.5662683851788,2029.683256436733,2090.573754129835,2153.290966753729,2217.8896957563406,2284.4263866290303,2352.9591782279003,2423.547953574737,2496.254392181979,2571.1420239474364,2648.2762846658593,2727.7245732058336],\"type\":\"scatter\"},{\"hoverinfo\":\"y\",\"hovertemplate\":\"$%{y:,.0f}\",\"mode\":\"markers\",\"name\":\"niaf_mo\",\"x\":[1,2,3,4,5,6,7,8,9,10,11,12,13,14,15,16,17,18,19,20,21,22,23,24,25,26,27,28,29,30],\"y\":[-609.9229046146229,-479.6236155669414,-435.2644879479571,-398.4247354479571,-360.47979037295767,-321.39649694570784,-281.1407047156413,-239.67723871867182,-196.96986874179342,-152.98127766560933,-107.67302885713941,-61.005532584415505,-12.938011423509996,36.57153537222265,87.56636857182839,140.09104676742118,194.19146530888156,249.9148964065864,307.3100304372227,366.4270184887768,427.31751618187855,490.0347288057731,554.6334578083847,621.1701486810744,689.7029402799444,1423.9106053105704,2496.254392181979,2571.1420239474364,2648.2762846658593,2727.7245732058336],\"type\":\"scatter\"}],                        {\"template\":{\"data\":{\"candlestick\":[{\"decreasing\":{\"line\":{\"color\":\"#000033\"}},\"increasing\":{\"line\":{\"color\":\"#000032\"}},\"type\":\"candlestick\"}],\"contourcarpet\":[{\"colorscale\":[[0.0,\"#000011\"],[0.1111111111111111,\"#000012\"],[0.2222222222222222,\"#000013\"],[0.3333333333333333,\"#000014\"],[0.4444444444444444,\"#000015\"],[0.5555555555555556,\"#000016\"],[0.6666666666666666,\"#000017\"],[0.7777777777777778,\"#000018\"],[0.8888888888888888,\"#000019\"],[1.0,\"#000020\"]],\"type\":\"contourcarpet\"}],\"contour\":[{\"colorscale\":[[0.0,\"#000011\"],[0.1111111111111111,\"#000012\"],[0.2222222222222222,\"#000013\"],[0.3333333333333333,\"#000014\"],[0.4444444444444444,\"#000015\"],[0.5555555555555556,\"#000016\"],[0.6666666666666666,\"#000017\"],[0.7777777777777778,\"#000018\"],[0.8888888888888888,\"#000019\"],[1.0,\"#000020\"]],\"type\":\"contour\"}],\"heatmap\":[{\"colorscale\":[[0.0,\"#000011\"],[0.1111111111111111,\"#000012\"],[0.2222222222222222,\"#000013\"],[0.3333333333333333,\"#000014\"],[0.4444444444444444,\"#000015\"],[0.5555555555555556,\"#000016\"],[0.6666666666666666,\"#000017\"],[0.7777777777777778,\"#000018\"],[0.8888888888888888,\"#000019\"],[1.0,\"#000020\"]],\"type\":\"heatmap\"}],\"histogram2d\":[{\"colorscale\":[[0.0,\"#000011\"],[0.1111111111111111,\"#000012\"],[0.2222222222222222,\"#000013\"],[0.3333333333333333,\"#000014\"],[0.4444444444444444,\"#000015\"],[0.5555555555555556,\"#000016\"],[0.6666666666666666,\"#000017\"],[0.7777777777777778,\"#000018\"],[0.8888888888888888,\"#000019\"],[1.0,\"#000020\"]],\"type\":\"histogram2d\"}],\"icicle\":[{\"textfont\":{\"color\":\"white\"},\"type\":\"icicle\"}],\"sankey\":[{\"textfont\":{\"color\":\"#000036\"},\"type\":\"sankey\"}],\"scatter\":[{\"marker\":{\"line\":{\"width\":0}},\"type\":\"scatter\"}],\"table\":[{\"cells\":{\"fill\":{\"color\":\"#000038\"},\"font\":{\"color\":\"#000037\"},\"line\":{\"color\":\"#000039\"}},\"header\":{\"fill\":{\"color\":\"#000040\"},\"font\":{\"color\":\"#000036\"},\"line\":{\"color\":\"#000039\"}},\"type\":\"table\"}],\"waterfall\":[{\"connector\":{\"line\":{\"color\":\"#000036\",\"width\":2}},\"decreasing\":{\"marker\":{\"color\":\"#000033\"}},\"increasing\":{\"marker\":{\"color\":\"#000032\"}},\"totals\":{\"marker\":{\"color\":\"#000034\"}},\"type\":\"waterfall\"}]},\"layout\":{\"coloraxis\":{\"colorscale\":[[0.0,\"#000011\"],[0.1111111111111111,\"#000012\"],[0.2222222222222222,\"#000013\"],[0.3333333333333333,\"#000014\"],[0.4444444444444444,\"#000015\"],[0.5555555555555556,\"#000016\"],[0.6666666666666666,\"#000017\"],[0.7777777777777778,\"#000018\"],[0.8888888888888888,\"#000019\"],[1.0,\"#000020\"]]},\"colorscale\":{\"diverging\":[[0.0,\"#000021\"],[0.1,\"#000022\"],[0.2,\"#000023\"],[0.3,\"#000024\"],[0.4,\"#000025\"],[0.5,\"#000026\"],[0.6,\"#000027\"],[0.7,\"#000028\"],[0.8,\"#000029\"],[0.9,\"#000030\"],[1.0,\"#000031\"]],\"sequential\":[[0.0,\"#000011\"],[0.1111111111111111,\"#000012\"],[0.2222222222222222,\"#000013\"],[0.3333333333333333,\"#000014\"],[0.4444444444444444,\"#000015\"],[0.5555555555555556,\"#000016\"],[0.6666666666666666,\"#000017\"],[0.7777777777777778,\"#000018\"],[0.8888888888888888,\"#000019\"],[1.0,\"#000020\"]],\"sequentialminus\":[[0.0,\"#000011\"],[0.1111111111111111,\"#000012\"],[0.2222222222222222,\"#000013\"],[0.3333333333333333,\"#000014\"],[0.4444444444444444,\"#000015\"],[0.5555555555555556,\"#000016\"],[0.6666666666666666,\"#000017\"],[0.7777777777777778,\"#000018\"],[0.8888888888888888,\"#000019\"],[1.0,\"#000020\"]]},\"colorway\":[\"#000001\",\"#000002\",\"#000003\",\"#000004\",\"#000005\",\"#000006\",\"#000007\",\"#000008\",\"#000009\",\"#000010\"]}}},                        {\"responsive\": true}                    ).then(function(){\n",
       "                            \n",
       "var gd = document.getElementById('cde412c2-53c2-47b0-ac40-b2d9ea7e14f6');\n",
       "var x = new MutationObserver(function (mutations, observer) {{\n",
       "        var display = window.getComputedStyle(gd).display;\n",
       "        if (!display || display === 'none') {{\n",
       "            console.log([gd, 'removed!']);\n",
       "            Plotly.purge(gd);\n",
       "            observer.disconnect();\n",
       "        }}\n",
       "}});\n",
       "\n",
       "// Listen for the removal of the full notebook cells\n",
       "var notebookContainer = gd.closest('#notebook-container');\n",
       "if (notebookContainer) {{\n",
       "    x.observe(notebookContainer, {childList: true});\n",
       "}}\n",
       "\n",
       "// Listen for the clearing of the current output cell\n",
       "var outputEl = gd.closest('.output');\n",
       "if (outputEl) {{\n",
       "    x.observe(outputEl, {childList: true});\n",
       "}}\n",
       "\n",
       "                        })                };                });            </script>        </div>"
      ]
     },
     "metadata": {},
     "output_type": "display_data"
    }
   ],
   "source": [
    "monthly_net_income(yearly_df)"
   ]
  },
  {
   "cell_type": "code",
   "execution_count": 432,
   "id": "664a0a40-f784-4af6-8ff6-52247df9415d",
   "metadata": {},
   "outputs": [],
   "source": [
    "def rent_comparison(yearly_df):\n",
    "    cols = [\"roi\", \"roi_rent\"]\n",
    "    \n",
    "    fig = go.Figure()\n",
    "    \n",
    "    for col in cols:\n",
    "        fig.add_trace(go.Scatter(\n",
    "            x=yearly_df.index + 1, \n",
    "            y=yearly_df[col], \n",
    "            mode='markers', \n",
    "            name=col,\n",
    "            hoverinfo='y',\n",
    "            #line=dict(width=4, color=colors[idx]),\n",
    "        ))\n",
    "\n",
    "    fig.show()"
   ]
  },
  {
   "cell_type": "code",
   "execution_count": 433,
   "id": "9f9bba86-5864-470f-8f16-eed5ffa796a2",
   "metadata": {},
   "outputs": [
    {
     "data": {
      "application/vnd.plotly.v1+json": {
       "config": {
        "plotlyServerURL": "https://plot.ly"
       },
       "data": [
        {
         "hoverinfo": "y",
         "mode": "markers",
         "name": "roi",
         "type": "scatter",
         "x": [
          1,
          2,
          3,
          4,
          5,
          6,
          7,
          8,
          9,
          10,
          11,
          12,
          13,
          14,
          15,
          16,
          17,
          18,
          19,
          20,
          21,
          22,
          23,
          24,
          25,
          26,
          27,
          28,
          29,
          30
         ],
         "y": [
          0.594674161964373,
          0.6893645556838783,
          0.8005645686926999,
          0.9271382090426311,
          1.0696954650119437,
          1.2288753798063088,
          1.4053477007066109,
          1.5998146338967354,
          1.8130127122048243,
          2.045714783502248,
          2.2987321280517667,
          2.5729167136829143,
          2.869163598301012,
          3.195967087764371,
          3.557841351287565,
          3.956943620096984,
          4.395575730702824,
          4.876194238192652,
          5.40142125040879,
          5.9740560348159875,
          6.59708745360189,
          7.273707286558448,
          8.007324505587386,
          8.801580569278082,
          9.660365810944024,
          10.522247770419858,
          11.325578017579959,
          12.15300817215486,
          13.00526123136701,
          13.883081882355523
         ]
        },
        {
         "hoverinfo": "y",
         "mode": "markers",
         "name": "roi_rent",
         "type": "scatter",
         "x": [
          1,
          2,
          3,
          4,
          5,
          6,
          7,
          8,
          9,
          10,
          11,
          12,
          13,
          14,
          15,
          16,
          17,
          18,
          19,
          20,
          21,
          22,
          23,
          24,
          25,
          26,
          27,
          28,
          29,
          30
         ],
         "y": [
          0.8032897133284831,
          0.7451085094650499,
          0.6900700530853681,
          0.6402115904544987,
          0.5961667017057192,
          0.5586214469987676,
          0.5283182840041971,
          0.5060602669281337,
          0.4927155470047107,
          0.4892221957850561,
          0.49659337405138115,
          0.5159228707898534,
          0.5483910383733223,
          0.5952711519431372,
          0.6579362229460045,
          0.7378662988867417,
          0.836656283610026,
          0.9560243148346267,
          1.09782073824278,
          1.264037720187248,
          1.456819544032515,
          1.6784736383065602,
          1.9314823882222059,
          2.2185157857456343,
          2.542444977262804,
          2.886575245879375,
          3.251272020108462,
          3.667376663744114,
          4.139264100501108,
          4.6716387899399345
         ]
        }
       ],
       "layout": {
        "autosize": true,
        "template": {
         "data": {
          "candlestick": [
           {
            "decreasing": {
             "line": {
              "color": "#000033"
             }
            },
            "increasing": {
             "line": {
              "color": "#000032"
             }
            },
            "type": "candlestick"
           }
          ],
          "contour": [
           {
            "colorscale": [
             [
              0,
              "#000011"
             ],
             [
              0.1111111111111111,
              "#000012"
             ],
             [
              0.2222222222222222,
              "#000013"
             ],
             [
              0.3333333333333333,
              "#000014"
             ],
             [
              0.4444444444444444,
              "#000015"
             ],
             [
              0.5555555555555556,
              "#000016"
             ],
             [
              0.6666666666666666,
              "#000017"
             ],
             [
              0.7777777777777778,
              "#000018"
             ],
             [
              0.8888888888888888,
              "#000019"
             ],
             [
              1,
              "#000020"
             ]
            ],
            "type": "contour"
           }
          ],
          "contourcarpet": [
           {
            "colorscale": [
             [
              0,
              "#000011"
             ],
             [
              0.1111111111111111,
              "#000012"
             ],
             [
              0.2222222222222222,
              "#000013"
             ],
             [
              0.3333333333333333,
              "#000014"
             ],
             [
              0.4444444444444444,
              "#000015"
             ],
             [
              0.5555555555555556,
              "#000016"
             ],
             [
              0.6666666666666666,
              "#000017"
             ],
             [
              0.7777777777777778,
              "#000018"
             ],
             [
              0.8888888888888888,
              "#000019"
             ],
             [
              1,
              "#000020"
             ]
            ],
            "type": "contourcarpet"
           }
          ],
          "heatmap": [
           {
            "colorscale": [
             [
              0,
              "#000011"
             ],
             [
              0.1111111111111111,
              "#000012"
             ],
             [
              0.2222222222222222,
              "#000013"
             ],
             [
              0.3333333333333333,
              "#000014"
             ],
             [
              0.4444444444444444,
              "#000015"
             ],
             [
              0.5555555555555556,
              "#000016"
             ],
             [
              0.6666666666666666,
              "#000017"
             ],
             [
              0.7777777777777778,
              "#000018"
             ],
             [
              0.8888888888888888,
              "#000019"
             ],
             [
              1,
              "#000020"
             ]
            ],
            "type": "heatmap"
           }
          ],
          "histogram2d": [
           {
            "colorscale": [
             [
              0,
              "#000011"
             ],
             [
              0.1111111111111111,
              "#000012"
             ],
             [
              0.2222222222222222,
              "#000013"
             ],
             [
              0.3333333333333333,
              "#000014"
             ],
             [
              0.4444444444444444,
              "#000015"
             ],
             [
              0.5555555555555556,
              "#000016"
             ],
             [
              0.6666666666666666,
              "#000017"
             ],
             [
              0.7777777777777778,
              "#000018"
             ],
             [
              0.8888888888888888,
              "#000019"
             ],
             [
              1,
              "#000020"
             ]
            ],
            "type": "histogram2d"
           }
          ],
          "icicle": [
           {
            "textfont": {
             "color": "white"
            },
            "type": "icicle"
           }
          ],
          "sankey": [
           {
            "textfont": {
             "color": "#000036"
            },
            "type": "sankey"
           }
          ],
          "scatter": [
           {
            "marker": {
             "line": {
              "width": 0
             }
            },
            "type": "scatter"
           }
          ],
          "table": [
           {
            "cells": {
             "fill": {
              "color": "#000038"
             },
             "font": {
              "color": "#000037"
             },
             "line": {
              "color": "#000039"
             }
            },
            "header": {
             "fill": {
              "color": "#000040"
             },
             "font": {
              "color": "#000036"
             },
             "line": {
              "color": "#000039"
             }
            },
            "type": "table"
           }
          ],
          "waterfall": [
           {
            "connector": {
             "line": {
              "color": "#000036",
              "width": 2
             }
            },
            "decreasing": {
             "marker": {
              "color": "#000033"
             }
            },
            "increasing": {
             "marker": {
              "color": "#000032"
             }
            },
            "totals": {
             "marker": {
              "color": "#000034"
             }
            },
            "type": "waterfall"
           }
          ]
         },
         "layout": {
          "coloraxis": {
           "colorscale": [
            [
             0,
             "#000011"
            ],
            [
             0.1111111111111111,
             "#000012"
            ],
            [
             0.2222222222222222,
             "#000013"
            ],
            [
             0.3333333333333333,
             "#000014"
            ],
            [
             0.4444444444444444,
             "#000015"
            ],
            [
             0.5555555555555556,
             "#000016"
            ],
            [
             0.6666666666666666,
             "#000017"
            ],
            [
             0.7777777777777778,
             "#000018"
            ],
            [
             0.8888888888888888,
             "#000019"
            ],
            [
             1,
             "#000020"
            ]
           ]
          },
          "colorscale": {
           "diverging": [
            [
             0,
             "#000021"
            ],
            [
             0.1,
             "#000022"
            ],
            [
             0.2,
             "#000023"
            ],
            [
             0.3,
             "#000024"
            ],
            [
             0.4,
             "#000025"
            ],
            [
             0.5,
             "#000026"
            ],
            [
             0.6,
             "#000027"
            ],
            [
             0.7,
             "#000028"
            ],
            [
             0.8,
             "#000029"
            ],
            [
             0.9,
             "#000030"
            ],
            [
             1,
             "#000031"
            ]
           ],
           "sequential": [
            [
             0,
             "#000011"
            ],
            [
             0.1111111111111111,
             "#000012"
            ],
            [
             0.2222222222222222,
             "#000013"
            ],
            [
             0.3333333333333333,
             "#000014"
            ],
            [
             0.4444444444444444,
             "#000015"
            ],
            [
             0.5555555555555556,
             "#000016"
            ],
            [
             0.6666666666666666,
             "#000017"
            ],
            [
             0.7777777777777778,
             "#000018"
            ],
            [
             0.8888888888888888,
             "#000019"
            ],
            [
             1,
             "#000020"
            ]
           ],
           "sequentialminus": [
            [
             0,
             "#000011"
            ],
            [
             0.1111111111111111,
             "#000012"
            ],
            [
             0.2222222222222222,
             "#000013"
            ],
            [
             0.3333333333333333,
             "#000014"
            ],
            [
             0.4444444444444444,
             "#000015"
            ],
            [
             0.5555555555555556,
             "#000016"
            ],
            [
             0.6666666666666666,
             "#000017"
            ],
            [
             0.7777777777777778,
             "#000018"
            ],
            [
             0.8888888888888888,
             "#000019"
            ],
            [
             1,
             "#000020"
            ]
           ]
          },
          "colorway": [
           "#000001",
           "#000002",
           "#000003",
           "#000004",
           "#000005",
           "#000006",
           "#000007",
           "#000008",
           "#000009",
           "#000010"
          ]
         }
        },
        "xaxis": {
         "autorange": true,
         "range": [
          -0.7591911764705881,
          31.759191176470587
         ],
         "type": "linear"
        },
        "yaxis": {
         "autorange": true,
         "range": [
          -0.6160963220387202,
          14.988400400179298
         ],
         "type": "linear"
        }
       }
      },
      "image/png": "[encoded data removed]",
      "text/html": [
       "<div>                            <div id=\"a8fc5cf0-18e5-4ee9-8b3b-7e6061267ed2\" class=\"plotly-graph-div\" style=\"height:525px; width:100%;\"></div>            <script type=\"text/javascript\">                require([\"plotly\"], function(Plotly) {                    window.PLOTLYENV=window.PLOTLYENV || {};                                    if (document.getElementById(\"a8fc5cf0-18e5-4ee9-8b3b-7e6061267ed2\")) {                    Plotly.newPlot(                        \"a8fc5cf0-18e5-4ee9-8b3b-7e6061267ed2\",                        [{\"hoverinfo\":\"y\",\"mode\":\"markers\",\"name\":\"roi\",\"x\":[1,2,3,4,5,6,7,8,9,10,11,12,13,14,15,16,17,18,19,20,21,22,23,24,25,26,27,28,29,30],\"y\":[0.594674161964373,0.6893645556838783,0.8005645686926999,0.9271382090426311,1.0696954650119437,1.2288753798063088,1.4053477007066109,1.5998146338967354,1.8130127122048243,2.045714783502248,2.2987321280517667,2.5729167136829143,2.869163598301012,3.195967087764371,3.557841351287565,3.956943620096984,4.395575730702824,4.876194238192652,5.40142125040879,5.9740560348159875,6.59708745360189,7.273707286558448,8.007324505587386,8.801580569278082,9.660365810944024,10.522247770419858,11.325578017579959,12.15300817215486,13.00526123136701,13.883081882355523],\"type\":\"scatter\"},{\"hoverinfo\":\"y\",\"mode\":\"markers\",\"name\":\"roi_rent\",\"x\":[1,2,3,4,5,6,7,8,9,10,11,12,13,14,15,16,17,18,19,20,21,22,23,24,25,26,27,28,29,30],\"y\":[0.8032897133284831,0.7451085094650499,0.6900700530853681,0.6402115904544987,0.5961667017057192,0.5586214469987676,0.5283182840041971,0.5060602669281337,0.4927155470047107,0.4892221957850561,0.49659337405138115,0.5159228707898534,0.5483910383733223,0.5952711519431372,0.6579362229460045,0.7378662988867417,0.836656283610026,0.9560243148346267,1.09782073824278,1.264037720187248,1.456819544032515,1.6784736383065602,1.9314823882222059,2.2185157857456343,2.542444977262804,2.886575245879375,3.251272020108462,3.667376663744114,4.139264100501108,4.6716387899399345],\"type\":\"scatter\"}],                        {\"template\":{\"data\":{\"candlestick\":[{\"decreasing\":{\"line\":{\"color\":\"#000033\"}},\"increasing\":{\"line\":{\"color\":\"#000032\"}},\"type\":\"candlestick\"}],\"contourcarpet\":[{\"colorscale\":[[0.0,\"#000011\"],[0.1111111111111111,\"#000012\"],[0.2222222222222222,\"#000013\"],[0.3333333333333333,\"#000014\"],[0.4444444444444444,\"#000015\"],[0.5555555555555556,\"#000016\"],[0.6666666666666666,\"#000017\"],[0.7777777777777778,\"#000018\"],[0.8888888888888888,\"#000019\"],[1.0,\"#000020\"]],\"type\":\"contourcarpet\"}],\"contour\":[{\"colorscale\":[[0.0,\"#000011\"],[0.1111111111111111,\"#000012\"],[0.2222222222222222,\"#000013\"],[0.3333333333333333,\"#000014\"],[0.4444444444444444,\"#000015\"],[0.5555555555555556,\"#000016\"],[0.6666666666666666,\"#000017\"],[0.7777777777777778,\"#000018\"],[0.8888888888888888,\"#000019\"],[1.0,\"#000020\"]],\"type\":\"contour\"}],\"heatmap\":[{\"colorscale\":[[0.0,\"#000011\"],[0.1111111111111111,\"#000012\"],[0.2222222222222222,\"#000013\"],[0.3333333333333333,\"#000014\"],[0.4444444444444444,\"#000015\"],[0.5555555555555556,\"#000016\"],[0.6666666666666666,\"#000017\"],[0.7777777777777778,\"#000018\"],[0.8888888888888888,\"#000019\"],[1.0,\"#000020\"]],\"type\":\"heatmap\"}],\"histogram2d\":[{\"colorscale\":[[0.0,\"#000011\"],[0.1111111111111111,\"#000012\"],[0.2222222222222222,\"#000013\"],[0.3333333333333333,\"#000014\"],[0.4444444444444444,\"#000015\"],[0.5555555555555556,\"#000016\"],[0.6666666666666666,\"#000017\"],[0.7777777777777778,\"#000018\"],[0.8888888888888888,\"#000019\"],[1.0,\"#000020\"]],\"type\":\"histogram2d\"}],\"icicle\":[{\"textfont\":{\"color\":\"white\"},\"type\":\"icicle\"}],\"sankey\":[{\"textfont\":{\"color\":\"#000036\"},\"type\":\"sankey\"}],\"scatter\":[{\"marker\":{\"line\":{\"width\":0}},\"type\":\"scatter\"}],\"table\":[{\"cells\":{\"fill\":{\"color\":\"#000038\"},\"font\":{\"color\":\"#000037\"},\"line\":{\"color\":\"#000039\"}},\"header\":{\"fill\":{\"color\":\"#000040\"},\"font\":{\"color\":\"#000036\"},\"line\":{\"color\":\"#000039\"}},\"type\":\"table\"}],\"waterfall\":[{\"connector\":{\"line\":{\"color\":\"#000036\",\"width\":2}},\"decreasing\":{\"marker\":{\"color\":\"#000033\"}},\"increasing\":{\"marker\":{\"color\":\"#000032\"}},\"totals\":{\"marker\":{\"color\":\"#000034\"}},\"type\":\"waterfall\"}]},\"layout\":{\"coloraxis\":{\"colorscale\":[[0.0,\"#000011\"],[0.1111111111111111,\"#000012\"],[0.2222222222222222,\"#000013\"],[0.3333333333333333,\"#000014\"],[0.4444444444444444,\"#000015\"],[0.5555555555555556,\"#000016\"],[0.6666666666666666,\"#000017\"],[0.7777777777777778,\"#000018\"],[0.8888888888888888,\"#000019\"],[1.0,\"#000020\"]]},\"colorscale\":{\"diverging\":[[0.0,\"#000021\"],[0.1,\"#000022\"],[0.2,\"#000023\"],[0.3,\"#000024\"],[0.4,\"#000025\"],[0.5,\"#000026\"],[0.6,\"#000027\"],[0.7,\"#000028\"],[0.8,\"#000029\"],[0.9,\"#000030\"],[1.0,\"#000031\"]],\"sequential\":[[0.0,\"#000011\"],[0.1111111111111111,\"#000012\"],[0.2222222222222222,\"#000013\"],[0.3333333333333333,\"#000014\"],[0.4444444444444444,\"#000015\"],[0.5555555555555556,\"#000016\"],[0.6666666666666666,\"#000017\"],[0.7777777777777778,\"#000018\"],[0.8888888888888888,\"#000019\"],[1.0,\"#000020\"]],\"sequentialminus\":[[0.0,\"#000011\"],[0.1111111111111111,\"#000012\"],[0.2222222222222222,\"#000013\"],[0.3333333333333333,\"#000014\"],[0.4444444444444444,\"#000015\"],[0.5555555555555556,\"#000016\"],[0.6666666666666666,\"#000017\"],[0.7777777777777778,\"#000018\"],[0.8888888888888888,\"#000019\"],[1.0,\"#000020\"]]},\"colorway\":[\"#000001\",\"#000002\",\"#000003\",\"#000004\",\"#000005\",\"#000006\",\"#000007\",\"#000008\",\"#000009\",\"#000010\"]}}},                        {\"responsive\": true}                    ).then(function(){\n",
       "                            \n",
       "var gd = document.getElementById('a8fc5cf0-18e5-4ee9-8b3b-7e6061267ed2');\n",
       "var x = new MutationObserver(function (mutations, observer) {{\n",
       "        var display = window.getComputedStyle(gd).display;\n",
       "        if (!display || display === 'none') {{\n",
       "            console.log([gd, 'removed!']);\n",
       "            Plotly.purge(gd);\n",
       "            observer.disconnect();\n",
       "        }}\n",
       "}});\n",
       "\n",
       "// Listen for the removal of the full notebook cells\n",
       "var notebookContainer = gd.closest('#notebook-container');\n",
       "if (notebookContainer) {{\n",
       "    x.observe(notebookContainer, {childList: true});\n",
       "}}\n",
       "\n",
       "// Listen for the clearing of the current output cell\n",
       "var outputEl = gd.closest('.output');\n",
       "if (outputEl) {{\n",
       "    x.observe(outputEl, {childList: true});\n",
       "}}\n",
       "\n",
       "                        })                };                });            </script>        </div>"
      ]
     },
     "metadata": {},
     "output_type": "display_data"
    }
   ],
   "source": [
    "rent_comparison(yearly_df)"
   ]
  },
  {
   "cell_type": "code",
   "execution_count": null,
   "id": "99021387-472b-4fb0-88f9-5b683af9f131",
   "metadata": {},
   "outputs": [],
   "source": []
  }
 ],
 "metadata": {
  "kernelspec": {
   "display_name": "Python 3 (ipykernel)",
   "language": "python",
   "name": "python3"
  },
  "language_info": {
   "codemirror_mode": {
    "name": "ipython",
    "version": 3
   },
   "file_extension": ".py",
   "mimetype": "text/x-python",
   "name": "python",
   "nbconvert_exporter": "python",
   "pygments_lexer": "ipython3",
   "version": "3.12.0"
  }
 },
 "nbformat": 4,
 "nbformat_minor": 5
}
