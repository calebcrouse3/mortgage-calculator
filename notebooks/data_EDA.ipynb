{
 "cells": [
  {
   "cell_type": "code",
   "execution_count": 1,
   "id": "201df2d3-2ddb-4887-8e68-9023475eb5b4",
   "metadata": {},
   "outputs": [],
   "source": [
    "import os"
   ]
  },
  {
   "cell_type": "code",
   "execution_count": 2,
   "id": "0c27e85f-cb0b-450c-8c76-3c030bea438d",
   "metadata": {},
   "outputs": [],
   "source": [
    "import pandas as pd"
   ]
  },
  {
   "cell_type": "code",
   "execution_count": 5,
   "id": "4aadab77-9063-409d-840d-f5540c861e3d",
   "metadata": {},
   "outputs": [
    {
     "data": {
      "text/plain": [
       "['census_data.csv',\n",
       " 'gz_2010_us_050_00_5m.json',\n",
       " 'county_pop_2022.csv',\n",
       " 'city_housing_data.csv']"
      ]
     },
     "execution_count": 5,
     "metadata": {},
     "output_type": "execute_result"
    }
   ],
   "source": [
    "os.listdir(\"../data/\")"
   ]
  },
  {
   "cell_type": "code",
   "execution_count": 7,
   "id": "6274c732-8f55-4d80-a74e-13a9cc3b9d07",
   "metadata": {},
   "outputs": [],
   "source": [
    "df = pd.read_csv(\"../data/census_data.csv\")"
   ]
  },
  {
   "cell_type": "code",
   "execution_count": 8,
   "id": "528ceacd-5a2f-44e5-97e3-2aef6e5f2d51",
   "metadata": {},
   "outputs": [
    {
     "data": {
      "text/html": [
       "<div>\n",
       "<style scoped>\n",
       "    .dataframe tbody tr th:only-of-type {\n",
       "        vertical-align: middle;\n",
       "    }\n",
       "\n",
       "    .dataframe tbody tr th {\n",
       "        vertical-align: top;\n",
       "    }\n",
       "\n",
       "    .dataframe thead th {\n",
       "        text-align: right;\n",
       "    }\n",
       "</style>\n",
       "<table border=\"1\" class=\"dataframe\">\n",
       "  <thead>\n",
       "    <tr style=\"text-align: right;\">\n",
       "      <th></th>\n",
       "      <th>total_population</th>\n",
       "      <th>median_home_value</th>\n",
       "      <th>median_gross_rent</th>\n",
       "      <th>state</th>\n",
       "      <th>zip_code</th>\n",
       "    </tr>\n",
       "  </thead>\n",
       "  <tbody>\n",
       "    <tr>\n",
       "      <th>0</th>\n",
       "      <td>17113</td>\n",
       "      <td>83900</td>\n",
       "      <td>14361</td>\n",
       "      <td>72</td>\n",
       "      <td>601</td>\n",
       "    </tr>\n",
       "    <tr>\n",
       "      <th>1</th>\n",
       "      <td>37751</td>\n",
       "      <td>85300</td>\n",
       "      <td>16807</td>\n",
       "      <td>72</td>\n",
       "      <td>602</td>\n",
       "    </tr>\n",
       "    <tr>\n",
       "      <th>2</th>\n",
       "      <td>47081</td>\n",
       "      <td>118400</td>\n",
       "      <td>16049</td>\n",
       "      <td>72</td>\n",
       "      <td>603</td>\n",
       "    </tr>\n",
       "    <tr>\n",
       "      <th>3</th>\n",
       "      <td>6392</td>\n",
       "      <td>80800</td>\n",
       "      <td>12119</td>\n",
       "      <td>72</td>\n",
       "      <td>606</td>\n",
       "    </tr>\n",
       "    <tr>\n",
       "      <th>4</th>\n",
       "      <td>26686</td>\n",
       "      <td>87600</td>\n",
       "      <td>19898</td>\n",
       "      <td>72</td>\n",
       "      <td>610</td>\n",
       "    </tr>\n",
       "  </tbody>\n",
       "</table>\n",
       "</div>"
      ],
      "text/plain": [
       "   total_population  median_home_value  median_gross_rent  state  zip_code\n",
       "0             17113              83900              14361     72       601\n",
       "1             37751              85300              16807     72       602\n",
       "2             47081             118400              16049     72       603\n",
       "3              6392              80800              12119     72       606\n",
       "4             26686              87600              19898     72       610"
      ]
     },
     "execution_count": 8,
     "metadata": {},
     "output_type": "execute_result"
    }
   ],
   "source": [
    "df.head()"
   ]
  },
  {
   "cell_type": "code",
   "execution_count": 9,
   "id": "074a6bdb-9d7a-48af-a6cc-35b8319995c5",
   "metadata": {},
   "outputs": [
    {
     "data": {
      "text/plain": [
       "52"
      ]
     },
     "execution_count": 9,
     "metadata": {},
     "output_type": "execute_result"
    }
   ],
   "source": [
    "df[\"state\"].nunique()"
   ]
  },
  {
   "cell_type": "code",
   "execution_count": 11,
   "id": "ce72d7be-5b19-482a-9daa-ebdafcad16d7",
   "metadata": {},
   "outputs": [
    {
     "data": {
      "text/plain": [
       "array([  601,   602,   603, ..., 99926, 99927, 99929])"
      ]
     },
     "execution_count": 11,
     "metadata": {},
     "output_type": "execute_result"
    }
   ],
   "source": [
    "df[\"zip_code\"].unique()"
   ]
  },
  {
   "cell_type": "code",
   "execution_count": null,
   "id": "e4ba7167-7727-4d65-b210-9472d2308bc1",
   "metadata": {},
   "outputs": [],
   "source": []
  }
 ],
 "metadata": {
  "kernelspec": {
   "display_name": "Python 3 (ipykernel)",
   "language": "python",
   "name": "python3"
  },
  "language_info": {
   "codemirror_mode": {
    "name": "ipython",
    "version": 3
   },
   "file_extension": ".py",
   "mimetype": "text/x-python",
   "name": "python",
   "nbconvert_exporter": "python",
   "pygments_lexer": "ipython3",
   "version": "3.12.0"
  }
 },
 "nbformat": 4,
 "nbformat_minor": 5
}
