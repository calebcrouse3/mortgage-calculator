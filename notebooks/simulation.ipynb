{
 "cells": [
  {
   "cell_type": "code",
   "execution_count": 6,
   "id": "a7585b7f",
   "metadata": {},
   "outputs": [],
   "source": [
    "from mortgage_calculator.calculator import *\n",
    "from itables import show"
   ]
  },
  {
   "cell_type": "code",
   "execution_count": 2,
   "id": "5b915c70",
   "metadata": {},
   "outputs": [],
   "source": [
    "inputs = Inputs()"
   ]
  },
  {
   "cell_type": "code",
   "execution_count": 3,
   "id": "f5944fe9",
   "metadata": {},
   "outputs": [
    {
     "data": {
      "text/plain": [
       "{'mo_extra_payment': 300,\n",
       " 'num_extra_payments': 12,\n",
       " 'extra_payments_portfolio_growth': 0.04,\n",
       " 'rent_exp': 1500,\n",
       " 'rent_surplus_portfolio_growth': 0.04,\n",
       " 'realtor_rate': 0.06,\n",
       " 'capital_gains_tax_rate': 0.15,\n",
       " 'mo_rent_income': 0,\n",
       " 'mo_other_income': 0,\n",
       " 'vacancy_rate': 0.05,\n",
       " 'management_rate': 0.1,\n",
       " 'income_tax_rate': 0.25,\n",
       " 'yr_home_appreciation': 0.03,\n",
       " 'yr_inflation_rate': 0.03,\n",
       " 'yr_rent_increase': 0.03,\n",
       " 'yr_property_tax_rate': 0.01,\n",
       " 'yr_insurance_rate': 0.0035,\n",
       " 'mo_hoa_fees': 0,\n",
       " 'mo_utility': 200,\n",
       " 'yr_maintenance': 0.015,\n",
       " 'home_price': 300000,\n",
       " 'rehab': 1000,\n",
       " 'down_payment': 50000,\n",
       " 'interest_rate': 0.065,\n",
       " 'closing_costs_rate': 0.03,\n",
       " 'pmi_rate': 0.005,\n",
       " 'closing_costs': 9000.0,\n",
       " 'cash_outlay': 60000.0,\n",
       " 'loan_amount': 250000,\n",
       " 'monthly_payment': 1580.1700587324133}"
      ]
     },
     "execution_count": 3,
     "metadata": {},
     "output_type": "execute_result"
    }
   ],
   "source": [
    "inputs.to_dict()"
   ]
  },
  {
   "cell_type": "code",
   "execution_count": 4,
   "id": "ca92af21",
   "metadata": {},
   "outputs": [],
   "source": [
    "monthly_df = get_monthly_sim_df(inputs)"
   ]
  },
  {
   "cell_type": "code",
   "execution_count": 8,
   "id": "a871c71a",
   "metadata": {},
   "outputs": [],
   "source": [
    "yearly_df = get_yearly_agg_df(inputs, monthly_df)"
   ]
  },
  {
   "cell_type": "code",
   "execution_count": 10,
   "id": "ca5cc121",
   "metadata": {},
   "outputs": [],
   "source": [
    "# show(yearly_df)"
   ]
  }
 ],
 "metadata": {
  "kernelspec": {
   "display_name": "Python 3 (ipykernel)",
   "language": "python",
   "name": "python3"
  },
  "language_info": {
   "codemirror_mode": {
    "name": "ipython",
    "version": 3
   },
   "file_extension": ".py",
   "mimetype": "text/x-python",
   "name": "python",
   "nbconvert_exporter": "python",
   "pygments_lexer": "ipython3",
   "version": "3.12.4"
  }
 },
 "nbformat": 4,
 "nbformat_minor": 5
}
