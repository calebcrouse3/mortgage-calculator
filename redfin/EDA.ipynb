{
 "cells": [
  {
   "cell_type": "code",
   "execution_count": 159,
   "id": "9fea79e1-3a11-436b-9cea-f1c7ef5c49d4",
   "metadata": {},
   "outputs": [],
   "source": [
    "import os\n",
    "import pandas as pd\n",
    "import numpy as np\n",
    "from itables import show\n",
    "from print_matrix import print_matrix\n",
    "import matplotlib.pyplot as plt\n",
    "from mortgage_calculator.utils_finance import add_growth"
   ]
  },
  {
   "cell_type": "code",
   "execution_count": 3,
   "id": "9d4c4e38-91e6-4b49-a598-155bffdecc3b",
   "metadata": {},
   "outputs": [
    {
     "data": {
      "text/plain": [
       "['state_market_tracker.tsv000',\n",
       " 'neighborhood_market_tracker.tsv000',\n",
       " 'zip_code_market_tracker.tsv000',\n",
       " '.gitignore',\n",
       " 'us_national_market_tracker.tsv000',\n",
       " 'redfin_metro_market_tracker.tsv000',\n",
       " 'county_market_tracker.tsv000',\n",
       " 'city_market_tracker.tsv000']"
      ]
     },
     "execution_count": 3,
     "metadata": {},
     "output_type": "execute_result"
    }
   ],
   "source": [
    "os.listdir(\"./data\")"
   ]
  },
  {
   "cell_type": "code",
   "execution_count": 39,
   "id": "2fcf2679-2d0a-4d67-aaca-257fb62e3b0c",
   "metadata": {},
   "outputs": [
    {
     "name": "stdout",
     "output_type": "stream",
     "text": [
      "state_market_tracker.tsv000 35171\n",
      "neighborhood_market_tracker.tsv000 11880115\n",
      "zip_code_market_tracker.tsv000 7705116\n",
      ".gitignore 1\n",
      "us_national_market_tracker.tsv000 1584\n",
      "redfin_metro_market_tracker.tsv000 416926\n",
      "county_market_tracker.tsv000 1018887\n",
      "city_market_tracker.tsv000 5164217\n"
     ]
    }
   ],
   "source": [
    "# read each table separated table in \"./data\" and print the number of rows\n",
    "for file in os.listdir(\"./data\"):\n",
    "    df = pd.read_table(\"./data/\" + file, sep=\"\\t\")\n",
    "    print(file, df.shape[0])"
   ]
  },
  {
   "cell_type": "code",
   "execution_count": 90,
   "id": "ee7bd712",
   "metadata": {},
   "outputs": [],
   "source": [
    "df = pd.read_table(\"./data/city_market_tracker.tsv000\", sep=\"\\t\")"
   ]
  },
  {
   "cell_type": "code",
   "execution_count": 91,
   "id": "19d5748f",
   "metadata": {},
   "outputs": [
    {
     "name": "stdout",
     "output_type": "stream",
     "text": [
      "avg_sale_to_list                avg_sale_to_list_mom            avg_sale_to_list_yoy            city                            \n",
      "homes_sold                      homes_sold_mom                  homes_sold_yoy                  inventory                       \n",
      "inventory_mom                   inventory_yoy                   is_seasonally_adjusted          last_updated                    \n",
      "median_dom                      median_dom_mom                  median_dom_yoy                  median_list_ppsf                \n",
      "median_list_ppsf_mom            median_list_ppsf_yoy            median_list_price               median_list_price_mom           \n",
      "median_list_price_yoy           median_ppsf                     median_ppsf_mom                 median_ppsf_yoy                 \n",
      "median_sale_price               median_sale_price_mom           median_sale_price_yoy           months_of_supply                \n",
      "months_of_supply_mom            months_of_supply_yoy            new_listings                    new_listings_mom                \n",
      "new_listings_yoy                off_market_in_two_weeks         off_market_in_two_weeks_mom     off_market_in_two_weeks_yoy     \n",
      "parent_metro_region             parent_metro_region_metro_code  pending_sales                   pending_sales_mom               \n",
      "pending_sales_yoy               period_begin                    period_duration                 period_end                      \n",
      "price_drops                     price_drops_mom                 price_drops_yoy                 property_type                   \n",
      "property_type_id                region                          region_type                     region_type_id                  \n",
      "sold_above_list                 sold_above_list_mom             sold_above_list_yoy             state                           \n",
      "state_code                      table_id                        "
     ]
    }
   ],
   "source": [
    "print_matrix(sorted(df.columns), 4)"
   ]
  },
  {
   "cell_type": "code",
   "execution_count": 92,
   "id": "7f8a41ce",
   "metadata": {},
   "outputs": [
    {
     "data": {
      "text/plain": [
       "property_type\n",
       "All Residential              1986669\n",
       "Single Family Residential    1951089\n",
       "Condo/Co-op                   508323\n",
       "Townhouse                     423089\n",
       "Multi-Family (2-4 Unit)       295047\n",
       "Name: count, dtype: int64"
      ]
     },
     "execution_count": 92,
     "metadata": {},
     "output_type": "execute_result"
    }
   ],
   "source": [
    "df[\"property_type\"].value_counts()"
   ]
  },
  {
   "cell_type": "code",
   "execution_count": 93,
   "id": "517dfc48",
   "metadata": {},
   "outputs": [],
   "source": [
    "cols = [\n",
    "    #\"table_id\",\n",
    "    \"parent_metro_region\",\n",
    "    \"state_code\",\n",
    "    #\"parent_metro_region_metro_code\",\n",
    "    \"region_type\",\n",
    "    \"region\",\n",
    "    \"city\",\n",
    "    \"period_begin\",\n",
    "    #\"period_end\",\n",
    "    \"last_updated\",\n",
    "    \"property_type\",\n",
    "    #\"median_dom\",\n",
    "    #\"median_list_ppsf_mon\",\n",
    "    #\"median_list_price_yoy\",\n",
    "    \"median_sale_price\",\n",
    "    #\"median_dom_mom\",\n",
    "    #\"median_list_ppsf_yoy\",\n",
    "    \"median_ppsf\",\n",
    "    #\"median_sale_price_mom\",\n",
    "    #\"median_dom_yoy\",\n",
    "    \"median_list_price\",\n",
    "    #\"median_ppsf_mom\",\n",
    "    \"median_sale_price_yoy\",\n",
    "    \"median_list_ppsf\",\n",
    "    #\"median_list_price_mom\",\n",
    "    \"median_ppsf_yoy\",\n",
    "]"
   ]
  },
  {
   "cell_type": "code",
   "execution_count": 217,
   "id": "d2d6c691",
   "metadata": {},
   "outputs": [],
   "source": [
    "# for each region, get cagr (10 years), last median sale price, and last median ppsf\n",
    "\n",
    "def cagr(begining, ending, periods):\n",
    "    return (ending / begining) ** (1 / periods) - 1\n",
    "\n",
    "\n",
    "def munge_data(input_df):\n",
    "\n",
    "    begin_year = 2013\n",
    "    end_year = 2023\n",
    "    ref_month = 12\n",
    "\n",
    "    cols = [\n",
    "        \"parent_metro_region\",\n",
    "        \"state_code\",\n",
    "        \"region_type\",\n",
    "        \"region\",\n",
    "        \"period_begin\",\n",
    "        \"last_updated\",\n",
    "        \"property_type\",\n",
    "        \"median_sale_price\",\n",
    "        \"median_ppsf\",\n",
    "    ]\n",
    "\n",
    "    # drop any rows where last_updated is before 2024\n",
    "    input_df = input_df[input_df[\"last_updated\"] >= \"2024-01-01\"]\n",
    "\n",
    "    # restrict to just single family homes\n",
    "    df = input_df.loc[(input_df[\"property_type\"] == \"Single Family Residential\"), cols]\n",
    "\n",
    "    # parse period begin as year and month\n",
    "    df[\"period_begin\"] = pd.to_datetime(df[\"period_begin\"])\n",
    "    df[\"period_begin_year\"] = df[\"period_begin\"].dt.year\n",
    "    df[\"period_begin_month\"] = df[\"period_begin\"].dt.month\n",
    "\n",
    "    # restrict to the last month of each year\n",
    "    df = df[df[\"period_begin_month\"] == ref_month]\n",
    "\n",
    "    # drop unnecessary columns: period_begin_month, period_begin, last_updated, property_type\n",
    "    df = df.drop(\n",
    "        columns=[\"period_begin_month\", \"period_begin\", \"last_updated\", \"property_type\"]\n",
    "    )\n",
    "\n",
    "    begin_year_df = df[df[\"period_begin_year\"] == begin_year]\n",
    "    end_year_df = df[df[\"period_begin_year\"] == end_year]\n",
    "\n",
    "    # merge begin and end year data\n",
    "    df = pd.merge(\n",
    "        begin_year_df,\n",
    "        end_year_df,\n",
    "        on=[\"parent_metro_region\", \"state_code\", \"region_type\", \"region\"],\n",
    "        suffixes=(\"_begin\", \"_end\"),\n",
    "    )\n",
    "\n",
    "    df[\"median_sale_price_cagr\"] = cagr(\n",
    "        df[\"median_sale_price_begin\"],\n",
    "        df[\"median_sale_price_end\"],\n",
    "        end_year - begin_year,\n",
    "    )\n",
    "\n",
    "    df[\"median_ppsf_cagr\"] = cagr(\n",
    "        df[\"median_ppsf_begin\"], df[\"median_ppsf_end\"], end_year - begin_year\n",
    "    )\n",
    "\n",
    "    # drop median_sale_price_begin, median_ppsf_begin, period_begin_year_begin, period_begin_year_end\n",
    "    df = df.drop(\n",
    "        columns=[\n",
    "            \"median_sale_price_begin\",\n",
    "            \"median_ppsf_begin\",\n",
    "            \"period_begin_year_begin\",\n",
    "            \"period_begin_year_end\",\n",
    "        ]\n",
    "    )\n",
    "\n",
    "    # rename columns\n",
    "    df = df.rename(\n",
    "        columns={\n",
    "            \"median_sale_price_end\": \"median_sale_price\",\n",
    "            \"median_ppsf_end\": \"median_ppsf\",\n",
    "        }\n",
    "    )\n",
    "\n",
    "    return df\n",
    "    "
   ]
  },
  {
   "cell_type": "code",
   "execution_count": 218,
   "id": "0fe939ca",
   "metadata": {},
   "outputs": [],
   "source": [
    "df1 = munge_data(df)"
   ]
  },
  {
   "cell_type": "code",
   "execution_count": 219,
   "id": "af777f12",
   "metadata": {},
   "outputs": [
    {
     "data": {
      "text/html": [
       "<div>\n",
       "<style scoped>\n",
       "    .dataframe tbody tr th:only-of-type {\n",
       "        vertical-align: middle;\n",
       "    }\n",
       "\n",
       "    .dataframe tbody tr th {\n",
       "        vertical-align: top;\n",
       "    }\n",
       "\n",
       "    .dataframe thead th {\n",
       "        text-align: right;\n",
       "    }\n",
       "</style>\n",
       "<table border=\"1\" class=\"dataframe\">\n",
       "  <thead>\n",
       "    <tr style=\"text-align: right;\">\n",
       "      <th></th>\n",
       "      <th>parent_metro_region</th>\n",
       "      <th>state_code</th>\n",
       "      <th>region_type</th>\n",
       "      <th>region</th>\n",
       "      <th>median_sale_price</th>\n",
       "      <th>median_ppsf</th>\n",
       "      <th>median_sale_price_cagr</th>\n",
       "      <th>median_ppsf_cagr</th>\n",
       "    </tr>\n",
       "  </thead>\n",
       "  <tbody>\n",
       "    <tr>\n",
       "      <th>0</th>\n",
       "      <td>Washington, DC</td>\n",
       "      <td>VA</td>\n",
       "      <td>place</td>\n",
       "      <td>Front Royal, VA</td>\n",
       "      <td>291000.0</td>\n",
       "      <td>176.404854</td>\n",
       "      <td>0.044935</td>\n",
       "      <td>0.045151</td>\n",
       "    </tr>\n",
       "    <tr>\n",
       "      <th>1</th>\n",
       "      <td>Peoria, IL</td>\n",
       "      <td>IL</td>\n",
       "      <td>place</td>\n",
       "      <td>Avon, IL</td>\n",
       "      <td>145000.0</td>\n",
       "      <td>66.270567</td>\n",
       "      <td>0.103818</td>\n",
       "      <td>0.081211</td>\n",
       "    </tr>\n",
       "    <tr>\n",
       "      <th>2</th>\n",
       "      <td>Warren, MI</td>\n",
       "      <td>MI</td>\n",
       "      <td>place</td>\n",
       "      <td>Marysville, MI</td>\n",
       "      <td>208000.0</td>\n",
       "      <td>180.555556</td>\n",
       "      <td>0.036739</td>\n",
       "      <td>0.068348</td>\n",
       "    </tr>\n",
       "    <tr>\n",
       "      <th>3</th>\n",
       "      <td>New Orleans, LA</td>\n",
       "      <td>LA</td>\n",
       "      <td>place</td>\n",
       "      <td>Gramercy, LA</td>\n",
       "      <td>169000.0</td>\n",
       "      <td>134.768740</td>\n",
       "      <td>0.038471</td>\n",
       "      <td>0.056466</td>\n",
       "    </tr>\n",
       "    <tr>\n",
       "      <th>4</th>\n",
       "      <td>Detroit, MI</td>\n",
       "      <td>MI</td>\n",
       "      <td>place</td>\n",
       "      <td>Northville, MI</td>\n",
       "      <td>515000.0</td>\n",
       "      <td>249.510763</td>\n",
       "      <td>0.048424</td>\n",
       "      <td>0.051372</td>\n",
       "    </tr>\n",
       "  </tbody>\n",
       "</table>\n",
       "</div>"
      ],
      "text/plain": [
       "  parent_metro_region state_code region_type           region  \\\n",
       "0      Washington, DC         VA       place  Front Royal, VA   \n",
       "1          Peoria, IL         IL       place         Avon, IL   \n",
       "2          Warren, MI         MI       place   Marysville, MI   \n",
       "3     New Orleans, LA         LA       place     Gramercy, LA   \n",
       "4         Detroit, MI         MI       place   Northville, MI   \n",
       "\n",
       "   median_sale_price  median_ppsf  median_sale_price_cagr  median_ppsf_cagr  \n",
       "0           291000.0   176.404854                0.044935          0.045151  \n",
       "1           145000.0    66.270567                0.103818          0.081211  \n",
       "2           208000.0   180.555556                0.036739          0.068348  \n",
       "3           169000.0   134.768740                0.038471          0.056466  \n",
       "4           515000.0   249.510763                0.048424          0.051372  "
      ]
     },
     "execution_count": 219,
     "metadata": {},
     "output_type": "execute_result"
    }
   ],
   "source": [
    "df1.head()"
   ]
  },
  {
   "cell_type": "code",
   "execution_count": 220,
   "id": "2f3a10a5",
   "metadata": {},
   "outputs": [
    {
     "data": {
      "text/plain": [
       "(10179, 8)"
      ]
     },
     "execution_count": 220,
     "metadata": {},
     "output_type": "execute_result"
    }
   ],
   "source": [
    "df1.shape"
   ]
  },
  {
   "cell_type": "code",
   "execution_count": 222,
   "id": "cc6e1d2b",
   "metadata": {},
   "outputs": [],
   "source": [
    "df1.to_csv(\"../mortgage_calculator/data/city_housing_data.csv\", index=False)"
   ]
  },
  {
   "cell_type": "code",
   "execution_count": 216,
   "id": "840d2c58",
   "metadata": {},
   "outputs": [
    {
     "data": {
      "image/png": "[encoded data removed]",
      "text/plain": [
       "<Figure size 640x480 with 1 Axes>"
      ]
     },
     "metadata": {},
     "output_type": "display_data"
    }
   ],
   "source": [
    "# plot median sale price cagr vs median ppsf cagr\n",
    "plt.scatter(df1[\"median_sale_price_cagr\"], df1[\"median_ppsf_cagr\"])\n",
    "\n",
    "plt.plot([-0.3, 0.5], [-0.3, 0.5], color=\"red\")\n",
    "plt.xlabel(\"median sale price cagr\")\n",
    "plt.ylabel(\"median ppsf cagr\")\n",
    "plt.show()\n"
   ]
  }
 ],
 "metadata": {
  "kernelspec": {
   "display_name": "Python 3 (ipykernel)",
   "language": "python",
   "name": "python3"
  },
  "language_info": {
   "codemirror_mode": {
    "name": "ipython",
    "version": 3
   },
   "file_extension": ".py",
   "mimetype": "text/x-python",
   "name": "python",
   "nbconvert_exporter": "python",
   "pygments_lexer": "ipython3",
   "version": "3.12.0"
  }
 },
 "nbformat": 4,
 "nbformat_minor": 5
}
